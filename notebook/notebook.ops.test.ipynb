{
 "cells": [
  {
   "cell_type": "code",
   "id": "initial_id",
   "metadata": {
    "collapsed": true
   },
   "source": [
    "import numpy as np\n",
    "\n",
    "from fuzzlab.core.fuzzarray import fuzzarray\n",
    "from fuzzlab.core.fuzznums import Fuzznum\n",
    "from fuzzlab.core.ops import get_operation_registry\n",
    "from fuzzlab.modules.qrofs.op import register_qrofn_operations\n",
    "register_qrofn_operations()\n",
    "operation_registry = get_operation_registry()"
   ],
   "outputs": [],
   "execution_count": null
  },
  {
   "metadata": {},
   "cell_type": "code",
   "source": [
    "f1 = Fuzznum('qrofn', 3).create(md = 0.7, nmd=0.4)\n",
    "f2 = Fuzznum('qrofn', 3).create(md = 0.5, nmd=0.7)\n",
    "\n",
    "fy1 = [[Fuzznum('qrofn', qrung=3).create(md=0.7, nmd=0.4),\n",
    "        Fuzznum('qrofn', qrung=3).create(md=0.5, nmd=0.6),\n",
    "        Fuzznum('qrofn', qrung=3).create(md=0.8, nmd=0.3)],\n",
    "       [Fuzznum('qrofn', qrung=3).create(md=0.4, nmd=0.2),\n",
    "        Fuzznum('qrofn', qrung=3).create(md=0.5, nmd=0.7),\n",
    "        Fuzznum('qrofn', qrung=3).create(md=0.5, nmd=0.1)],\n",
    "       [Fuzznum('qrofn', qrung=3).create(md=0.8, nmd=0.6),\n",
    "        Fuzznum('qrofn', qrung=3).create(md=0.2, nmd=0.3),\n",
    "        Fuzznum('qrofn', qrung=3).create(md=0.6, nmd=0.3)]]\n",
    "\n",
    "fy2 = [[Fuzznum('qrofn', qrung=3).create(md=0.2, nmd=0.8),\n",
    "        Fuzznum('qrofn', qrung=3).create(md=0.8, nmd=0.5),\n",
    "        Fuzznum('qrofn', qrung=3).create(md=0.3, nmd=0.5)],\n",
    "       [Fuzznum('qrofn', qrung=3).create(md=0.4, nmd=0.4),\n",
    "        Fuzznum('qrofn', qrung=3).create(md=0.1, nmd=0.7),\n",
    "        Fuzznum('qrofn', qrung=3).create(md=0.9, nmd=0.3)],\n",
    "       [Fuzznum('qrofn', qrung=3).create(md=0.3, nmd=0.3),\n",
    "        Fuzznum('qrofn', qrung=3).create(md=0.4, nmd=0.7),\n",
    "        Fuzznum('qrofn', qrung=3).create(md=0.6, nmd=0.2)]]\n",
    "s1 = fuzzarray(fy1)\n",
    "s2 = fuzzarray(fy2)\n",
    "\n",
    "n = np.random.rand(3,3)"
   ],
   "id": "7829c6271426c353",
   "outputs": [],
   "execution_count": null
  },
  {
   "metadata": {},
   "cell_type": "markdown",
   "source": [
    "### addition\n",
    "1. Fuzznum + Fuzznum\n",
    "2. Fuzznum + Fuzzarray\n",
    "3. Fuzzarray + Fuzznum\n",
    "4. Fuzzarray + Fuzzarray"
   ],
   "id": "17c9ddbadf1048aa"
  },
  {
   "metadata": {},
   "cell_type": "code",
   "source": "f1 + f2",
   "id": "6a91b4f807db742a",
   "outputs": [],
   "execution_count": null
  },
  {
   "metadata": {},
   "cell_type": "code",
   "source": "f1 + s1",
   "id": "5027d6649ba6c6a5",
   "outputs": [],
   "execution_count": null
  },
  {
   "metadata": {},
   "cell_type": "code",
   "source": "s2 + f2",
   "id": "a867dd2cec0719f3",
   "outputs": [],
   "execution_count": null
  },
  {
   "metadata": {},
   "cell_type": "code",
   "source": "s1 + s2",
   "id": "816379cc1ece497d",
   "outputs": [],
   "execution_count": null
  },
  {
   "metadata": {},
   "cell_type": "markdown",
   "source": [
    "### subtraction\n",
    "1. Fuzznum + Fuzznum\n",
    "2. Fuzznum + Fuzzarray\n",
    "3. Fuzzarray + Fuzznum\n",
    "4. Fuzzarray + Fuzzarray"
   ],
   "id": "9a0efdd7a86187fb"
  },
  {
   "metadata": {},
   "cell_type": "code",
   "source": "f1 - f2",
   "id": "9f64f784ad6081aa",
   "outputs": [],
   "execution_count": null
  },
  {
   "metadata": {},
   "cell_type": "code",
   "source": "f1 - s1",
   "id": "ed84c6b5573188a0",
   "outputs": [],
   "execution_count": null
  },
  {
   "metadata": {},
   "cell_type": "code",
   "source": "s2 - f2",
   "id": "92f9f770c88b0ad",
   "outputs": [],
   "execution_count": null
  },
  {
   "metadata": {},
   "cell_type": "code",
   "source": "s1 - s2",
   "id": "220a9e744e86993",
   "outputs": [],
   "execution_count": null
  },
  {
   "metadata": {},
   "cell_type": "markdown",
   "source": [
    "### Multiplication\n",
    "\n",
    "---\n",
    "1. Fuzznum * Fuzznum\n",
    "2. Fuzznum * int | float\n",
    "3. Fuzznum * ndarray\n",
    "4. Fuzznum * Fuzzarray\n",
    "---\n",
    "5. Fuzzarray * Fuzznum\n",
    "6. Fuzzarray * int | float\n",
    "7. Fuzzarray * ndarray\n",
    "8. Fuzzarray * Fuzzarray\n",
    "---\n",
    "9. int | float * Fuzznum\n",
    "10. int | float * Fuzzarray\n",
    "11. ndarray * Fuzznum\n",
    "12. ndarray * Fuzzarray"
   ],
   "id": "c8fb79d62eb8e2ac"
  },
  {
   "metadata": {},
   "cell_type": "code",
   "source": "f1 * f2",
   "id": "fa2c8c7a2f383b2e",
   "outputs": [],
   "execution_count": null
  },
  {
   "metadata": {},
   "cell_type": "code",
   "source": "f1 * 0.5",
   "id": "46b4a5073aa7ac37",
   "outputs": [],
   "execution_count": null
  },
  {
   "metadata": {},
   "cell_type": "code",
   "source": "f1 * n",
   "id": "7d96695ae1341f2a",
   "outputs": [],
   "execution_count": null
  },
  {
   "metadata": {},
   "cell_type": "code",
   "source": "f1 * s1",
   "id": "c1dd3ad3cc6121c1",
   "outputs": [],
   "execution_count": null
  },
  {
   "metadata": {},
   "cell_type": "code",
   "source": "s1 * f1",
   "id": "38a8683b1d62ab0a",
   "outputs": [],
   "execution_count": null
  },
  {
   "metadata": {},
   "cell_type": "code",
   "source": "s1 * 0.5",
   "id": "763b26f305f268f4",
   "outputs": [],
   "execution_count": null
  },
  {
   "metadata": {},
   "cell_type": "code",
   "source": "s1 * n",
   "id": "8c8b2e5ffeb86a9f",
   "outputs": [],
   "execution_count": null
  },
  {
   "metadata": {},
   "cell_type": "code",
   "source": "s1 * s2",
   "id": "3eaf6cfec95d47c",
   "outputs": [],
   "execution_count": null
  },
  {
   "metadata": {},
   "cell_type": "code",
   "source": "0.5 * f1",
   "id": "95dc06e6cadb97d1",
   "outputs": [],
   "execution_count": null
  },
  {
   "metadata": {},
   "cell_type": "code",
   "source": "0.5 * s1",
   "id": "69594cb4ae68778",
   "outputs": [],
   "execution_count": null
  },
  {
   "metadata": {},
   "cell_type": "code",
   "source": "n * f1",
   "id": "8ee2cae2fb565030",
   "outputs": [],
   "execution_count": null
  },
  {
   "metadata": {},
   "cell_type": "code",
   "source": "n * s1",
   "id": "d26ccc8c60eaf6cf",
   "outputs": [],
   "execution_count": null
  },
  {
   "metadata": {},
   "cell_type": "markdown",
   "source": [
    "### Division\n",
    "1. Fuzznum / Fuzznum\n",
    "2. Fuzznum / Fuzzarray\n",
    "3. Fuzznum / int | float\n",
    "4. Fuzznum / ndarray\n",
    "---\n",
    "5. Fuzzarray / Fuzznum\n",
    "6. Fuzzarray / Fuzzarray\n",
    "7. Fuzzarray / int | float\n",
    "8. Fuzzarray / ndarray"
   ],
   "id": "494a49daf463d0c0"
  },
  {
   "metadata": {},
   "cell_type": "code",
   "source": "f1 / f2",
   "id": "ffdcf9223c7a42be",
   "outputs": [],
   "execution_count": null
  },
  {
   "metadata": {},
   "cell_type": "code",
   "source": "f1 / s1",
   "id": "d7dc64ac3f60cff2",
   "outputs": [],
   "execution_count": null
  },
  {
   "metadata": {},
   "cell_type": "code",
   "source": "f1 / 2",
   "id": "a4092f1bddefc31c",
   "outputs": [],
   "execution_count": null
  },
  {
   "metadata": {},
   "cell_type": "code",
   "source": "f1 / n",
   "id": "eb977685cec7b9a2",
   "outputs": [],
   "execution_count": null
  },
  {
   "metadata": {},
   "cell_type": "code",
   "source": "s1 / f1",
   "id": "fa19407f7859fdca",
   "outputs": [],
   "execution_count": null
  },
  {
   "metadata": {},
   "cell_type": "code",
   "source": "s1 / s2",
   "id": "51ff500e2c8c9003",
   "outputs": [],
   "execution_count": null
  },
  {
   "metadata": {},
   "cell_type": "code",
   "source": "s1 / 2",
   "id": "b9b1287456df99fb",
   "outputs": [],
   "execution_count": null
  },
  {
   "metadata": {},
   "cell_type": "code",
   "source": "s1 / n",
   "id": "f2ba23be3f446a95",
   "outputs": [],
   "execution_count": null
  },
  {
   "metadata": {},
   "cell_type": "markdown",
   "source": [
    "### power\n",
    "1. Fuzznum ^ int | float\n",
    "2. Fuzznum ^ ndarray\n",
    "3. Fuzzarray ^ int | float\n",
    "4. Fuzzarray ^ ndarray"
   ],
   "id": "8e0aac8006fac85a"
  },
  {
   "metadata": {},
   "cell_type": "code",
   "source": "f1 ** 2",
   "id": "d12467b67a93f53f",
   "outputs": [],
   "execution_count": null
  },
  {
   "metadata": {},
   "cell_type": "code",
   "source": "f1 ** n",
   "id": "62b535e6b717ef31",
   "outputs": [],
   "execution_count": null
  },
  {
   "metadata": {},
   "cell_type": "code",
   "source": "s1 ** 2",
   "id": "2b87a05044542757",
   "outputs": [],
   "execution_count": null
  },
  {
   "metadata": {},
   "cell_type": "code",
   "source": "s1 ** n",
   "id": "dfc2112377b9dcbb",
   "outputs": [],
   "execution_count": null
  },
  {
   "metadata": {},
   "cell_type": "markdown",
   "source": [
    "### greater\n",
    "1. Fuzznum > Fuzznum\n",
    "2. Fuzznum > Fuzzarray\n",
    "3. Fuzzarray > Fuzznum\n",
    "4. Fuzzarray > Fuzzarray"
   ],
   "id": "2370029f53413196"
  },
  {
   "metadata": {},
   "cell_type": "code",
   "source": "f1 > f2",
   "id": "655ad0e65e3f9edf",
   "outputs": [],
   "execution_count": null
  },
  {
   "metadata": {},
   "cell_type": "code",
   "source": "f1 > s1",
   "id": "7a021e26fcab5621",
   "outputs": [],
   "execution_count": null
  },
  {
   "metadata": {},
   "cell_type": "code",
   "source": "s2 > f2",
   "id": "f6433b86de0f3fdd",
   "outputs": [],
   "execution_count": null
  },
  {
   "metadata": {},
   "cell_type": "code",
   "source": "s2 > s1",
   "id": "de5fc12906a42fd1",
   "outputs": [],
   "execution_count": null
  },
  {
   "metadata": {},
   "cell_type": "markdown",
   "source": [
    "### lesser\n",
    "1. Fuzznum < Fuzznum\n",
    "2. Fuzznum < Fuzzarray\n",
    "3. Fuzzarray < Fuzznum\n",
    "4. Fuzzarray < Fuzzarray"
   ],
   "id": "a1fb875607be2999"
  },
  {
   "metadata": {},
   "cell_type": "code",
   "source": "f1 < f2",
   "id": "fa86064803ee74ef",
   "outputs": [],
   "execution_count": null
  },
  {
   "metadata": {},
   "cell_type": "code",
   "source": "f1 < s1",
   "id": "e4c6f495ecbf9a34",
   "outputs": [],
   "execution_count": null
  },
  {
   "metadata": {},
   "cell_type": "code",
   "source": "s1 < f1",
   "id": "41c4174fdf7335ab",
   "outputs": [],
   "execution_count": null
  },
  {
   "metadata": {},
   "cell_type": "code",
   "source": "s1 < s2",
   "id": "d242c4397ed20ac",
   "outputs": [],
   "execution_count": null
  },
  {
   "metadata": {},
   "cell_type": "markdown",
   "source": [
    "### eq\n",
    "1. Fuzznum == Fuzznum\n",
    "2. Fuzznum == Fuzzarray\n",
    "3. Fuzzarray == Fuzznum\n",
    "4. Fuzzarray == Fuzzarray"
   ],
   "id": "b7bb4925d7ebb9ee"
  },
  {
   "metadata": {},
   "cell_type": "code",
   "source": "f1 == f2",
   "id": "ebae3caa7acfc8f5",
   "outputs": [],
   "execution_count": null
  },
  {
   "metadata": {},
   "cell_type": "code",
   "source": "f1 == s1",
   "id": "8ecfe972b838e8a3",
   "outputs": [],
   "execution_count": null
  },
  {
   "metadata": {},
   "cell_type": "code",
   "source": "s1 == f1",
   "id": "98bab9affc7c278f",
   "outputs": [],
   "execution_count": null
  },
  {
   "metadata": {},
   "cell_type": "code",
   "source": "s1 == s2",
   "id": "ac85f6647ae60bc4",
   "outputs": [],
   "execution_count": null
  },
  {
   "metadata": {},
   "cell_type": "markdown",
   "source": [
    "### neq\n",
    "1. Fuzznum != Fuzznum\n",
    "2. Fuzznum != Fuzzarray\n",
    "3. Fuzzarray != Fuzznum\n",
    "4. Fuzzarray != Fuzzarray"
   ],
   "id": "b0888ce50de2d594"
  },
  {
   "metadata": {},
   "cell_type": "code",
   "source": "f1 != f2",
   "id": "9366685f6e0ed8ef",
   "outputs": [],
   "execution_count": null
  },
  {
   "metadata": {},
   "cell_type": "code",
   "source": "f1 != s1",
   "id": "b8e7cdcb735291f",
   "outputs": [],
   "execution_count": null
  },
  {
   "metadata": {},
   "cell_type": "code",
   "source": "s1 != f1",
   "id": "37297f71aed8885",
   "outputs": [],
   "execution_count": null
  },
  {
   "metadata": {},
   "cell_type": "code",
   "source": "s1 != s2",
   "id": "57dad6a88420ff76",
   "outputs": [],
   "execution_count": null
  },
  {
   "metadata": {},
   "cell_type": "markdown",
   "source": [
    "### greater and equal\n",
    "1. Fuzznum >= Fuzznum\n",
    "2. Fuzznum >= Fuzzarray\n",
    "3. Fuzzarray >= Fuzznum\n",
    "4. Fuzzarray >= Fuzzarray"
   ],
   "id": "9e65982bda94de93"
  },
  {
   "metadata": {},
   "cell_type": "code",
   "source": "f1 >= f2",
   "id": "e3af67bcdaf42268",
   "outputs": [],
   "execution_count": null
  },
  {
   "metadata": {},
   "cell_type": "code",
   "source": "f1 >= s1",
   "id": "7d7949a3de4a33b5",
   "outputs": [],
   "execution_count": null
  },
  {
   "metadata": {},
   "cell_type": "code",
   "source": "s1 >= f1",
   "id": "96298bbd51f4d17b",
   "outputs": [],
   "execution_count": null
  },
  {
   "metadata": {},
   "cell_type": "code",
   "source": "s1 >= s2",
   "id": "dbbd53ebb81d22b4",
   "outputs": [],
   "execution_count": null
  },
  {
   "metadata": {},
   "cell_type": "markdown",
   "source": [
    "### lesser and equal\n",
    "1. Fuzznum <= Fuzznum\n",
    "2. Fuzznum <= Fuzzarray\n",
    "3. Fuzzarray <= Fuzznum\n",
    "4. Fuzzarray <= Fuzzarray\n"
   ],
   "id": "d34f6755a3f1d7e7"
  },
  {
   "metadata": {},
   "cell_type": "code",
   "source": "f1 <= f2",
   "id": "f77ec69cc71ca7dd",
   "outputs": [],
   "execution_count": null
  },
  {
   "metadata": {},
   "cell_type": "code",
   "source": "f1 <= s1",
   "id": "8b5d7b597e1c837a",
   "outputs": [],
   "execution_count": null
  },
  {
   "metadata": {},
   "cell_type": "code",
   "source": "s1 <= f1",
   "id": "e4d7719e6b656eea",
   "outputs": [],
   "execution_count": null
  },
  {
   "metadata": {},
   "cell_type": "code",
   "source": "s1 <= s2",
   "id": "b9f0c8549d9d3ab3",
   "outputs": [],
   "execution_count": null
  },
  {
   "metadata": {},
   "cell_type": "code",
   "source": "",
   "id": "f8152713ea559203",
   "outputs": [],
   "execution_count": null
  },
  {
   "metadata": {},
   "cell_type": "code",
   "source": "operation_registry.get_performance_stats()",
   "id": "79ef2d486b3b2727",
   "outputs": [],
   "execution_count": null
  },
  {
   "metadata": {},
   "cell_type": "code",
   "source": "",
   "id": "a70be065db0213ab",
   "outputs": [],
   "execution_count": null
  },
  {
   "metadata": {},
   "cell_type": "code",
   "source": "",
   "id": "36cf27a04d051e2d",
   "outputs": [],
   "execution_count": null
  },
  {
   "metadata": {},
   "cell_type": "code",
   "source": "",
   "id": "3bfecd3037612089",
   "outputs": [],
   "execution_count": null
  }
 ],
 "metadata": {
  "kernelspec": {
   "display_name": "Python 3",
   "language": "python",
   "name": "python3"
  },
  "language_info": {
   "codemirror_mode": {
    "name": "ipython",
    "version": 2
   },
   "file_extension": ".py",
   "mimetype": "text/x-python",
   "name": "python",
   "nbconvert_exporter": "python",
   "pygments_lexer": "ipython2",
   "version": "2.7.6"
  }
 },
 "nbformat": 4,
 "nbformat_minor": 5
}
