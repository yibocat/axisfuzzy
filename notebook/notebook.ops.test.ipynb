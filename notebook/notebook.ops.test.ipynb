{
 "cells": [
  {
   "cell_type": "code",
   "id": "initial_id",
   "metadata": {
    "collapsed": true,
    "ExecuteTime": {
     "end_time": "2025-08-04T12:51:12.078615Z",
     "start_time": "2025-08-04T12:51:12.072400Z"
    }
   },
   "source": [
    "import numpy as np\n",
    "\n",
    "from fuzzlab.core.fuzzarray import fuzzarray\n",
    "from fuzzlab.core.fuzznums import Fuzznum\n",
    "from fuzzlab.core.ops import get_operation_registry\n",
    "from fuzzlab.modules.qrofs.op import register_qrofn_operations\n",
    "register_qrofn_operations()\n",
    "operation_registry = get_operation_registry()"
   ],
   "outputs": [],
   "execution_count": 178
  },
  {
   "metadata": {
    "ExecuteTime": {
     "end_time": "2025-08-04T12:51:12.101026Z",
     "start_time": "2025-08-04T12:51:12.090727Z"
    }
   },
   "cell_type": "code",
   "source": [
    "f1 = Fuzznum('qrofn', 3).create(md = 0.7, nmd=0.4)\n",
    "f2 = Fuzznum('qrofn', 3).create(md = 0.5, nmd=0.7)\n",
    "\n",
    "fy1 = [[Fuzznum('qrofn', qrung=3).create(md=0.7, nmd=0.4),\n",
    "        Fuzznum('qrofn', qrung=3).create(md=0.5, nmd=0.6),\n",
    "        Fuzznum('qrofn', qrung=3).create(md=0.8, nmd=0.3)],\n",
    "       [Fuzznum('qrofn', qrung=3).create(md=0.4, nmd=0.2),\n",
    "        Fuzznum('qrofn', qrung=3).create(md=0.5, nmd=0.7),\n",
    "        Fuzznum('qrofn', qrung=3).create(md=0.5, nmd=0.1)],\n",
    "       [Fuzznum('qrofn', qrung=3).create(md=0.8, nmd=0.6),\n",
    "        Fuzznum('qrofn', qrung=3).create(md=0.2, nmd=0.3),\n",
    "        Fuzznum('qrofn', qrung=3).create(md=0.6, nmd=0.3)]]\n",
    "\n",
    "fy2 = [[Fuzznum('qrofn', qrung=3).create(md=0.2, nmd=0.8),\n",
    "        Fuzznum('qrofn', qrung=3).create(md=0.8, nmd=0.5),\n",
    "        Fuzznum('qrofn', qrung=3).create(md=0.3, nmd=0.5)],\n",
    "       [Fuzznum('qrofn', qrung=3).create(md=0.4, nmd=0.4),\n",
    "        Fuzznum('qrofn', qrung=3).create(md=0.1, nmd=0.7),\n",
    "        Fuzznum('qrofn', qrung=3).create(md=0.9, nmd=0.3)],\n",
    "       [Fuzznum('qrofn', qrung=3).create(md=0.3, nmd=0.3),\n",
    "        Fuzznum('qrofn', qrung=3).create(md=0.4, nmd=0.7),\n",
    "        Fuzznum('qrofn', qrung=3).create(md=0.6, nmd=0.2)]]\n",
    "s1 = fuzzarray(fy1)\n",
    "s2 = fuzzarray(fy2)\n",
    "\n",
    "n = np.random.rand(3,3)"
   ],
   "id": "7829c6271426c353",
   "outputs": [],
   "execution_count": 179
  },
  {
   "metadata": {},
   "cell_type": "markdown",
   "source": [
    "### addition\n",
    "1. Fuzznum + Fuzznum\n",
    "2. Fuzznum + Fuzzarray\n",
    "3. Fuzzarray + Fuzznum\n",
    "4. Fuzzarray + Fuzzarray"
   ],
   "id": "17c9ddbadf1048aa"
  },
  {
   "metadata": {
    "ExecuteTime": {
     "end_time": "2025-08-04T12:51:12.113814Z",
     "start_time": "2025-08-04T12:51:12.109894Z"
    }
   },
   "cell_type": "code",
   "source": "f1 + f2",
   "id": "6a91b4f807db742a",
   "outputs": [
    {
     "data": {
      "text/plain": [
       "<0.751921,0.28>"
      ]
     },
     "execution_count": 180,
     "metadata": {},
     "output_type": "execute_result"
    }
   ],
   "execution_count": 180
  },
  {
   "metadata": {
    "ExecuteTime": {
     "end_time": "2025-08-04T12:51:12.145753Z",
     "start_time": "2025-08-04T12:51:12.141200Z"
    }
   },
   "cell_type": "code",
   "source": "f1 + s1",
   "id": "5027d6649ba6c6a5",
   "outputs": [
    {
     "data": {
      "text/plain": [
       "Fuzzarray([[<0.828334,0.16> <0.751921,0.24> <0.8791,0.12>]\n",
       "           [<0.727509,0.08> <0.751921,0.28> <0.751921,0.04>]\n",
       "           [<0.8791,0.24> <0.703557,0.12> <0.785635,0.12>]], qrung=3, mtype=qrofn)"
      ]
     },
     "execution_count": 181,
     "metadata": {},
     "output_type": "execute_result"
    }
   ],
   "execution_count": 181
  },
  {
   "metadata": {
    "ExecuteTime": {
     "end_time": "2025-08-04T12:51:12.169192Z",
     "start_time": "2025-08-04T12:51:12.165491Z"
    }
   },
   "cell_type": "code",
   "source": "s2 + f2",
   "id": "a867dd2cec0719f3",
   "outputs": [
    {
     "data": {
      "text/plain": [
       "Fuzzarray([[<0.509164,0.56> <0.830587,0.35> <0.529701,0.35>]\n",
       "           [<0.565665,0.28> <0.501164,0.49> <0.91373,0.21>]\n",
       "           [<0.529701,0.21> <0.565665,0.49> <0.679688,0.14>]], qrung=3, mtype=qrofn)"
      ]
     },
     "execution_count": 182,
     "metadata": {},
     "output_type": "execute_result"
    }
   ],
   "execution_count": 182
  },
  {
   "metadata": {
    "ExecuteTime": {
     "end_time": "2025-08-04T12:51:12.184222Z",
     "start_time": "2025-08-04T12:51:12.180487Z"
    }
   },
   "cell_type": "code",
   "source": "s1 + s2",
   "id": "816379cc1ece497d",
   "outputs": [
    {
     "data": {
      "text/plain": [
       "Fuzzarray([[<0.703557,0.32> <0.830587,0.3> <0.806804,0.15>]\n",
       "           [<0.498534,0.08> <0.501164,0.49> <0.91373,0.03>]\n",
       "           [<0.806804,0.18> <0.415028,0.21> <0.727695,0.06>]], qrung=3, mtype=qrofn)"
      ]
     },
     "execution_count": 183,
     "metadata": {},
     "output_type": "execute_result"
    }
   ],
   "execution_count": 183
  },
  {
   "metadata": {},
   "cell_type": "markdown",
   "source": [
    "### subtraction\n",
    "1. Fuzznum + Fuzznum\n",
    "2. Fuzznum + Fuzzarray\n",
    "3. Fuzzarray + Fuzznum\n",
    "4. Fuzzarray + Fuzzarray"
   ],
   "id": "9a0efdd7a86187fb"
  },
  {
   "metadata": {
    "ExecuteTime": {
     "end_time": "2025-08-04T12:51:12.199111Z",
     "start_time": "2025-08-04T12:51:12.195859Z"
    }
   },
   "cell_type": "code",
   "source": "f1 - f2",
   "id": "9f64f784ad6081aa",
   "outputs": [
    {
     "data": {
      "text/plain": [
       "<0.62924,0.571429>"
      ]
     },
     "execution_count": 184,
     "metadata": {},
     "output_type": "execute_result"
    }
   ],
   "execution_count": 184
  },
  {
   "metadata": {
    "ExecuteTime": {
     "end_time": "2025-08-04T12:51:12.234359Z",
     "start_time": "2025-08-04T12:51:12.229716Z"
    }
   },
   "cell_type": "code",
   "source": "f1 - s1",
   "id": "ed84c6b5573188a0",
   "outputs": [
    {
     "data": {
      "text/plain": [
       "Fuzzarray([[<0.0,1.0> <0.62924,0.666667> <0.0,1.0>]\n",
       "           [<0.0,1.0> <0.62924,0.571429> <0.0,1.0>]\n",
       "           [<0.0,1.0> <0.0,1.0> <0.0,1.0>]], qrung=3, mtype=qrofn)"
      ]
     },
     "execution_count": 185,
     "metadata": {},
     "output_type": "execute_result"
    }
   ],
   "execution_count": 185
  },
  {
   "metadata": {
    "ExecuteTime": {
     "end_time": "2025-08-04T12:51:12.260072Z",
     "start_time": "2025-08-04T12:51:12.256153Z"
    }
   },
   "cell_type": "code",
   "source": "s2 - f2",
   "id": "92f9f770c88b0ad",
   "outputs": [
    {
     "data": {
      "text/plain": [
       "Fuzzarray([[<0.0,1.0> <0.761905,0.714286> <0.0,1.0>]\n",
       "           [<0.0,1.0> <0.0,1.0> <0.883778,0.428571>]\n",
       "           [<0.0,1.0> <0.0,1.0> <0.470267,0.285714>]], qrung=3, mtype=qrofn)"
      ]
     },
     "execution_count": 186,
     "metadata": {},
     "output_type": "execute_result"
    }
   ],
   "execution_count": 186
  },
  {
   "metadata": {
    "ExecuteTime": {
     "end_time": "2025-08-04T12:51:12.280350Z",
     "start_time": "2025-08-04T12:51:12.276683Z"
    }
   },
   "cell_type": "code",
   "source": "s1 - s2",
   "id": "220a9e744e86993",
   "outputs": [
    {
     "data": {
      "text/plain": [
       "Fuzzarray([[<0.696377,0.5> <0.0,1.0> <0.792884,0.6>]\n",
       "           [<0.0,1.0> <0.0,1.0> <0.0,1.0>]\n",
       "           [<0.0,1.0> <0.0,1.0> <0.0,1.0>]], qrung=3, mtype=qrofn)"
      ]
     },
     "execution_count": 187,
     "metadata": {},
     "output_type": "execute_result"
    }
   ],
   "execution_count": 187
  },
  {
   "metadata": {},
   "cell_type": "markdown",
   "source": [
    "### Multiplication\n",
    "\n",
    "---\n",
    "1. Fuzznum * Fuzznum\n",
    "2. Fuzznum * int | float\n",
    "3. Fuzznum * ndarray\n",
    "4. Fuzznum * Fuzzarray\n",
    "---\n",
    "5. Fuzzarray * Fuzznum\n",
    "6. Fuzzarray * int | float\n",
    "7. Fuzzarray * ndarray\n",
    "8. Fuzzarray * Fuzzarray\n",
    "---\n",
    "9. int | float * Fuzznum\n",
    "10. int | float * Fuzzarray\n",
    "11. ndarray * Fuzznum\n",
    "12. ndarray * Fuzzarray"
   ],
   "id": "c8fb79d62eb8e2ac"
  },
  {
   "metadata": {
    "ExecuteTime": {
     "end_time": "2025-08-04T12:51:12.305148Z",
     "start_time": "2025-08-04T12:51:12.301314Z"
    }
   },
   "cell_type": "code",
   "source": "f1 * f2",
   "id": "fa2c8c7a2f383b2e",
   "outputs": [
    {
     "data": {
      "text/plain": [
       "<0.35,0.727509>"
      ]
     },
     "execution_count": 188,
     "metadata": {},
     "output_type": "execute_result"
    }
   ],
   "execution_count": 188
  },
  {
   "metadata": {
    "ExecuteTime": {
     "end_time": "2025-08-04T12:51:12.348982Z",
     "start_time": "2025-08-04T12:51:12.344579Z"
    }
   },
   "cell_type": "code",
   "source": "f1 * 0.5",
   "id": "46b4a5073aa7ac37",
   "outputs": [
    {
     "data": {
      "text/plain": [
       "<0.574329,0.632456>"
      ]
     },
     "execution_count": 189,
     "metadata": {},
     "output_type": "execute_result"
    }
   ],
   "execution_count": 189
  },
  {
   "metadata": {
    "ExecuteTime": {
     "end_time": "2025-08-04T12:51:12.361908Z",
     "start_time": "2025-08-04T12:51:12.357558Z"
    }
   },
   "cell_type": "code",
   "source": "f1 * n",
   "id": "7d96695ae1341f2a",
   "outputs": [
    {
     "data": {
      "text/plain": [
       "Fuzzarray([[<0.65554,0.485908> <0.673953,0.450609> <0.60687,0.57592>]\n",
       "           [<0.530258,0.703156> <0.408719,0.85705> <0.699484,0.401007>]\n",
       "           [<0.368538,0.894035> <0.601152,0.586094> <0.493041,0.756937>]], qrung=3, mtype=qrofn)"
      ]
     },
     "execution_count": 190,
     "metadata": {},
     "output_type": "execute_result"
    }
   ],
   "execution_count": 190
  },
  {
   "metadata": {
    "ExecuteTime": {
     "end_time": "2025-08-04T12:51:12.382226Z",
     "start_time": "2025-08-04T12:51:12.377740Z"
    }
   },
   "cell_type": "code",
   "source": "f1 * s1",
   "id": "c1dd3ad3cc6121c1",
   "outputs": [
    {
     "data": {
      "text/plain": [
       "Fuzzarray([[<0.49,0.498534> <0.35,0.643265> <0.56,0.446929>]\n",
       "           [<0.28,0.415028> <0.35,0.727509> <0.35,0.401941>]\n",
       "           [<0.56,0.643265> <0.14,0.446929> <0.42,0.446929>]], qrung=3, mtype=qrofn)"
      ]
     },
     "execution_count": 191,
     "metadata": {},
     "output_type": "execute_result"
    }
   ],
   "execution_count": 191
  },
  {
   "metadata": {
    "ExecuteTime": {
     "end_time": "2025-08-04T12:51:12.393924Z",
     "start_time": "2025-08-04T12:51:12.390206Z"
    }
   },
   "cell_type": "code",
   "source": "s1 * f1",
   "id": "38a8683b1d62ab0a",
   "outputs": [
    {
     "data": {
      "text/plain": [
       "Fuzzarray([[<0.49,0.498534> <0.35,0.643265> <0.56,0.446929>]\n",
       "           [<0.28,0.415028> <0.35,0.727509> <0.35,0.401941>]\n",
       "           [<0.56,0.643265> <0.14,0.446929> <0.42,0.446929>]], qrung=3, mtype=qrofn)"
      ]
     },
     "execution_count": 192,
     "metadata": {},
     "output_type": "execute_result"
    }
   ],
   "execution_count": 192
  },
  {
   "metadata": {
    "ExecuteTime": {
     "end_time": "2025-08-04T12:51:12.408648Z",
     "start_time": "2025-08-04T12:51:12.404710Z"
    }
   },
   "cell_type": "code",
   "source": "s1 * 0.5",
   "id": "763b26f305f268f4",
   "outputs": [
    {
     "data": {
      "text/plain": [
       "Fuzzarray([[<0.574329,0.632456> <0.401216,0.774597> <0.670495,0.547723>]\n",
       "           [<0.31922,0.447214> <0.401216,0.83666> <0.401216,0.316228>]\n",
       "           [<0.670495,0.774597> <0.158846,0.547723> <0.485677,0.547723>]], qrung=3, mtype=qrofn)"
      ]
     },
     "execution_count": 193,
     "metadata": {},
     "output_type": "execute_result"
    }
   ],
   "execution_count": 193
  },
  {
   "metadata": {
    "ExecuteTime": {
     "end_time": "2025-08-04T12:51:12.432712Z",
     "start_time": "2025-08-04T12:51:12.428367Z"
    }
   },
   "cell_type": "code",
   "source": "s1 * n",
   "id": "8c8b2e5ffeb86a9f",
   "outputs": [
    {
     "data": {
      "text/plain": [
       "Fuzzarray([[<0.65554,0.485908> <0.478671,0.641203> <0.705277,0.484312>]\n",
       "           [<0.292793,0.538705> <0.281174,0.941721> <0.499572,0.100634>]\n",
       "           [<0.437894,0.939465> <0.167179,0.495584> <0.414641,0.693568>]], qrung=3, mtype=qrofn)"
      ]
     },
     "execution_count": 194,
     "metadata": {},
     "output_type": "execute_result"
    }
   ],
   "execution_count": 194
  },
  {
   "metadata": {
    "ExecuteTime": {
     "end_time": "2025-08-04T12:51:12.453113Z",
     "start_time": "2025-08-04T12:51:12.449067Z"
    }
   },
   "cell_type": "code",
   "source": "s1 * s2",
   "id": "3eaf6cfec95d47c",
   "outputs": [
    {
     "data": {
      "text/plain": [
       "Fuzzarray([[<0.14,0.815947> <0.4,0.679688> <0.24,0.529701>]\n",
       "           [<0.16,0.415028> <0.05,0.828334> <0.45,0.303561>]\n",
       "           [<0.24,0.618992> <0.08,0.711865> <0.36,0.326432>]], qrung=3, mtype=qrofn)"
      ]
     },
     "execution_count": 195,
     "metadata": {},
     "output_type": "execute_result"
    }
   ],
   "execution_count": 195
  },
  {
   "metadata": {
    "ExecuteTime": {
     "end_time": "2025-08-04T12:51:12.478883Z",
     "start_time": "2025-08-04T12:51:12.474688Z"
    }
   },
   "cell_type": "code",
   "source": "0.5 * f1",
   "id": "95dc06e6cadb97d1",
   "outputs": [
    {
     "data": {
      "text/plain": [
       "<0.574329,0.632456>"
      ]
     },
     "execution_count": 196,
     "metadata": {},
     "output_type": "execute_result"
    }
   ],
   "execution_count": 196
  },
  {
   "metadata": {
    "ExecuteTime": {
     "end_time": "2025-08-04T12:51:12.510813Z",
     "start_time": "2025-08-04T12:51:12.507372Z"
    }
   },
   "cell_type": "code",
   "source": "0.5 * s1",
   "id": "69594cb4ae68778",
   "outputs": [
    {
     "data": {
      "text/plain": [
       "Fuzzarray([[<0.574329,0.632456> <0.401216,0.774597> <0.670495,0.547723>]\n",
       "           [<0.31922,0.447214> <0.401216,0.83666> <0.401216,0.316228>]\n",
       "           [<0.670495,0.774597> <0.158846,0.547723> <0.485677,0.547723>]], qrung=3, mtype=qrofn)"
      ]
     },
     "execution_count": 197,
     "metadata": {},
     "output_type": "execute_result"
    }
   ],
   "execution_count": 197
  },
  {
   "metadata": {
    "ExecuteTime": {
     "end_time": "2025-08-04T12:51:12.534545Z",
     "start_time": "2025-08-04T12:51:12.529832Z"
    }
   },
   "cell_type": "code",
   "source": "n * f1",
   "id": "8ee2cae2fb565030",
   "outputs": [
    {
     "data": {
      "text/plain": [
       "Fuzzarray([[<0.65554,0.485908> <0.673953,0.450609> <0.60687,0.57592>]\n",
       "           [<0.530258,0.703156> <0.408719,0.85705> <0.699484,0.401007>]\n",
       "           [<0.368538,0.894035> <0.601152,0.586094> <0.493041,0.756937>]], qrung=3, mtype=qrofn)"
      ]
     },
     "execution_count": 198,
     "metadata": {},
     "output_type": "execute_result"
    }
   ],
   "execution_count": 198
  },
  {
   "metadata": {
    "ExecuteTime": {
     "end_time": "2025-08-04T12:51:12.553881Z",
     "start_time": "2025-08-04T12:51:12.549382Z"
    }
   },
   "cell_type": "code",
   "source": "n * s1",
   "id": "d26ccc8c60eaf6cf",
   "outputs": [
    {
     "data": {
      "text/plain": [
       "Fuzzarray([[<0.65554,0.485908> <0.478671,0.641203> <0.705277,0.484312>]\n",
       "           [<0.292793,0.538705> <0.281174,0.941721> <0.499572,0.100634>]\n",
       "           [<0.437894,0.939465> <0.167179,0.495584> <0.414641,0.693568>]], qrung=3, mtype=qrofn)"
      ]
     },
     "execution_count": 199,
     "metadata": {},
     "output_type": "execute_result"
    }
   ],
   "execution_count": 199
  },
  {
   "metadata": {},
   "cell_type": "markdown",
   "source": [
    "### Division\n",
    "1. Fuzznum / Fuzznum\n",
    "2. Fuzznum / Fuzzarray\n",
    "3. Fuzznum / int | float\n",
    "4. Fuzznum / ndarray\n",
    "---\n",
    "5. Fuzzarray / Fuzznum\n",
    "6. Fuzzarray / Fuzzarray\n",
    "7. Fuzzarray / int | float\n",
    "8. Fuzzarray / ndarray"
   ],
   "id": "494a49daf463d0c0"
  },
  {
   "metadata": {
    "ExecuteTime": {
     "end_time": "2025-08-04T12:51:12.566044Z",
     "start_time": "2025-08-04T12:51:12.561915Z"
    }
   },
   "cell_type": "code",
   "source": "f1 / f2",
   "id": "ffdcf9223c7a42be",
   "outputs": [
    {
     "data": {
      "text/plain": [
       "<1.0,0.0>"
      ]
     },
     "execution_count": 200,
     "metadata": {},
     "output_type": "execute_result"
    }
   ],
   "execution_count": 200
  },
  {
   "metadata": {
    "ExecuteTime": {
     "end_time": "2025-08-04T12:51:12.584559Z",
     "start_time": "2025-08-04T12:51:12.579749Z"
    }
   },
   "cell_type": "code",
   "source": "f1 / s1",
   "id": "d7dc64ac3f60cff2",
   "outputs": [
    {
     "data": {
      "text/plain": [
       "Fuzzarray([[<1.0,0.0> <1.0,0.0> <0.875,0.336276>]\n",
       "           [<1.0,0.0> <1.0,0.0> <1.0,0.0>]\n",
       "           [<1.0,0.0> <1.0,0.0> <1.0,0.0>]], qrung=3, mtype=qrofn)"
      ]
     },
     "execution_count": 201,
     "metadata": {},
     "output_type": "execute_result"
    }
   ],
   "execution_count": 201
  },
  {
   "metadata": {
    "ExecuteTime": {
     "end_time": "2025-08-04T12:51:12.600967Z",
     "start_time": "2025-08-04T12:51:12.596966Z"
    }
   },
   "cell_type": "code",
   "source": "f1 / 2",
   "id": "a4092f1bddefc31c",
   "outputs": [
    {
     "data": {
      "text/plain": [
       "<0.574329,0.632456>"
      ]
     },
     "execution_count": 202,
     "metadata": {},
     "output_type": "execute_result"
    }
   ],
   "execution_count": 202
  },
  {
   "metadata": {
    "ExecuteTime": {
     "end_time": "2025-08-04T12:51:12.619546Z",
     "start_time": "2025-08-04T12:51:12.615010Z"
    }
   },
   "cell_type": "code",
   "source": "f1 / n",
   "id": "eb977685cec7b9a2",
   "outputs": [
    {
     "data": {
      "text/plain": [
       "Fuzzarray([[<0.744907,0.312456> <0.726203,0.348809> <0.794865,0.218366>]\n",
       "           [<0.872751,0.092181> <0.971714,0.004328> <0.700516,0.398992>]\n",
       "           [<0.989156,0.000556> <0.800758,0.207743> <0.908146,0.049048>]], qrung=3, mtype=qrofn)"
      ]
     },
     "execution_count": 203,
     "metadata": {},
     "output_type": "execute_result"
    }
   ],
   "execution_count": 203
  },
  {
   "metadata": {
    "ExecuteTime": {
     "end_time": "2025-08-04T12:51:12.648283Z",
     "start_time": "2025-08-04T12:51:12.644270Z"
    }
   },
   "cell_type": "code",
   "source": "s1 / f1",
   "id": "fa19407f7859fdca",
   "outputs": [
    {
     "data": {
      "text/plain": [
       "Fuzzarray([[<1.0,0.0> <0.714286,0.545577> <1.0,0.0>]\n",
       "           [<1.0,0.0> <0.714286,0.667999> <1.0,0.0>]\n",
       "           [<1.0,0.0> <1.0,0.0> <1.0,0.0>]], qrung=3, mtype=qrofn)"
      ]
     },
     "execution_count": 204,
     "metadata": {},
     "output_type": "execute_result"
    }
   ],
   "execution_count": 204
  },
  {
   "metadata": {
    "ExecuteTime": {
     "end_time": "2025-08-04T12:51:12.669305Z",
     "start_time": "2025-08-04T12:51:12.664611Z"
    }
   },
   "cell_type": "code",
   "source": "s1 / s2",
   "id": "51ff500e2c8c9003",
   "outputs": [
    {
     "data": {
      "text/plain": [
       "Fuzzarray([[<1.0,0.0> <0.625,0.470267> <1.0,0.0>]\n",
       "           [<1.0,0.0> <1.0,0.0> <1.0,0.0>]\n",
       "           [<1.0,0.0> <1.0,0.0> <1.0,0.0>]], qrung=3, mtype=qrofn)"
      ]
     },
     "execution_count": 205,
     "metadata": {},
     "output_type": "execute_result"
    }
   ],
   "execution_count": 205
  },
  {
   "metadata": {
    "ExecuteTime": {
     "end_time": "2025-08-04T12:51:12.680773Z",
     "start_time": "2025-08-04T12:51:12.676808Z"
    }
   },
   "cell_type": "code",
   "source": "s1 / 2",
   "id": "b9b1287456df99fb",
   "outputs": [
    {
     "data": {
      "text/plain": [
       "Fuzzarray([[<0.574329,0.632456> <0.401216,0.774597> <0.670495,0.547723>]\n",
       "           [<0.31922,0.447214> <0.401216,0.83666> <0.401216,0.316228>]\n",
       "           [<0.670495,0.774597> <0.158846,0.547723> <0.485677,0.547723>]], qrung=3, mtype=qrofn)"
      ]
     },
     "execution_count": 206,
     "metadata": {},
     "output_type": "execute_result"
    }
   ],
   "execution_count": 206
  },
  {
   "metadata": {
    "ExecuteTime": {
     "end_time": "2025-08-04T12:51:12.694565Z",
     "start_time": "2025-08-04T12:51:12.690977Z"
    }
   },
   "cell_type": "code",
   "source": "s1 / n",
   "id": "f2ba23be3f446a95",
   "outputs": [
    {
     "data": {
      "text/plain": [
       "Fuzzarray([[<0.744907,0.312456> <0.522064,0.555899> <0.886293,0.135429>]\n",
       "           [<0.540715,0.015185> <0.818124,0.120196> <0.500428,0.099368>]\n",
       "           [<0.999057,0.015317> <0.239169,0.126839> <0.819811,0.019034>]], qrung=3, mtype=qrofn)"
      ]
     },
     "execution_count": 207,
     "metadata": {},
     "output_type": "execute_result"
    }
   ],
   "execution_count": 207
  },
  {
   "metadata": {},
   "cell_type": "markdown",
   "source": [
    "### power\n",
    "1. Fuzznum ^ int | float\n",
    "2. Fuzznum ^ ndarray\n",
    "3. Fuzzarray ^ int | float\n",
    "4. Fuzzarray ^ ndarray"
   ],
   "id": "8e0aac8006fac85a"
  },
  {
   "metadata": {
    "ExecuteTime": {
     "end_time": "2025-08-04T12:51:12.707716Z",
     "start_time": "2025-08-04T12:51:12.703817Z"
    }
   },
   "cell_type": "code",
   "source": "f1 ** 2",
   "id": "d12467b67a93f53f",
   "outputs": [
    {
     "data": {
      "text/plain": [
       "<0.828334,0.16>"
      ]
     },
     "execution_count": 208,
     "metadata": {},
     "output_type": "execute_result"
    }
   ],
   "execution_count": 208
  },
  {
   "metadata": {
    "ExecuteTime": {
     "end_time": "2025-08-04T12:51:12.726983Z",
     "start_time": "2025-08-04T12:51:12.722489Z"
    }
   },
   "cell_type": "code",
   "source": "f1 ** n",
   "id": "62b535e6b717ef31",
   "outputs": [
    {
     "data": {
      "text/plain": [
       "Fuzzarray([[<0.65554,0.485908> <0.673953,0.450609> <0.60687,0.57592>]\n",
       "           [<0.530258,0.703156> <0.408719,0.85705> <0.699484,0.401007>]\n",
       "           [<0.368538,0.894035> <0.601152,0.586094> <0.493041,0.756937>]], qrung=3, mtype=qrofn)"
      ]
     },
     "execution_count": 209,
     "metadata": {},
     "output_type": "execute_result"
    }
   ],
   "execution_count": 209
  },
  {
   "metadata": {
    "ExecuteTime": {
     "end_time": "2025-08-04T12:51:12.753845Z",
     "start_time": "2025-08-04T12:51:12.749974Z"
    }
   },
   "cell_type": "code",
   "source": "s1 ** 2",
   "id": "2b87a05044542757",
   "outputs": [
    {
     "data": {
      "text/plain": [
       "Fuzzarray([[<0.828334,0.16> <0.616553,0.36> <0.913323,0.09>]\n",
       "           [<0.498534,0.04> <0.616553,0.49> <0.616553,0.01>]\n",
       "           [<0.913323,0.36> <0.251648,0.09> <0.727695,0.09>]], qrung=3, mtype=qrofn)"
      ]
     },
     "execution_count": 210,
     "metadata": {},
     "output_type": "execute_result"
    }
   ],
   "execution_count": 210
  },
  {
   "metadata": {
    "ExecuteTime": {
     "end_time": "2025-08-04T12:51:12.775534Z",
     "start_time": "2025-08-04T12:51:12.771602Z"
    }
   },
   "cell_type": "code",
   "source": "s1 ** n",
   "id": "dfc2112377b9dcbb",
   "outputs": [
    {
     "data": {
      "text/plain": [
       "Fuzzarray([[<0.65554,0.485908> <0.478671,0.641203> <0.705277,0.484312>]\n",
       "           [<0.292793,0.538705> <0.281174,0.941721> <0.499572,0.100634>]\n",
       "           [<0.437894,0.939465> <0.167179,0.495584> <0.414641,0.693568>]], qrung=3, mtype=qrofn)"
      ]
     },
     "execution_count": 211,
     "metadata": {},
     "output_type": "execute_result"
    }
   ],
   "execution_count": 211
  },
  {
   "metadata": {},
   "cell_type": "markdown",
   "source": [
    "### greater\n",
    "1. Fuzznum > Fuzznum\n",
    "2. Fuzznum > Fuzzarray\n",
    "3. Fuzzarray > Fuzznum\n",
    "4. Fuzzarray > Fuzzarray"
   ],
   "id": "2370029f53413196"
  },
  {
   "metadata": {
    "ExecuteTime": {
     "end_time": "2025-08-04T12:51:12.788876Z",
     "start_time": "2025-08-04T12:51:12.786625Z"
    }
   },
   "cell_type": "code",
   "source": "f1 > f2",
   "id": "655ad0e65e3f9edf",
   "outputs": [
    {
     "data": {
      "text/plain": [
       "True"
      ]
     },
     "execution_count": 212,
     "metadata": {},
     "output_type": "execute_result"
    }
   ],
   "execution_count": 212
  },
  {
   "metadata": {
    "ExecuteTime": {
     "end_time": "2025-08-04T12:51:12.829970Z",
     "start_time": "2025-08-04T12:51:12.826294Z"
    }
   },
   "cell_type": "code",
   "source": "f1 > s1",
   "id": "7a021e26fcab5621",
   "outputs": [
    {
     "data": {
      "text/plain": [
       "array([[ True,  True,  True],\n",
       "       [ True,  True,  True],\n",
       "       [ True,  True,  True]])"
      ]
     },
     "execution_count": 213,
     "metadata": {},
     "output_type": "execute_result"
    }
   ],
   "execution_count": 213
  },
  {
   "metadata": {
    "ExecuteTime": {
     "end_time": "2025-08-04T12:51:12.884077Z",
     "start_time": "2025-08-04T12:51:12.881322Z"
    }
   },
   "cell_type": "code",
   "source": "s2 > f2",
   "id": "f6433b86de0f3fdd",
   "outputs": [
    {
     "data": {
      "text/plain": [
       "array([[ True,  True,  True],\n",
       "       [ True,  True,  True],\n",
       "       [ True,  True,  True]])"
      ]
     },
     "execution_count": 214,
     "metadata": {},
     "output_type": "execute_result"
    }
   ],
   "execution_count": 214
  },
  {
   "metadata": {
    "ExecuteTime": {
     "end_time": "2025-08-04T12:51:12.993910Z",
     "start_time": "2025-08-04T12:51:12.990465Z"
    }
   },
   "cell_type": "code",
   "source": "s2 > s1",
   "id": "de5fc12906a42fd1",
   "outputs": [
    {
     "data": {
      "text/plain": [
       "array([[ True,  True,  True],\n",
       "       [ True,  True,  True],\n",
       "       [ True,  True,  True]])"
      ]
     },
     "execution_count": 215,
     "metadata": {},
     "output_type": "execute_result"
    }
   ],
   "execution_count": 215
  },
  {
   "metadata": {},
   "cell_type": "markdown",
   "source": [
    "### lesser\n",
    "1. Fuzznum < Fuzznum\n",
    "2. Fuzznum < Fuzzarray\n",
    "3. Fuzzarray < Fuzznum\n",
    "4. Fuzzarray < Fuzzarray"
   ],
   "id": "a1fb875607be2999"
  },
  {
   "metadata": {
    "ExecuteTime": {
     "end_time": "2025-08-04T12:51:13.057193Z",
     "start_time": "2025-08-04T12:51:13.055076Z"
    }
   },
   "cell_type": "code",
   "source": "f1 < f2",
   "id": "fa86064803ee74ef",
   "outputs": [
    {
     "data": {
      "text/plain": [
       "False"
      ]
     },
     "execution_count": 216,
     "metadata": {},
     "output_type": "execute_result"
    }
   ],
   "execution_count": 216
  },
  {
   "metadata": {
    "ExecuteTime": {
     "end_time": "2025-08-04T12:51:13.097650Z",
     "start_time": "2025-08-04T12:51:13.094475Z"
    }
   },
   "cell_type": "code",
   "source": "f1 < s1",
   "id": "e4c6f495ecbf9a34",
   "outputs": [
    {
     "data": {
      "text/plain": [
       "array([[ True,  True,  True],\n",
       "       [ True,  True,  True],\n",
       "       [ True,  True,  True]])"
      ]
     },
     "execution_count": 217,
     "metadata": {},
     "output_type": "execute_result"
    }
   ],
   "execution_count": 217
  },
  {
   "metadata": {
    "ExecuteTime": {
     "end_time": "2025-08-04T12:51:13.155175Z",
     "start_time": "2025-08-04T12:51:13.152109Z"
    }
   },
   "cell_type": "code",
   "source": "s1 < f1",
   "id": "41c4174fdf7335ab",
   "outputs": [
    {
     "data": {
      "text/plain": [
       "array([[ True,  True,  True],\n",
       "       [ True,  True,  True],\n",
       "       [ True,  True,  True]])"
      ]
     },
     "execution_count": 218,
     "metadata": {},
     "output_type": "execute_result"
    }
   ],
   "execution_count": 218
  },
  {
   "metadata": {
    "ExecuteTime": {
     "end_time": "2025-08-04T12:51:13.219554Z",
     "start_time": "2025-08-04T12:51:13.216803Z"
    }
   },
   "cell_type": "code",
   "source": "s1 < s2",
   "id": "d242c4397ed20ac",
   "outputs": [
    {
     "data": {
      "text/plain": [
       "array([[ True,  True,  True],\n",
       "       [ True,  True,  True],\n",
       "       [ True,  True,  True]])"
      ]
     },
     "execution_count": 219,
     "metadata": {},
     "output_type": "execute_result"
    }
   ],
   "execution_count": 219
  },
  {
   "metadata": {},
   "cell_type": "markdown",
   "source": [
    "### eq\n",
    "1. Fuzznum == Fuzznum\n",
    "2. Fuzznum == Fuzzarray\n",
    "3. Fuzzarray == Fuzznum\n",
    "4. Fuzzarray == Fuzzarray"
   ],
   "id": "b7bb4925d7ebb9ee"
  },
  {
   "metadata": {
    "ExecuteTime": {
     "end_time": "2025-08-04T12:51:13.316168Z",
     "start_time": "2025-08-04T12:51:13.313504Z"
    }
   },
   "cell_type": "code",
   "source": "f1 == f2",
   "id": "ebae3caa7acfc8f5",
   "outputs": [
    {
     "data": {
      "text/plain": [
       "False"
      ]
     },
     "execution_count": 220,
     "metadata": {},
     "output_type": "execute_result"
    }
   ],
   "execution_count": 220
  },
  {
   "metadata": {
    "ExecuteTime": {
     "end_time": "2025-08-04T12:51:13.384186Z",
     "start_time": "2025-08-04T12:51:13.381068Z"
    }
   },
   "cell_type": "code",
   "source": "f1 == s1",
   "id": "8ecfe972b838e8a3",
   "outputs": [
    {
     "data": {
      "text/plain": [
       "array([[ True,  True,  True],\n",
       "       [ True,  True,  True],\n",
       "       [ True,  True,  True]])"
      ]
     },
     "execution_count": 221,
     "metadata": {},
     "output_type": "execute_result"
    }
   ],
   "execution_count": 221
  },
  {
   "metadata": {
    "ExecuteTime": {
     "end_time": "2025-08-04T12:51:13.440729Z",
     "start_time": "2025-08-04T12:51:13.438060Z"
    }
   },
   "cell_type": "code",
   "source": "s1 == f1",
   "id": "98bab9affc7c278f",
   "outputs": [
    {
     "data": {
      "text/plain": [
       "array([[ True,  True,  True],\n",
       "       [ True,  True,  True],\n",
       "       [ True,  True,  True]])"
      ]
     },
     "execution_count": 222,
     "metadata": {},
     "output_type": "execute_result"
    }
   ],
   "execution_count": 222
  },
  {
   "metadata": {
    "ExecuteTime": {
     "end_time": "2025-08-04T12:51:13.501916Z",
     "start_time": "2025-08-04T12:51:13.499373Z"
    }
   },
   "cell_type": "code",
   "source": "s1 == s2",
   "id": "ac85f6647ae60bc4",
   "outputs": [
    {
     "data": {
      "text/plain": [
       "array([[ True,  True,  True],\n",
       "       [ True,  True,  True],\n",
       "       [ True,  True,  True]])"
      ]
     },
     "execution_count": 223,
     "metadata": {},
     "output_type": "execute_result"
    }
   ],
   "execution_count": 223
  },
  {
   "metadata": {},
   "cell_type": "markdown",
   "source": [
    "### neq\n",
    "1. Fuzznum != Fuzznum\n",
    "2. Fuzznum != Fuzzarray\n",
    "3. Fuzzarray != Fuzznum\n",
    "4. Fuzzarray != Fuzzarray"
   ],
   "id": "b0888ce50de2d594"
  },
  {
   "metadata": {
    "ExecuteTime": {
     "end_time": "2025-08-04T12:51:13.615683Z",
     "start_time": "2025-08-04T12:51:13.613061Z"
    }
   },
   "cell_type": "code",
   "source": "f1 != f2",
   "id": "9366685f6e0ed8ef",
   "outputs": [
    {
     "data": {
      "text/plain": [
       "True"
      ]
     },
     "execution_count": 224,
     "metadata": {},
     "output_type": "execute_result"
    }
   ],
   "execution_count": 224
  },
  {
   "metadata": {
    "ExecuteTime": {
     "end_time": "2025-08-04T12:51:13.720934Z",
     "start_time": "2025-08-04T12:51:13.717655Z"
    }
   },
   "cell_type": "code",
   "source": "f1 != s1",
   "id": "b8e7cdcb735291f",
   "outputs": [
    {
     "data": {
      "text/plain": [
       "array([[ True,  True,  True],\n",
       "       [ True,  True,  True],\n",
       "       [ True,  True,  True]])"
      ]
     },
     "execution_count": 225,
     "metadata": {},
     "output_type": "execute_result"
    }
   ],
   "execution_count": 225
  },
  {
   "metadata": {
    "ExecuteTime": {
     "end_time": "2025-08-04T12:51:13.814534Z",
     "start_time": "2025-08-04T12:51:13.811546Z"
    }
   },
   "cell_type": "code",
   "source": "s1 != f1",
   "id": "37297f71aed8885",
   "outputs": [
    {
     "data": {
      "text/plain": [
       "array([[ True,  True,  True],\n",
       "       [ True,  True,  True],\n",
       "       [ True,  True,  True]])"
      ]
     },
     "execution_count": 226,
     "metadata": {},
     "output_type": "execute_result"
    }
   ],
   "execution_count": 226
  },
  {
   "metadata": {
    "ExecuteTime": {
     "end_time": "2025-08-04T12:51:13.890638Z",
     "start_time": "2025-08-04T12:51:13.887914Z"
    }
   },
   "cell_type": "code",
   "source": "s1 != s2",
   "id": "57dad6a88420ff76",
   "outputs": [
    {
     "data": {
      "text/plain": [
       "array([[ True,  True,  True],\n",
       "       [ True,  True,  True],\n",
       "       [ True,  True,  True]])"
      ]
     },
     "execution_count": 227,
     "metadata": {},
     "output_type": "execute_result"
    }
   ],
   "execution_count": 227
  },
  {
   "metadata": {},
   "cell_type": "markdown",
   "source": [
    "### greater and equal\n",
    "1. Fuzznum >= Fuzznum\n",
    "2. Fuzznum >= Fuzzarray\n",
    "3. Fuzzarray >= Fuzznum\n",
    "4. Fuzzarray >= Fuzzarray"
   ],
   "id": "9e65982bda94de93"
  },
  {
   "metadata": {
    "ExecuteTime": {
     "end_time": "2025-08-04T12:51:14.023301Z",
     "start_time": "2025-08-04T12:51:14.020182Z"
    }
   },
   "cell_type": "code",
   "source": "f1 >= f2",
   "id": "e3af67bcdaf42268",
   "outputs": [
    {
     "data": {
      "text/plain": [
       "True"
      ]
     },
     "execution_count": 228,
     "metadata": {},
     "output_type": "execute_result"
    }
   ],
   "execution_count": 228
  },
  {
   "metadata": {
    "ExecuteTime": {
     "end_time": "2025-08-04T12:51:14.129809Z",
     "start_time": "2025-08-04T12:51:14.126199Z"
    }
   },
   "cell_type": "code",
   "source": "f1 >= s1",
   "id": "7d7949a3de4a33b5",
   "outputs": [
    {
     "data": {
      "text/plain": [
       "array([[ True,  True,  True],\n",
       "       [ True,  True,  True],\n",
       "       [ True,  True,  True]])"
      ]
     },
     "execution_count": 229,
     "metadata": {},
     "output_type": "execute_result"
    }
   ],
   "execution_count": 229
  },
  {
   "metadata": {
    "ExecuteTime": {
     "end_time": "2025-08-04T12:51:14.184602Z",
     "start_time": "2025-08-04T12:51:14.181950Z"
    }
   },
   "cell_type": "code",
   "source": "s1 >= f1",
   "id": "96298bbd51f4d17b",
   "outputs": [
    {
     "data": {
      "text/plain": [
       "array([[ True,  True,  True],\n",
       "       [ True,  True,  True],\n",
       "       [ True,  True,  True]])"
      ]
     },
     "execution_count": 230,
     "metadata": {},
     "output_type": "execute_result"
    }
   ],
   "execution_count": 230
  },
  {
   "metadata": {
    "ExecuteTime": {
     "end_time": "2025-08-04T12:51:14.282459Z",
     "start_time": "2025-08-04T12:51:14.279112Z"
    }
   },
   "cell_type": "code",
   "source": "s1 >= s2",
   "id": "dbbd53ebb81d22b4",
   "outputs": [
    {
     "data": {
      "text/plain": [
       "array([[ True,  True,  True],\n",
       "       [ True,  True,  True],\n",
       "       [ True,  True,  True]])"
      ]
     },
     "execution_count": 231,
     "metadata": {},
     "output_type": "execute_result"
    }
   ],
   "execution_count": 231
  },
  {
   "metadata": {},
   "cell_type": "markdown",
   "source": [
    "### lesser and equal\n",
    "1. Fuzznum <= Fuzznum\n",
    "2. Fuzznum <= Fuzzarray\n",
    "3. Fuzzarray <= Fuzznum\n",
    "4. Fuzzarray <= Fuzzarray\n"
   ],
   "id": "d34f6755a3f1d7e7"
  },
  {
   "metadata": {
    "ExecuteTime": {
     "end_time": "2025-08-04T12:51:14.405035Z",
     "start_time": "2025-08-04T12:51:14.402268Z"
    }
   },
   "cell_type": "code",
   "source": "f1 <= f2",
   "id": "f77ec69cc71ca7dd",
   "outputs": [
    {
     "data": {
      "text/plain": [
       "False"
      ]
     },
     "execution_count": 232,
     "metadata": {},
     "output_type": "execute_result"
    }
   ],
   "execution_count": 232
  },
  {
   "metadata": {
    "ExecuteTime": {
     "end_time": "2025-08-04T12:51:14.553051Z",
     "start_time": "2025-08-04T12:51:14.549663Z"
    }
   },
   "cell_type": "code",
   "source": "f1 <= s1",
   "id": "8b5d7b597e1c837a",
   "outputs": [
    {
     "data": {
      "text/plain": [
       "array([[ True,  True,  True],\n",
       "       [ True,  True,  True],\n",
       "       [ True,  True,  True]])"
      ]
     },
     "execution_count": 233,
     "metadata": {},
     "output_type": "execute_result"
    }
   ],
   "execution_count": 233
  },
  {
   "metadata": {
    "ExecuteTime": {
     "end_time": "2025-08-04T12:51:14.625349Z",
     "start_time": "2025-08-04T12:51:14.622165Z"
    }
   },
   "cell_type": "code",
   "source": "s1 <= f1",
   "id": "e4d7719e6b656eea",
   "outputs": [
    {
     "data": {
      "text/plain": [
       "array([[ True,  True,  True],\n",
       "       [ True,  True,  True],\n",
       "       [ True,  True,  True]])"
      ]
     },
     "execution_count": 234,
     "metadata": {},
     "output_type": "execute_result"
    }
   ],
   "execution_count": 234
  },
  {
   "metadata": {
    "ExecuteTime": {
     "end_time": "2025-08-04T12:51:14.692133Z",
     "start_time": "2025-08-04T12:51:14.688719Z"
    }
   },
   "cell_type": "code",
   "source": "s1 <= s2",
   "id": "b9f0c8549d9d3ab3",
   "outputs": [
    {
     "data": {
      "text/plain": [
       "array([[ True,  True,  True],\n",
       "       [ True,  True,  True],\n",
       "       [ True,  True,  True]])"
      ]
     },
     "execution_count": 235,
     "metadata": {},
     "output_type": "execute_result"
    }
   ],
   "execution_count": 235
  },
  {
   "metadata": {
    "ExecuteTime": {
     "end_time": "2025-08-04T12:51:14.799915Z",
     "start_time": "2025-08-04T12:51:14.798528Z"
    }
   },
   "cell_type": "code",
   "source": "",
   "id": "f8152713ea559203",
   "outputs": [],
   "execution_count": null
  },
  {
   "metadata": {
    "ExecuteTime": {
     "end_time": "2025-08-04T12:51:14.840470Z",
     "start_time": "2025-08-04T12:51:14.837262Z"
    }
   },
   "cell_type": "code",
   "source": "operation_registry.get_performance_stats()",
   "id": "79ef2d486b3b2727",
   "outputs": [
    {
     "data": {
      "text/plain": [
       "{'total_operations': 1560,\n",
       " 'total_time(us)': 11189.914047,\n",
       " 'average_time_per_total_operation(us)': 7.173022,\n",
       " 'operation_counts_by_type': {'add': {'binary': 112},\n",
       "  'sub': {'binary': 112},\n",
       "  'mul': {'binary': 112},\n",
       "  'tim': {'unary_operand': 328},\n",
       "  'div': {'binary': 112},\n",
       "  'pow': {'unary_operand': 112},\n",
       "  'gt': {'comparison': 112},\n",
       "  'lt': {'comparison': 112},\n",
       "  'eq': {'comparison': 112},\n",
       "  'ne': {'comparison': 112},\n",
       "  'ge': {'comparison': 112},\n",
       "  'le': {'comparison': 112}},\n",
       " 'average_times_by_operation_type(us)': {'add': {'binary': 15.399579},\n",
       "  'sub': {'binary': 3.759999},\n",
       "  'mul': {'binary': 14.773133},\n",
       "  'tim': {'unary_operand': 12.036807},\n",
       "  'div': {'binary': 3.260383},\n",
       "  'pow': {'unary_operand': 13.876525},\n",
       "  'gt': {'comparison': 3.816973},\n",
       "  'lt': {'comparison': 1.828499},\n",
       "  'eq': {'comparison': 1.850056},\n",
       "  'ne': {'comparison': 1.865704},\n",
       "  'ge': {'comparison': 2.077376},\n",
       "  'le': {'comparison': 2.151071}}}"
      ]
     },
     "execution_count": 236,
     "metadata": {},
     "output_type": "execute_result"
    }
   ],
   "execution_count": 236
  }
 ],
 "metadata": {
  "kernelspec": {
   "display_name": "Python 3",
   "language": "python",
   "name": "python3"
  },
  "language_info": {
   "codemirror_mode": {
    "name": "ipython",
    "version": 2
   },
   "file_extension": ".py",
   "mimetype": "text/x-python",
   "name": "python",
   "nbconvert_exporter": "python",
   "pygments_lexer": "ipython2",
   "version": "2.7.6"
  }
 },
 "nbformat": 4,
 "nbformat_minor": 5
}
