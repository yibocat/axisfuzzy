{
 "cells": [
  {
   "cell_type": "code",
   "id": "initial_id",
   "metadata": {
    "collapsed": true
   },
   "source": [
    "import fuzzlab as fuzz\n",
    "from fuzzlab.core import Fuzznum, Fuzzarray"
   ],
   "outputs": [],
   "execution_count": null
  },
  {
   "cell_type": "code",
   "id": "6b7dc4c466c8772",
   "metadata": {},
   "source": [
    "f = [\n",
    "    [Fuzznum('qrofn', qrung=3).create(md=0.6, nmd=0.5),\n",
    "     Fuzznum('qrofn', qrung=3).create(md=0.2, nmd=0.7),\n",
    "     Fuzznum('qrofn', qrung=3).create(md=0.1, nmd=0.3)],\n",
    "    [Fuzznum('qrofn', qrung=3).create(md=0.5, nmd=0.6),\n",
    "     Fuzznum('qrofn', qrung=3).create(md=0.8, nmd=0.3),\n",
    "     Fuzznum('qrofn', qrung=3).create(md=0.3, nmd=0.6)],\n",
    "    [Fuzznum('qrofn', qrung=3).create(md=0.4, nmd=0.8),\n",
    "     Fuzznum('qrofn', qrung=3).create(md=0.8, nmd=0.3),\n",
    "     Fuzznum('qrofn', qrung=3).create(md=0.2, nmd=0.4)]]"
   ],
   "outputs": [],
   "execution_count": null
  },
  {
   "cell_type": "code",
   "id": "c467d3d69141fb92",
   "metadata": {},
   "source": [
    "t = Fuzzarray(f)"
   ],
   "outputs": [],
   "execution_count": null
  },
  {
   "metadata": {},
   "cell_type": "code",
   "source": "t.sum()",
   "id": "d93b51eb8f870567",
   "outputs": [],
   "execution_count": null
  },
  {
   "metadata": {},
   "cell_type": "code",
   "source": "t.max()",
   "id": "e7e79b7982956bb",
   "outputs": [],
   "execution_count": null
  },
  {
   "metadata": {},
   "cell_type": "code",
   "source": "t.min()",
   "id": "4b10b2a38c518074",
   "outputs": [],
   "execution_count": null
  },
  {
   "metadata": {},
   "cell_type": "code",
   "source": "t.prod()",
   "id": "b7e3e75b6ceae04b",
   "outputs": [],
   "execution_count": null
  },
  {
   "metadata": {},
   "cell_type": "code",
   "source": "t.var()",
   "id": "cdd6dbfb23fede77",
   "outputs": [],
   "execution_count": null
  },
  {
   "metadata": {},
   "cell_type": "code",
   "source": "t.std()",
   "id": "e8c9d7b82b47b548",
   "outputs": [],
   "execution_count": null
  },
  {
   "metadata": {},
   "cell_type": "code",
   "source": "t.argmax(axis=1)",
   "id": "6fc6c74771eca53b",
   "outputs": [],
   "execution_count": null
  },
  {
   "metadata": {},
   "cell_type": "code",
   "source": "t.argmin()",
   "id": "bfa8a783e706393c",
   "outputs": [],
   "execution_count": null
  },
  {
   "cell_type": "code",
   "id": "254178919cebf516",
   "metadata": {},
   "source": [
    "u = Fuzznum('qrofn', 3).create(md=0.4, nmd = 0.9)"
   ],
   "outputs": [],
   "execution_count": null
  },
  {
   "cell_type": "code",
   "id": "c51fca7b456224d",
   "metadata": {},
   "source": "u.std()",
   "outputs": [],
   "execution_count": null
  },
  {
   "metadata": {},
   "cell_type": "code",
   "source": "u.var()",
   "id": "71881ba72bc2d96a",
   "outputs": [],
   "execution_count": null
  },
  {
   "metadata": {},
   "cell_type": "code",
   "source": "",
   "id": "b175eaad09f8a81a",
   "outputs": [],
   "execution_count": null
  },
  {
   "metadata": {},
   "cell_type": "code",
   "source": "",
   "id": "85f697e512c1fd98",
   "outputs": [],
   "execution_count": null
  },
  {
   "cell_type": "code",
   "id": "98c3490c571ad17e",
   "metadata": {},
   "source": [
    "def fuzznum(q:int, **kwargs):\n",
    "    return Fuzznum('qrofn', q).create(**kwargs)"
   ],
   "outputs": [],
   "execution_count": null
  },
  {
   "cell_type": "code",
   "id": "86d71267d5456b67",
   "metadata": {},
   "source": "",
   "outputs": [],
   "execution_count": null
  },
  {
   "cell_type": "code",
   "id": "3e7fefe70af40cea",
   "metadata": {},
   "source": [
    "t.sum()"
   ],
   "outputs": [],
   "execution_count": null
  },
  {
   "cell_type": "code",
   "id": "5cf81f8fc3e472fb",
   "metadata": {},
   "source": [
    "t.mean()"
   ],
   "outputs": [],
   "execution_count": null
  },
  {
   "cell_type": "code",
   "id": "f95a676f4de6ca3a",
   "metadata": {},
   "source": [
    "t.max()"
   ],
   "outputs": [],
   "execution_count": null
  },
  {
   "cell_type": "code",
   "id": "adfbe478566b5962",
   "metadata": {},
   "source": [
    "t.max(axis=0)"
   ],
   "outputs": [],
   "execution_count": null
  },
  {
   "cell_type": "code",
   "id": "ce458a3f2f452df6",
   "metadata": {},
   "source": [
    "t.min(axis=1)"
   ],
   "outputs": [],
   "execution_count": null
  },
  {
   "cell_type": "code",
   "id": "edc0d28ab6e39a08",
   "metadata": {},
   "source": [],
   "outputs": [],
   "execution_count": null
  },
  {
   "cell_type": "code",
   "id": "c757fc0d97adc78e",
   "metadata": {},
   "source": [
    "t ** 2"
   ],
   "outputs": [],
   "execution_count": null
  }
 ],
 "metadata": {
  "kernelspec": {
   "display_name": "FuzzLab",
   "language": "python",
   "name": "python3"
  },
  "language_info": {
   "codemirror_mode": {
    "name": "ipython",
    "version": 3
   },
   "file_extension": ".py",
   "mimetype": "text/x-python",
   "name": "python",
   "nbconvert_exporter": "python",
   "pygments_lexer": "ipython3",
   "version": "3.10.9"
  }
 },
 "nbformat": 4,
 "nbformat_minor": 5
}
