{
 "cells": [
  {
   "cell_type": "code",
   "id": "initial_id",
   "metadata": {
    "collapsed": true,
    "ExecuteTime": {
     "end_time": "2025-08-06T14:11:23.448769Z",
     "start_time": "2025-08-06T14:11:23.034592Z"
    }
   },
   "source": [
    "import fuzzlab as fuzz\n",
    "from fuzzlab.core import Fuzznum, Fuzzarray"
   ],
   "outputs": [
    {
     "ename": "AttributeError",
     "evalue": "'ExtendFunctionRegistry' object has no attribute 'get_injection'",
     "output_type": "error",
     "traceback": [
      "\u001B[0;31m---------------------------------------------------------------------------\u001B[0m",
      "\u001B[0;31mAttributeError\u001B[0m                            Traceback (most recent call last)",
      "Cell \u001B[0;32mIn[1], line 1\u001B[0m\n\u001B[0;32m----> 1\u001B[0m \u001B[38;5;28;01mimport\u001B[39;00m\u001B[38;5;250m \u001B[39m\u001B[38;5;21;01mfuzzlab\u001B[39;00m\u001B[38;5;250m \u001B[39m\u001B[38;5;28;01mas\u001B[39;00m\u001B[38;5;250m \u001B[39m\u001B[38;5;21;01mfuzz\u001B[39;00m\n\u001B[1;32m      2\u001B[0m \u001B[38;5;28;01mfrom\u001B[39;00m\u001B[38;5;250m \u001B[39m\u001B[38;5;21;01mfuzzlab\u001B[39;00m\u001B[38;5;21;01m.\u001B[39;00m\u001B[38;5;21;01mcore\u001B[39;00m\u001B[38;5;250m \u001B[39m\u001B[38;5;28;01mimport\u001B[39;00m Fuzznum, Fuzzarray\n",
      "File \u001B[0;32m~/Project/FuzzLab/fuzzlab/__init__.py:25\u001B[0m\n\u001B[1;32m     22\u001B[0m __all__\u001B[38;5;241m.\u001B[39mextend(mixin\u001B[38;5;241m.\u001B[39m__all__)\n\u001B[1;32m     23\u001B[0m __all__\u001B[38;5;241m.\u001B[39mextend(extend\u001B[38;5;241m.\u001B[39m__all__)\n\u001B[0;32m---> 25\u001B[0m \u001B[43mapply_extensions\u001B[49m\u001B[43m(\u001B[49m\u001B[43m)\u001B[49m\n",
      "File \u001B[0;32m~/Project/FuzzLab/fuzzlab/extend/__init__.py:32\u001B[0m, in \u001B[0;36mapply_extensions\u001B[0;34m()\u001B[0m\n\u001B[1;32m     25\u001B[0m class_map: Dict[\u001B[38;5;28mstr\u001B[39m, Type[Any]] \u001B[38;5;241m=\u001B[39m {\n\u001B[1;32m     26\u001B[0m     \u001B[38;5;124m'\u001B[39m\u001B[38;5;124mFuzznum\u001B[39m\u001B[38;5;124m'\u001B[39m: Fuzznum,\n\u001B[1;32m     27\u001B[0m     \u001B[38;5;124m'\u001B[39m\u001B[38;5;124mFuzzarray\u001B[39m\u001B[38;5;124m'\u001B[39m: Fuzzarray\n\u001B[1;32m     28\u001B[0m }\n\u001B[1;32m     30\u001B[0m \u001B[38;5;66;03m# 3. 注入功能\u001B[39;00m\n\u001B[1;32m     31\u001B[0m \u001B[38;5;66;03m# for func_name in list(extend_registry._injection_types.keys()):\u001B[39;00m\n\u001B[0;32m---> 32\u001B[0m \u001B[38;5;28;01mfor\u001B[39;00m func_name \u001B[38;5;129;01min\u001B[39;00m \u001B[38;5;28mlist\u001B[39m(\u001B[43mextend_registry\u001B[49m\u001B[38;5;241;43m.\u001B[39;49m\u001B[43mget_injection\u001B[49m()\u001B[38;5;241m.\u001B[39mkeys()):\n\u001B[1;32m     33\u001B[0m     injection_type \u001B[38;5;241m=\u001B[39m extend_registry\u001B[38;5;241m.\u001B[39mget_injection_type(func_name)\n\u001B[1;32m     35\u001B[0m     metadata \u001B[38;5;241m=\u001B[39m extend_registry\u001B[38;5;241m.\u001B[39mget_metadata()\u001B[38;5;241m.\u001B[39mget(func_name, {})\n",
      "\u001B[0;31mAttributeError\u001B[0m: 'ExtendFunctionRegistry' object has no attribute 'get_injection'"
     ]
    }
   ],
   "execution_count": 1
  },
  {
   "cell_type": "code",
   "id": "6b7dc4c466c8772",
   "metadata": {},
   "source": [
    "f = [\n",
    "    [Fuzznum('qrofn', qrung=3).create(md=0.6, nmd=0.5),\n",
    "     Fuzznum('qrofn', qrung=3).create(md=0.2, nmd=0.7),\n",
    "     Fuzznum('qrofn', qrung=3).create(md=0.1, nmd=0.3)],\n",
    "    [Fuzznum('qrofn', qrung=3).create(md=0.5, nmd=0.6),\n",
    "     Fuzznum('qrofn', qrung=3).create(md=0.8, nmd=0.3),\n",
    "     Fuzznum('qrofn', qrung=3).create(md=0.3, nmd=0.6)],\n",
    "    [Fuzznum('qrofn', qrung=3).create(md=0.4, nmd=0.8),\n",
    "     Fuzznum('qrofn', qrung=3).create(md=0.8, nmd=0.3),\n",
    "     Fuzznum('qrofn', qrung=3).create(md=0.2, nmd=0.4)]]"
   ],
   "outputs": [],
   "execution_count": null
  },
  {
   "cell_type": "code",
   "id": "c467d3d69141fb92",
   "metadata": {},
   "source": [
    "t = Fuzzarray(f)"
   ],
   "outputs": [],
   "execution_count": null
  },
  {
   "metadata": {},
   "cell_type": "code",
   "source": "s = Fuzzarray(f) ** 2",
   "id": "11b5214b9aeb278a",
   "outputs": [],
   "execution_count": null
  },
  {
   "metadata": {},
   "cell_type": "code",
   "source": "t.distance(s)",
   "id": "16d8c5b382b3c211",
   "outputs": [],
   "execution_count": null
  },
  {
   "metadata": {},
   "cell_type": "code",
   "source": "fuzz.distance(s, t)",
   "id": "956d9dc3551d1ddc",
   "outputs": [],
   "execution_count": null
  },
  {
   "metadata": {},
   "cell_type": "code",
   "source": "fuzz.random('qrofn', q=3)",
   "id": "f9234cd753eac7f6",
   "outputs": [],
   "execution_count": null
  },
  {
   "metadata": {},
   "cell_type": "code",
   "source": "t.sum()",
   "id": "d93b51eb8f870567",
   "outputs": [],
   "execution_count": null
  },
  {
   "metadata": {},
   "cell_type": "code",
   "source": "t.max()",
   "id": "e7e79b7982956bb",
   "outputs": [],
   "execution_count": null
  },
  {
   "metadata": {},
   "cell_type": "code",
   "source": "t.min()",
   "id": "4b10b2a38c518074",
   "outputs": [],
   "execution_count": null
  },
  {
   "metadata": {},
   "cell_type": "code",
   "source": "t.prod()",
   "id": "b7e3e75b6ceae04b",
   "outputs": [],
   "execution_count": null
  },
  {
   "metadata": {},
   "cell_type": "code",
   "source": "t.var()",
   "id": "cdd6dbfb23fede77",
   "outputs": [],
   "execution_count": null
  },
  {
   "metadata": {},
   "cell_type": "code",
   "source": "t.std()",
   "id": "e8c9d7b82b47b548",
   "outputs": [],
   "execution_count": null
  },
  {
   "metadata": {},
   "cell_type": "code",
   "source": "t.argmax(axis=1)",
   "id": "6fc6c74771eca53b",
   "outputs": [],
   "execution_count": null
  },
  {
   "metadata": {},
   "cell_type": "code",
   "source": "t.argmin()",
   "id": "bfa8a783e706393c",
   "outputs": [],
   "execution_count": null
  },
  {
   "cell_type": "code",
   "id": "254178919cebf516",
   "metadata": {},
   "source": [
    "u = Fuzznum('qrofn', 3).create(md=0.4, nmd = 0.9)"
   ],
   "outputs": [],
   "execution_count": null
  },
  {
   "cell_type": "code",
   "id": "c51fca7b456224d",
   "metadata": {},
   "source": "u.std()",
   "outputs": [],
   "execution_count": null
  },
  {
   "metadata": {},
   "cell_type": "code",
   "source": "u.var()",
   "id": "71881ba72bc2d96a",
   "outputs": [],
   "execution_count": null
  },
  {
   "metadata": {},
   "cell_type": "code",
   "source": "",
   "id": "b175eaad09f8a81a",
   "outputs": [],
   "execution_count": null
  },
  {
   "metadata": {},
   "cell_type": "code",
   "source": "",
   "id": "85f697e512c1fd98",
   "outputs": [],
   "execution_count": null
  },
  {
   "cell_type": "code",
   "id": "98c3490c571ad17e",
   "metadata": {},
   "source": [
    "def fuzznum(q:int, **kwargs):\n",
    "    return Fuzznum('qrofn', q).create(**kwargs)"
   ],
   "outputs": [],
   "execution_count": null
  },
  {
   "cell_type": "code",
   "id": "86d71267d5456b67",
   "metadata": {},
   "source": "",
   "outputs": [],
   "execution_count": null
  },
  {
   "cell_type": "code",
   "id": "3e7fefe70af40cea",
   "metadata": {},
   "source": [
    "t.sum()"
   ],
   "outputs": [],
   "execution_count": null
  },
  {
   "cell_type": "code",
   "id": "5cf81f8fc3e472fb",
   "metadata": {},
   "source": [
    "t.mean()"
   ],
   "outputs": [],
   "execution_count": null
  },
  {
   "cell_type": "code",
   "id": "f95a676f4de6ca3a",
   "metadata": {},
   "source": [
    "t.max()"
   ],
   "outputs": [],
   "execution_count": null
  },
  {
   "cell_type": "code",
   "id": "adfbe478566b5962",
   "metadata": {},
   "source": [
    "t.max(axis=0)"
   ],
   "outputs": [],
   "execution_count": null
  },
  {
   "cell_type": "code",
   "id": "ce458a3f2f452df6",
   "metadata": {},
   "source": [
    "t.min(axis=1)"
   ],
   "outputs": [],
   "execution_count": null
  },
  {
   "cell_type": "code",
   "id": "edc0d28ab6e39a08",
   "metadata": {},
   "source": [],
   "outputs": [],
   "execution_count": null
  },
  {
   "cell_type": "code",
   "id": "c757fc0d97adc78e",
   "metadata": {},
   "source": [
    "t ** 2"
   ],
   "outputs": [],
   "execution_count": null
  }
 ],
 "metadata": {
  "kernelspec": {
   "display_name": "FuzzLab",
   "language": "python",
   "name": "python3"
  },
  "language_info": {
   "codemirror_mode": {
    "name": "ipython",
    "version": 3
   },
   "file_extension": ".py",
   "mimetype": "text/x-python",
   "name": "python",
   "nbconvert_exporter": "python",
   "pygments_lexer": "ipython3",
   "version": "3.10.9"
  }
 },
 "nbformat": 4,
 "nbformat_minor": 5
}
