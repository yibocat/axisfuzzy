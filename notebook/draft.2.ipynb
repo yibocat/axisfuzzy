{
 "cells": [
  {
   "cell_type": "code",
   "id": "initial_id",
   "metadata": {
    "collapsed": true
   },
   "source": [
    "import fuzzlab as fuzz\n",
    "\n",
    "from fuzzlab.core import Fuzznum, Fuzzarray"
   ],
   "outputs": [],
   "execution_count": null
  },
  {
   "metadata": {},
   "cell_type": "code",
   "source": [
    "f = [\n",
    "    [Fuzznum('qrofn', qrung=3).create(md=0.6, nmd=0.5),\n",
    "     Fuzznum('qrofn', qrung=3).create(md=0.2, nmd=0.7),\n",
    "     Fuzznum('qrofn', qrung=3).create(md=0.1, nmd=0.3)],\n",
    "    [Fuzznum('qrofn', qrung=3).create(md=0.5, nmd=0.6),\n",
    "     Fuzznum('qrofn', qrung=3).create(md=0.8, nmd=0.3),\n",
    "     Fuzznum('qrofn', qrung=3).create(md=0.3, nmd=0.6)],\n",
    "    [Fuzznum('qrofn', qrung=3).create(md=0.4, nmd=0.8),\n",
    "     Fuzznum('qrofn', qrung=3).create(md=0.8, nmd=0.3),\n",
    "     Fuzznum('qrofn', qrung=3).create(md=0.2, nmd=0.4)]]"
   ],
   "id": "6b7dc4c466c8772",
   "outputs": [],
   "execution_count": null
  },
  {
   "metadata": {},
   "cell_type": "code",
   "source": "t = Fuzzarray(f)",
   "id": "c467d3d69141fb92",
   "outputs": [],
   "execution_count": null
  },
  {
   "metadata": {},
   "cell_type": "code",
   "source": "u = Fuzznum('qrofn', 3).create(md=0.4, nmd = 0.9)",
   "id": "254178919cebf516",
   "outputs": [],
   "execution_count": null
  },
  {
   "metadata": {},
   "cell_type": "code",
   "source": "u",
   "id": "c51fca7b456224d",
   "outputs": [],
   "execution_count": null
  },
  {
   "metadata": {},
   "cell_type": "code",
   "source": [
    "def fuzznum(q:int, **kwargs):\n",
    "    return Fuzznum('qrofn', q).create(**kwargs)"
   ],
   "id": "98c3490c571ad17e",
   "outputs": [],
   "execution_count": null
  },
  {
   "metadata": {},
   "cell_type": "code",
   "source": "fuzznum(3, md=0.4, nmd=0.5)",
   "id": "fdb52dbfc189eb97",
   "outputs": [],
   "execution_count": null
  },
  {
   "metadata": {},
   "cell_type": "code",
   "source": "",
   "id": "32cc579ecacde531",
   "outputs": [],
   "execution_count": null
  },
  {
   "metadata": {},
   "cell_type": "code",
   "source": "",
   "id": "9e4cbfaae19ce26d",
   "outputs": [],
   "execution_count": null
  },
  {
   "metadata": {},
   "cell_type": "code",
   "source": "",
   "id": "d7e650b218e1b580",
   "outputs": [],
   "execution_count": null
  },
  {
   "metadata": {},
   "cell_type": "code",
   "source": "",
   "id": "86d71267d5456b67",
   "outputs": [],
   "execution_count": null
  },
  {
   "metadata": {},
   "cell_type": "code",
   "source": "t.sum()",
   "id": "3e7fefe70af40cea",
   "outputs": [],
   "execution_count": null
  },
  {
   "metadata": {},
   "cell_type": "code",
   "source": "t.mean()",
   "id": "5cf81f8fc3e472fb",
   "outputs": [],
   "execution_count": null
  },
  {
   "metadata": {},
   "cell_type": "code",
   "source": "t.max()",
   "id": "f95a676f4de6ca3a",
   "outputs": [],
   "execution_count": null
  },
  {
   "metadata": {},
   "cell_type": "code",
   "source": "t.max(axis=0)",
   "id": "adfbe478566b5962",
   "outputs": [],
   "execution_count": null
  },
  {
   "metadata": {},
   "cell_type": "code",
   "source": "t.min(axis=1)",
   "id": "ce458a3f2f452df6",
   "outputs": [],
   "execution_count": null
  },
  {
   "metadata": {},
   "cell_type": "code",
   "source": "",
   "id": "edc0d28ab6e39a08",
   "outputs": [],
   "execution_count": null
  },
  {
   "metadata": {},
   "cell_type": "code",
   "source": "t ** 2",
   "id": "c757fc0d97adc78e",
   "outputs": [],
   "execution_count": null
  },
  {
   "metadata": {},
   "cell_type": "code",
   "source": "",
   "id": "44926b10abd0f40e",
   "outputs": [],
   "execution_count": null
  },
  {
   "metadata": {},
   "cell_type": "code",
   "source": "",
   "id": "4345ff03c9b3f42",
   "outputs": [],
   "execution_count": null
  },
  {
   "metadata": {},
   "cell_type": "code",
   "source": "import numpy as np",
   "id": "5275c8163e5bf07e",
   "outputs": [],
   "execution_count": null
  },
  {
   "metadata": {},
   "cell_type": "code",
   "source": "",
   "id": "b2d53744197fd92b",
   "outputs": [],
   "execution_count": null
  },
  {
   "metadata": {},
   "cell_type": "code",
   "source": "",
   "id": "6d8431595b6b0fff",
   "outputs": [],
   "execution_count": null
  },
  {
   "metadata": {},
   "cell_type": "code",
   "source": "",
   "id": "79391a313dc36bf0",
   "outputs": [],
   "execution_count": null
  },
  {
   "metadata": {},
   "cell_type": "code",
   "source": "",
   "id": "3b2aca6e7e7346c4",
   "outputs": [],
   "execution_count": null
  },
  {
   "metadata": {},
   "cell_type": "code",
   "source": "",
   "id": "bc65964a367e468a",
   "outputs": [],
   "execution_count": null
  },
  {
   "metadata": {},
   "cell_type": "code",
   "source": "",
   "id": "f986d5b9f47326b9",
   "outputs": [],
   "execution_count": null
  }
 ],
 "metadata": {
  "kernelspec": {
   "display_name": "Python 3",
   "language": "python",
   "name": "python3"
  },
  "language_info": {
   "codemirror_mode": {
    "name": "ipython",
    "version": 2
   },
   "file_extension": ".py",
   "mimetype": "text/x-python",
   "name": "python",
   "nbconvert_exporter": "python",
   "pygments_lexer": "ipython2",
   "version": "2.7.6"
  }
 },
 "nbformat": 4,
 "nbformat_minor": 5
}
