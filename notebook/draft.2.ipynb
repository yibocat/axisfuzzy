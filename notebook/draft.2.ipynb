{
 "cells": [
  {
   "cell_type": "code",
   "id": "initial_id",
   "metadata": {
    "collapsed": true,
    "ExecuteTime": {
     "end_time": "2025-08-05T14:38:59.617663Z",
     "start_time": "2025-08-05T14:38:59.328065Z"
    }
   },
   "source": [
    "import fuzzlab as fuzz\n",
    "\n",
    "from fuzzlab.core import Fuzznum, Fuzzarray"
   ],
   "outputs": [],
   "execution_count": 1
  },
  {
   "metadata": {
    "ExecuteTime": {
     "end_time": "2025-08-05T14:38:59.942360Z",
     "start_time": "2025-08-05T14:38:59.935595Z"
    }
   },
   "cell_type": "code",
   "source": [
    "f = [\n",
    "    [Fuzznum('qrofn', qrung=3).create(md=0.6, nmd=0.5),\n",
    "     Fuzznum('qrofn', qrung=3).create(md=0.2, nmd=0.7),\n",
    "     Fuzznum('qrofn', qrung=3).create(md=0.1, nmd=0.3)],\n",
    "    [Fuzznum('qrofn', qrung=3).create(md=0.5, nmd=0.6),\n",
    "     Fuzznum('qrofn', qrung=3).create(md=0.8, nmd=0.3),\n",
    "     Fuzznum('qrofn', qrung=3).create(md=0.3, nmd=0.6)],\n",
    "    [Fuzznum('qrofn', qrung=3).create(md=0.4, nmd=0.8),\n",
    "     Fuzznum('qrofn', qrung=3).create(md=0.8, nmd=0.3),\n",
    "     Fuzznum('qrofn', qrung=3).create(md=0.2, nmd=0.4)]]"
   ],
   "id": "6b7dc4c466c8772",
   "outputs": [],
   "execution_count": 2
  },
  {
   "metadata": {
    "ExecuteTime": {
     "end_time": "2025-08-05T14:39:00.172341Z",
     "start_time": "2025-08-05T14:39:00.165745Z"
    }
   },
   "cell_type": "code",
   "source": "t = Fuzzarray(f)",
   "id": "c467d3d69141fb92",
   "outputs": [],
   "execution_count": 3
  },
  {
   "metadata": {
    "ExecuteTime": {
     "end_time": "2025-08-05T14:39:03.691314Z",
     "start_time": "2025-08-05T14:39:03.679797Z"
    }
   },
   "cell_type": "code",
   "source": "t.sum()",
   "id": "3e7fefe70af40cea",
   "outputs": [
    {
     "data": {
      "text/plain": [
       "<0.9487,0.0011>"
      ]
     },
     "execution_count": 4,
     "metadata": {},
     "output_type": "execute_result"
    }
   ],
   "execution_count": 4
  },
  {
   "metadata": {
    "ExecuteTime": {
     "end_time": "2025-08-05T14:39:03.989631Z",
     "start_time": "2025-08-05T14:39:03.982032Z"
    }
   },
   "cell_type": "code",
   "source": "t.mean()",
   "id": "5cf81f8fc3e472fb",
   "outputs": [
    {
     "data": {
      "text/plain": [
       "<0.5772,0.4686>"
      ]
     },
     "execution_count": 5,
     "metadata": {},
     "output_type": "execute_result"
    }
   ],
   "execution_count": 5
  },
  {
   "metadata": {
    "ExecuteTime": {
     "end_time": "2025-08-05T14:39:04.327687Z",
     "start_time": "2025-08-05T14:39:04.322113Z"
    }
   },
   "cell_type": "code",
   "source": "t.max()",
   "id": "f95a676f4de6ca3a",
   "outputs": [
    {
     "data": {
      "text/plain": [
       "<0.8,0.3>"
      ]
     },
     "execution_count": 6,
     "metadata": {},
     "output_type": "execute_result"
    }
   ],
   "execution_count": 6
  },
  {
   "metadata": {
    "ExecuteTime": {
     "end_time": "2025-08-05T14:39:17.244113Z",
     "start_time": "2025-08-05T14:39:17.238917Z"
    }
   },
   "cell_type": "code",
   "source": "t.max(axis=0)",
   "id": "adfbe478566b5962",
   "outputs": [
    {
     "data": {
      "text/plain": [
       "Fuzzarray([<0.6,0.5> <0.8,0.3> <0.2,0.4>], q=3, mtype=qrofn)"
      ]
     },
     "execution_count": 9,
     "metadata": {},
     "output_type": "execute_result"
    }
   ],
   "execution_count": 9
  },
  {
   "metadata": {
    "ExecuteTime": {
     "end_time": "2025-08-05T14:39:18.941441Z",
     "start_time": "2025-08-05T14:39:18.936160Z"
    }
   },
   "cell_type": "code",
   "source": "t.min(axis=1)",
   "id": "ce458a3f2f452df6",
   "outputs": [
    {
     "data": {
      "text/plain": [
       "Fuzzarray([<0.1,0.3> <0.3,0.6> <0.2,0.4>], q=3, mtype=qrofn)"
      ]
     },
     "execution_count": 10,
     "metadata": {},
     "output_type": "execute_result"
    }
   ],
   "execution_count": 10
  },
  {
   "metadata": {
    "ExecuteTime": {
     "end_time": "2025-08-05T14:39:19.136306Z",
     "start_time": "2025-08-05T14:39:19.134473Z"
    }
   },
   "cell_type": "code",
   "source": "",
   "id": "edc0d28ab6e39a08",
   "outputs": [],
   "execution_count": null
  },
  {
   "metadata": {
    "ExecuteTime": {
     "end_time": "2025-08-05T14:39:19.305723Z",
     "start_time": "2025-08-05T14:39:19.299827Z"
    }
   },
   "cell_type": "code",
   "source": "t ** 2",
   "id": "c757fc0d97adc78e",
   "outputs": [
    {
     "data": {
      "text/plain": [
       "Fuzzarray([[<0.7277,0.25> <0.2516,0.49> <0.126,0.09>]\n",
       "           [<0.6166,0.36> <0.9133,0.09> <0.3763,0.36>]\n",
       "           [<0.4985,0.64> <0.9133,0.09> <0.2516,0.16>]], q=3, mtype=qrofn)"
      ]
     },
     "execution_count": 11,
     "metadata": {},
     "output_type": "execute_result"
    }
   ],
   "execution_count": 11
  },
  {
   "metadata": {},
   "cell_type": "code",
   "source": "",
   "id": "44926b10abd0f40e",
   "outputs": [],
   "execution_count": null
  },
  {
   "metadata": {},
   "cell_type": "code",
   "source": "",
   "id": "4345ff03c9b3f42",
   "outputs": [],
   "execution_count": null
  },
  {
   "metadata": {},
   "cell_type": "code",
   "source": "",
   "id": "5275c8163e5bf07e",
   "outputs": [],
   "execution_count": null
  },
  {
   "metadata": {},
   "cell_type": "code",
   "source": "",
   "id": "b2d53744197fd92b",
   "outputs": [],
   "execution_count": null
  },
  {
   "metadata": {},
   "cell_type": "code",
   "source": "",
   "id": "6d8431595b6b0fff",
   "outputs": [],
   "execution_count": null
  },
  {
   "metadata": {},
   "cell_type": "code",
   "source": "",
   "id": "79391a313dc36bf0",
   "outputs": [],
   "execution_count": null
  },
  {
   "metadata": {},
   "cell_type": "code",
   "source": "",
   "id": "3b2aca6e7e7346c4",
   "outputs": [],
   "execution_count": null
  },
  {
   "metadata": {},
   "cell_type": "code",
   "source": "",
   "id": "bc65964a367e468a",
   "outputs": [],
   "execution_count": null
  },
  {
   "metadata": {},
   "cell_type": "code",
   "source": "",
   "id": "f986d5b9f47326b9",
   "outputs": [],
   "execution_count": null
  }
 ],
 "metadata": {
  "kernelspec": {
   "display_name": "Python 3",
   "language": "python",
   "name": "python3"
  },
  "language_info": {
   "codemirror_mode": {
    "name": "ipython",
    "version": 2
   },
   "file_extension": ".py",
   "mimetype": "text/x-python",
   "name": "python",
   "nbconvert_exporter": "python",
   "pygments_lexer": "ipython2",
   "version": "2.7.6"
  }
 },
 "nbformat": 4,
 "nbformat_minor": 5
}
