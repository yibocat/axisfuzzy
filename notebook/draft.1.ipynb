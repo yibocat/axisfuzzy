{
 "cells": [
  {
   "cell_type": "code",
   "id": "initial_id",
   "metadata": {
    "collapsed": true
   },
   "source": [
    "from fuzzlab.core.fuzzarray import fuzzarray\n",
    "from fuzzlab.core.fuzznums import Fuzznum\n",
    "from fuzzlab.core.ops import get_operation_registry\n",
    "from fuzzlab.modules.qrofs.op import register_qrofn_operations"
   ],
   "outputs": [],
   "execution_count": null
  },
  {
   "metadata": {},
   "cell_type": "code",
   "source": "register_qrofn_operations()",
   "id": "780ffb3026d12ffa",
   "outputs": [],
   "execution_count": null
  },
  {
   "cell_type": "code",
   "id": "8b021526396a1cd1",
   "metadata": {},
   "source": [
    "x11 = Fuzznum('qrofn', qrung=3).create(md=0.7, nmd=0.4)\n",
    "x12 = Fuzznum('qrofn', qrung=3).create(md=0.3, nmd=0.2)\n",
    "x13 = Fuzznum('qrofn', qrung=3).create(md=0.7, nmd=0.4)\n",
    "x21 = Fuzznum('qrofn', qrung=3).create(md=0.3, nmd=0.2)\n",
    "x22 = Fuzznum('qrofn', qrung=3).create(md=0.7, nmd=0.4)\n",
    "x23 = Fuzznum('qrofn', qrung=3).create(md=0.3, nmd=0.2)\n",
    "x31 = Fuzznum('qrofn', qrung=3).create(md=0.7, nmd=0.4)\n",
    "x32 = Fuzznum('qrofn', qrung=3).create(md=0.3, nmd=0.2)\n",
    "x33 = Fuzznum('qrofn', qrung=3).create(md=0.3, nmd=0.2)"
   ],
   "outputs": [],
   "execution_count": null
  },
  {
   "metadata": {},
   "cell_type": "code",
   "source": "",
   "id": "11ead28e512c80da",
   "outputs": [],
   "execution_count": null
  },
  {
   "metadata": {},
   "cell_type": "code",
   "source": "x11 > x12",
   "id": "3b4419331dec4f84",
   "outputs": [],
   "execution_count": null
  },
  {
   "metadata": {},
   "cell_type": "code",
   "source": "",
   "id": "3d174885cac92ef0",
   "outputs": [],
   "execution_count": null
  },
  {
   "metadata": {},
   "cell_type": "code",
   "source": [
    "operation_registry = get_operation_registry()\n",
    "operation_registry.set_default_t_norm('einstein')"
   ],
   "id": "100dc04fa0509981",
   "outputs": [],
   "execution_count": null
  },
  {
   "metadata": {},
   "cell_type": "code",
   "source": "operation_registry.get_operation('mul','qrofn').execute_binary_op(x11, x21)",
   "id": "1ad3fa1704f17d0a",
   "outputs": [],
   "execution_count": null
  },
  {
   "metadata": {},
   "cell_type": "code",
   "source": "x11.get_strategy_instance().add(x12.get_strategy_instance())",
   "id": "40c0c36cbd12b525",
   "outputs": [],
   "execution_count": null
  },
  {
   "metadata": {},
   "cell_type": "code",
   "source": "operation_registry.set_default_t_norm('algebraic')",
   "id": "c171234c90b92f72",
   "outputs": [],
   "execution_count": null
  },
  {
   "metadata": {},
   "cell_type": "code",
   "source": "operation_registry.get_operation('mul','qrofn').execute_binary_op(x11, x21)",
   "id": "bfac00e6fe03c13e",
   "outputs": [],
   "execution_count": null
  },
  {
   "metadata": {},
   "cell_type": "code",
   "source": "",
   "id": "12bb08074c24f1e3",
   "outputs": [],
   "execution_count": null
  },
  {
   "metadata": {},
   "cell_type": "code",
   "source": [
    "t = fuzzarray([\n",
    "    [x11,x12,x13],\n",
    "    [x21,x22,x23],\n",
    "    [x31,x32,x33],\n",
    "])"
   ],
   "id": "34690ad573e4c843",
   "outputs": [],
   "execution_count": null
  },
  {
   "metadata": {},
   "cell_type": "code",
   "source": "t.times(0.7)",
   "id": "c386cc4abcd720e3",
   "outputs": [],
   "execution_count": null
  },
  {
   "metadata": {},
   "cell_type": "code",
   "source": "",
   "id": "a2a7968e482d5d99",
   "outputs": [],
   "execution_count": null
  },
  {
   "cell_type": "code",
   "id": "9db156827d58317b",
   "metadata": {},
   "source": "",
   "outputs": [],
   "execution_count": null
  },
  {
   "metadata": {},
   "cell_type": "code",
   "source": "",
   "id": "45073bc2a17ba76a",
   "outputs": [],
   "execution_count": null
  },
  {
   "metadata": {},
   "cell_type": "code",
   "source": "",
   "id": "d21ee0846d95a252",
   "outputs": [],
   "execution_count": null
  }
 ],
 "metadata": {
  "kernelspec": {
   "display_name": "FuzzLab",
   "language": "python",
   "name": "python3"
  },
  "language_info": {
   "codemirror_mode": {
    "name": "ipython",
    "version": 3
   },
   "file_extension": ".py",
   "mimetype": "text/x-python",
   "name": "python",
   "nbconvert_exporter": "python",
   "pygments_lexer": "ipython3",
   "version": "3.10.9"
  }
 },
 "nbformat": 4,
 "nbformat_minor": 5
}
