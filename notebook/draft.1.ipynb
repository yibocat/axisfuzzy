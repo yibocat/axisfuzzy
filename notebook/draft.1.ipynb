{
 "cells": [
  {
   "cell_type": "code",
   "id": "initial_id",
   "metadata": {
    "collapsed": true,
    "ExecuteTime": {
     "end_time": "2025-07-31T09:23:27.939807Z",
     "start_time": "2025-07-31T09:23:27.710012Z"
    }
   },
   "source": [
    "from fuzzlab.core.fuzznums import Fuzznum\n",
    "from fuzzlab.core.fuzzarray import Fuzzarray"
   ],
   "outputs": [],
   "execution_count": 1
  },
  {
   "metadata": {
    "ExecuteTime": {
     "end_time": "2025-07-31T09:23:30.807753Z",
     "start_time": "2025-07-31T09:23:30.801925Z"
    }
   },
   "cell_type": "code",
   "source": [
    "x11 = Fuzznum('qrofn', qrung=3).create(md=0.7, nmd=0.4)\n",
    "x12 = Fuzznum('qrofn', qrung=3).create(md=0.3, nmd=0.2)\n",
    "x13 = Fuzznum('qrofn', qrung=3).create(md=0.7, nmd=0.4)\n",
    "x21 = Fuzznum('qrofn', qrung=3).create(md=0.3, nmd=0.2)\n",
    "x22 = Fuzznum('qrofn', qrung=3).create(md=0.7, nmd=0.4)\n",
    "x23 = Fuzznum('qrofn', qrung=3).create(md=0.3, nmd=0.2)\n",
    "x31 = Fuzznum('qrofn', qrung=3).create(md=0.7, nmd=0.4)\n",
    "x32 = Fuzznum('qrofn', qrung=3).create(md=0.3, nmd=0.2)\n",
    "x33 = Fuzznum('qrofn', qrung=3).create(md=0.3, nmd=0.2)"
   ],
   "id": "8b021526396a1cd1",
   "outputs": [],
   "execution_count": 2
  },
  {
   "metadata": {
    "ExecuteTime": {
     "end_time": "2025-07-31T09:23:31.225860Z",
     "start_time": "2025-07-31T09:23:31.221225Z"
    }
   },
   "cell_type": "code",
   "source": [
    "t = Fuzzarray([[x11,x12,x13],\n",
    "               [x21,x22,x23],\n",
    "               [x31,x32,x33]])"
   ],
   "id": "16d5848ab005d1c3",
   "outputs": [],
   "execution_count": 3
  },
  {
   "metadata": {
    "ExecuteTime": {
     "end_time": "2025-07-31T09:23:31.548399Z",
     "start_time": "2025-07-31T09:23:31.543820Z"
    }
   },
   "cell_type": "code",
   "source": "t",
   "id": "fa34a9fd54ff7388",
   "outputs": [
    {
     "data": {
      "text/plain": [
       "Fuzzarray(\n",
       "[[<0.7,0.4>_q=3 <0.3,0.2>_q=3 <0.7,0.4>_q=3]\n",
       " [<0.3,0.2>_q=3 <0.7,0.4>_q=3 <0.3,0.2>_q=3]\n",
       " [<0.7,0.4>_q=3 <0.3,0.2>_q=3 <0.3,0.2>_q=3]], shape=(3, 3), mtype='qrofn')"
      ]
     },
     "execution_count": 4,
     "metadata": {},
     "output_type": "execute_result"
    }
   ],
   "execution_count": 4
  },
  {
   "metadata": {
    "ExecuteTime": {
     "end_time": "2025-07-31T09:23:32.731918Z",
     "start_time": "2025-07-31T09:23:32.730035Z"
    }
   },
   "cell_type": "code",
   "source": "print(t)",
   "id": "e3fb6d3767aa858f",
   "outputs": [
    {
     "name": "stdout",
     "output_type": "stream",
     "text": [
      "[[<0.7,0.4>_q=3 <0.3,0.2>_q=3 <0.7,0.4>_q=3]\n",
      " [<0.3,0.2>_q=3 <0.7,0.4>_q=3 <0.3,0.2>_q=3]\n",
      " [<0.7,0.4>_q=3 <0.3,0.2>_q=3 <0.3,0.2>_q=3]]\n"
     ]
    }
   ],
   "execution_count": 5
  },
  {
   "metadata": {},
   "cell_type": "code",
   "source": "",
   "id": "97caf7e91a955768",
   "outputs": [],
   "execution_count": null
  },
  {
   "metadata": {},
   "cell_type": "code",
   "source": "",
   "id": "a3ee418e6404aadb",
   "outputs": [],
   "execution_count": null
  },
  {
   "metadata": {},
   "cell_type": "code",
   "source": "",
   "id": "5365ab82de29ef63",
   "outputs": [],
   "execution_count": null
  },
  {
   "metadata": {},
   "cell_type": "code",
   "source": "",
   "id": "cbf55691cd812702",
   "outputs": [],
   "execution_count": null
  },
  {
   "metadata": {},
   "cell_type": "code",
   "source": "",
   "id": "eb8a114863169438",
   "outputs": [],
   "execution_count": null
  },
  {
   "metadata": {},
   "cell_type": "code",
   "source": "",
   "id": "aca852eda5e0818e",
   "outputs": [],
   "execution_count": null
  },
  {
   "metadata": {},
   "cell_type": "code",
   "source": "",
   "id": "8a22424bdf6f2cdb",
   "outputs": [],
   "execution_count": null
  },
  {
   "metadata": {},
   "cell_type": "code",
   "source": "",
   "id": "9db156827d58317b",
   "outputs": [],
   "execution_count": null
  }
 ],
 "metadata": {
  "kernelspec": {
   "display_name": "Python 3",
   "language": "python",
   "name": "python3"
  },
  "language_info": {
   "codemirror_mode": {
    "name": "ipython",
    "version": 2
   },
   "file_extension": ".py",
   "mimetype": "text/x-python",
   "name": "python",
   "nbconvert_exporter": "python",
   "pygments_lexer": "ipython2",
   "version": "2.7.6"
  }
 },
 "nbformat": 4,
 "nbformat_minor": 5
}
