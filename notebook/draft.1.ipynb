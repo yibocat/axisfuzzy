{
 "cells": [
  {
   "cell_type": "code",
   "id": "initial_id",
   "metadata": {
    "collapsed": true,
    "ExecuteTime": {
     "end_time": "2025-08-04T09:34:51.696639Z",
     "start_time": "2025-08-04T09:34:51.365706Z"
    }
   },
   "source": [
    "from fuzzlab.core.fuzzarray import fuzzarray\n",
    "from fuzzlab.core.fuzznums import Fuzznum\n",
    "from fuzzlab.core.ops import get_operation_registry\n",
    "from fuzzlab.modules.qrofs.op import register_qrofn_operations\n",
    "register_qrofn_operations()\n",
    "operation_registry = get_operation_registry()"
   ],
   "outputs": [],
   "execution_count": 1
  },
  {
   "metadata": {
    "ExecuteTime": {
     "end_time": "2025-08-04T09:34:53.007853Z",
     "start_time": "2025-08-04T09:34:53.001439Z"
    }
   },
   "cell_type": "code",
   "source": [
    "x = Fuzznum('qrofn', 3).create(md=0.7, nmd=0.2)\n",
    "y = Fuzznum('qrofn', 3).create(md=0.6, nmd=0.5)"
   ],
   "id": "38580fb4f41a9d0b",
   "outputs": [],
   "execution_count": 2
  },
  {
   "cell_type": "code",
   "id": "8b021526396a1cd1",
   "metadata": {
    "ExecuteTime": {
     "end_time": "2025-08-04T09:34:53.293798Z",
     "start_time": "2025-08-04T09:34:53.288729Z"
    }
   },
   "source": [
    "f = [[Fuzznum('qrofn', qrung=3).create(md=0.7, nmd=0.4),\n",
    "Fuzznum('qrofn', qrung=3).create(md=0.3, nmd=0.2),\n",
    "Fuzznum('qrofn', qrung=3).create(md=0.7, nmd=0.4)],\n",
    "[Fuzznum('qrofn', qrung=3).create(md=0.3, nmd=0.2),\n",
    "Fuzznum('qrofn', qrung=3).create(md=0.7, nmd=0.4),\n",
    "Fuzznum('qrofn', qrung=3).create(md=0.3, nmd=0.2)],\n",
    "[Fuzznum('qrofn', qrung=3).create(md=0.7, nmd=0.4),\n",
    "Fuzznum('qrofn', qrung=3).create(md=0.3, nmd=0.2),\n",
    "Fuzznum('qrofn', qrung=3).create(md=0.3, nmd=0.2)]]"
   ],
   "outputs": [],
   "execution_count": 3
  },
  {
   "metadata": {
    "ExecuteTime": {
     "end_time": "2025-08-04T09:35:00.361300Z",
     "start_time": "2025-08-04T09:35:00.357274Z"
    }
   },
   "cell_type": "code",
   "source": "t = fuzzarray(f)",
   "id": "11ead28e512c80da",
   "outputs": [],
   "execution_count": 4
  },
  {
   "metadata": {
    "ExecuteTime": {
     "end_time": "2025-08-04T09:35:12.546764Z",
     "start_time": "2025-08-04T09:35:12.532952Z"
    }
   },
   "cell_type": "code",
   "source": "s = fuzzarray(x, shape=(3,3))",
   "id": "cfb0a742fdf78487",
   "outputs": [],
   "execution_count": 5
  },
  {
   "metadata": {
    "ExecuteTime": {
     "end_time": "2025-08-04T09:35:28.128816Z",
     "start_time": "2025-08-04T09:35:28.127058Z"
    }
   },
   "cell_type": "code",
   "source": "",
   "id": "4fcb20bbfe180716",
   "outputs": [],
   "execution_count": null
  },
  {
   "metadata": {},
   "cell_type": "code",
   "outputs": [],
   "execution_count": null,
   "source": "",
   "id": "718b4b40f575a93d"
  },
  {
   "metadata": {},
   "cell_type": "code",
   "outputs": [],
   "execution_count": null,
   "source": "",
   "id": "ffcebb0c0366048d"
  },
  {
   "metadata": {},
   "cell_type": "code",
   "source": "import numpy as np",
   "id": "c171234c90b92f72",
   "outputs": [],
   "execution_count": null
  },
  {
   "metadata": {},
   "cell_type": "code",
   "source": "p = np.random.rand(3,3)",
   "id": "bfac00e6fe03c13e",
   "outputs": [],
   "execution_count": null
  },
  {
   "metadata": {},
   "cell_type": "code",
   "source": "",
   "id": "12bb08074c24f1e3",
   "outputs": [],
   "execution_count": null
  },
  {
   "metadata": {},
   "cell_type": "code",
   "source": "",
   "id": "34690ad573e4c843",
   "outputs": [],
   "execution_count": null
  },
  {
   "metadata": {},
   "cell_type": "code",
   "source": "",
   "id": "c386cc4abcd720e3",
   "outputs": [],
   "execution_count": null
  },
  {
   "metadata": {},
   "cell_type": "code",
   "source": "",
   "id": "a2a7968e482d5d99",
   "outputs": [],
   "execution_count": null
  },
  {
   "cell_type": "code",
   "id": "9db156827d58317b",
   "metadata": {},
   "source": "",
   "outputs": [],
   "execution_count": null
  },
  {
   "metadata": {},
   "cell_type": "code",
   "source": "",
   "id": "45073bc2a17ba76a",
   "outputs": [],
   "execution_count": null
  },
  {
   "metadata": {},
   "cell_type": "code",
   "source": "",
   "id": "d21ee0846d95a252",
   "outputs": [],
   "execution_count": null
  }
 ],
 "metadata": {
  "kernelspec": {
   "display_name": "FuzzLab",
   "language": "python",
   "name": "python3"
  },
  "language_info": {
   "codemirror_mode": {
    "name": "ipython",
    "version": 3
   },
   "file_extension": ".py",
   "mimetype": "text/x-python",
   "name": "python",
   "nbconvert_exporter": "python",
   "pygments_lexer": "ipython3",
   "version": "3.10.9"
  }
 },
 "nbformat": 4,
 "nbformat_minor": 5
}
