{
 "cells": [
  {
   "cell_type": "code",
   "id": "initial_id",
   "metadata": {
    "collapsed": true,
    "ExecuteTime": {
     "end_time": "2025-08-03T12:58:31.632386Z",
     "start_time": "2025-08-03T12:58:31.336820Z"
    }
   },
   "source": [
    "from fuzzlab.core.fuzzarray import fuzzarray\n",
    "from fuzzlab.core.fuzznums import Fuzznum\n",
    "from fuzzlab.core.ops import get_operation_registry\n",
    "from fuzzlab.modules.qrofs.op import register_qrofn_operations\n",
    "register_qrofn_operations()\n",
    "operation_registry = get_operation_registry()"
   ],
   "outputs": [],
   "execution_count": 1
  },
  {
   "metadata": {
    "ExecuteTime": {
     "end_time": "2025-08-03T12:58:32.057245Z",
     "start_time": "2025-08-03T12:58:32.049958Z"
    }
   },
   "cell_type": "code",
   "source": [
    "x = Fuzznum('qrofn', 3).create(md=0.7, nmd=0.2)\n",
    "y = Fuzznum('qrofn', 3).create(md=0.6, nmd=0.5)"
   ],
   "id": "38580fb4f41a9d0b",
   "outputs": [],
   "execution_count": 2
  },
  {
   "metadata": {
    "ExecuteTime": {
     "end_time": "2025-08-03T12:58:32.234755Z",
     "start_time": "2025-08-03T12:58:32.226729Z"
    }
   },
   "cell_type": "code",
   "source": "x + y",
   "id": "9d06b52588b105f",
   "outputs": [
    {
     "data": {
      "text/plain": [
       "Fuzznum(\n",
       " q=3, md=np.float64(0.785635), nmd=np.float64(0.1)\n",
       " mtype='qrofn'\n",
       " id=4408509632\n",
       " is_valid=True\n",
       " status=initialized\n",
       " strategy=QROFNStrategy\n",
       " template=QROFNTemplate)"
      ]
     },
     "execution_count": 3,
     "metadata": {},
     "output_type": "execute_result"
    }
   ],
   "execution_count": 3
  },
  {
   "metadata": {
    "ExecuteTime": {
     "end_time": "2025-08-03T12:58:32.478505Z",
     "start_time": "2025-08-03T12:58:32.476627Z"
    }
   },
   "cell_type": "code",
   "source": "operation_registry.switch_t_norm('frank')",
   "id": "e7763f1bd9880ded",
   "outputs": [],
   "execution_count": 4
  },
  {
   "metadata": {
    "ExecuteTime": {
     "end_time": "2025-08-03T12:58:32.917554Z",
     "start_time": "2025-08-03T12:58:32.908281Z"
    }
   },
   "cell_type": "code",
   "source": "x + y",
   "id": "8e21d50b6ff0088f",
   "outputs": [
    {
     "data": {
      "text/plain": [
       "Fuzznum(\n",
       " q=3, md=np.float64(0.795377), nmd=np.float64(0.085371)\n",
       " mtype='qrofn'\n",
       " id=4408513472\n",
       " is_valid=True\n",
       " status=initialized\n",
       " strategy=QROFNStrategy\n",
       " template=QROFNTemplate)"
      ]
     },
     "execution_count": 5,
     "metadata": {},
     "output_type": "execute_result"
    }
   ],
   "execution_count": 5
  },
  {
   "metadata": {},
   "cell_type": "code",
   "source": "",
   "id": "f091f3fb061ea4dd",
   "outputs": [],
   "execution_count": null
  },
  {
   "metadata": {},
   "cell_type": "code",
   "source": "",
   "id": "edb75378dfa3260b",
   "outputs": [],
   "execution_count": null
  },
  {
   "metadata": {},
   "cell_type": "code",
   "source": "",
   "id": "6480e8f34046e96b",
   "outputs": [],
   "execution_count": null
  },
  {
   "metadata": {},
   "cell_type": "code",
   "source": "",
   "id": "44fb7e69b4fa0e32",
   "outputs": [],
   "execution_count": null
  },
  {
   "metadata": {},
   "cell_type": "code",
   "source": "",
   "id": "3ac81274d5b94086",
   "outputs": [],
   "execution_count": null
  },
  {
   "metadata": {},
   "cell_type": "code",
   "source": "",
   "id": "95d6ea909c27a366",
   "outputs": [],
   "execution_count": null
  },
  {
   "metadata": {},
   "cell_type": "code",
   "source": "",
   "id": "e88bc572ceaa4b48",
   "outputs": [],
   "execution_count": null
  },
  {
   "metadata": {},
   "cell_type": "code",
   "source": "",
   "id": "661c7deb59af6349",
   "outputs": [],
   "execution_count": null
  },
  {
   "metadata": {},
   "cell_type": "code",
   "source": "",
   "id": "4b9227a3eb6763c",
   "outputs": [],
   "execution_count": null
  },
  {
   "cell_type": "code",
   "id": "8b021526396a1cd1",
   "metadata": {
    "ExecuteTime": {
     "end_time": "2025-08-03T12:58:35.761428Z",
     "start_time": "2025-08-03T12:58:35.754581Z"
    }
   },
   "source": [
    "f = [[Fuzznum('qrofn', qrung=3).create(md=0.7, nmd=0.4),\n",
    "Fuzznum('qrofn', qrung=3).create(md=0.3, nmd=0.2),\n",
    "Fuzznum('qrofn', qrung=3).create(md=0.7, nmd=0.4)],\n",
    "[Fuzznum('qrofn', qrung=3).create(md=0.3, nmd=0.2),\n",
    "Fuzznum('qrofn', qrung=3).create(md=0.7, nmd=0.4),\n",
    "Fuzznum('qrofn', qrung=3).create(md=0.3, nmd=0.2)],\n",
    "[Fuzznum('qrofn', qrung=3).create(md=0.7, nmd=0.4),\n",
    "Fuzznum('qrofn', qrung=3).create(md=0.3, nmd=0.2),\n",
    "Fuzznum('qrofn', qrung=3).create(md=0.3, nmd=0.2)]]"
   ],
   "outputs": [],
   "execution_count": 6
  },
  {
   "metadata": {
    "ExecuteTime": {
     "end_time": "2025-08-03T12:58:35.928120Z",
     "start_time": "2025-08-03T12:58:35.923613Z"
    }
   },
   "cell_type": "code",
   "source": "t = fuzzarray(f)",
   "id": "11ead28e512c80da",
   "outputs": [],
   "execution_count": 7
  },
  {
   "metadata": {
    "ExecuteTime": {
     "end_time": "2025-08-03T12:58:36.337511Z",
     "start_time": "2025-08-03T12:58:36.325669Z"
    }
   },
   "cell_type": "code",
   "source": "print((t + x) ** 2)",
   "id": "3b4419331dec4f84",
   "outputs": [
    {
     "name": "stdout",
     "output_type": "stream",
     "text": [
      "[[<0.952077,0.003816>_q=3 <0.853159,0.000936>_q=3 <0.952077,0.003816>_q=3]\n",
      " [<0.853159,0.000936>_q=3 <0.952077,0.003816>_q=3 <0.853159,0.000936>_q=3]\n",
      " [<0.952077,0.003816>_q=3 <0.853159,0.000936>_q=3 <0.853159,0.000936>_q=3]]\n"
     ]
    }
   ],
   "execution_count": 8
  },
  {
   "metadata": {},
   "cell_type": "code",
   "source": "",
   "id": "3d174885cac92ef0",
   "outputs": [],
   "execution_count": null
  },
  {
   "metadata": {},
   "cell_type": "code",
   "source": "",
   "id": "100dc04fa0509981",
   "outputs": [],
   "execution_count": null
  },
  {
   "metadata": {},
   "cell_type": "code",
   "source": "",
   "id": "1ad3fa1704f17d0a",
   "outputs": [],
   "execution_count": null
  },
  {
   "metadata": {},
   "cell_type": "code",
   "source": "",
   "id": "40c0c36cbd12b525",
   "outputs": [],
   "execution_count": null
  },
  {
   "metadata": {},
   "cell_type": "code",
   "source": "",
   "id": "c171234c90b92f72",
   "outputs": [],
   "execution_count": null
  },
  {
   "metadata": {},
   "cell_type": "code",
   "source": "",
   "id": "bfac00e6fe03c13e",
   "outputs": [],
   "execution_count": null
  },
  {
   "metadata": {},
   "cell_type": "code",
   "source": "",
   "id": "12bb08074c24f1e3",
   "outputs": [],
   "execution_count": null
  },
  {
   "metadata": {},
   "cell_type": "code",
   "source": "",
   "id": "34690ad573e4c843",
   "outputs": [],
   "execution_count": null
  },
  {
   "metadata": {},
   "cell_type": "code",
   "source": "",
   "id": "c386cc4abcd720e3",
   "outputs": [],
   "execution_count": null
  },
  {
   "metadata": {},
   "cell_type": "code",
   "source": "",
   "id": "a2a7968e482d5d99",
   "outputs": [],
   "execution_count": null
  },
  {
   "cell_type": "code",
   "id": "9db156827d58317b",
   "metadata": {},
   "source": "",
   "outputs": [],
   "execution_count": null
  },
  {
   "metadata": {},
   "cell_type": "code",
   "source": "",
   "id": "45073bc2a17ba76a",
   "outputs": [],
   "execution_count": null
  },
  {
   "metadata": {},
   "cell_type": "code",
   "source": "",
   "id": "d21ee0846d95a252",
   "outputs": [],
   "execution_count": null
  }
 ],
 "metadata": {
  "kernelspec": {
   "display_name": "FuzzLab",
   "language": "python",
   "name": "python3"
  },
  "language_info": {
   "codemirror_mode": {
    "name": "ipython",
    "version": 3
   },
   "file_extension": ".py",
   "mimetype": "text/x-python",
   "name": "python",
   "nbconvert_exporter": "python",
   "pygments_lexer": "ipython3",
   "version": "3.10.9"
  }
 },
 "nbformat": 4,
 "nbformat_minor": 5
}
