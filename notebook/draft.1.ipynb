{
 "cells": [
  {
   "metadata": {},
   "cell_type": "code",
   "outputs": [],
   "execution_count": null,
   "source": [
    "from fuzzlab.core.fuzzarray import fuzzarray\n",
    "from fuzzlab.core.fuzznums import Fuzznum\n",
    "from fuzzlab.core.mixin import get_operation_registry\n",
    "from fuzzlab.fuzzy.qrofs.op import register_qrofn_operations\n",
    "from fuzzlab.config import get_config, set_config\n",
    "\n",
    "operation_registry = get_operation_registry()"
   ],
   "id": "65df460f3b97d9bf"
  },
  {
   "metadata": {},
   "cell_type": "code",
   "outputs": [],
   "execution_count": null,
   "source": "set_config(DEFAULT_PRECISION=6)",
   "id": "bbe3d8fb36d908de"
  },
  {
   "metadata": {},
   "cell_type": "code",
   "source": [
    "x = Fuzznum('qrofn', 3).create(md=0.99999, nmd=0.00001)\n",
    "y = Fuzznum('qrofn', 3).create(md=0.00001, nmd=0.99999)"
   ],
   "id": "38580fb4f41a9d0b",
   "outputs": [],
   "execution_count": null
  },
  {
   "cell_type": "code",
   "id": "8b021526396a1cd1",
   "metadata": {},
   "source": [
    "f = [[Fuzznum('qrofn', qrung=3).create(md=0.7, nmd=0.4),\n",
    "Fuzznum('qrofn', qrung=3).create(md=0.3, nmd=0.2),\n",
    "Fuzznum('qrofn', qrung=3).create(md=0.7, nmd=0.4)],\n",
    "[Fuzznum('qrofn', qrung=3).create(md=0.3, nmd=0.2),\n",
    "Fuzznum('qrofn', qrung=3).create(md=0.7, nmd=0.4),\n",
    "Fuzznum('qrofn', qrung=3).create(md=0.3, nmd=0.2)],\n",
    "[Fuzznum('qrofn', qrung=3).create(md=0.7, nmd=0.4),\n",
    "Fuzznum('qrofn', qrung=3).create(md=0.3, nmd=0.2),\n",
    "Fuzznum('qrofn', qrung=3).create(md=0.3, nmd=0.2)]]"
   ],
   "outputs": [],
   "execution_count": null
  },
  {
   "metadata": {},
   "cell_type": "code",
   "source": "t = fuzzarray(f)",
   "id": "11ead28e512c80da",
   "outputs": [],
   "execution_count": null
  },
  {
   "metadata": {},
   "cell_type": "code",
   "source": "",
   "id": "360f5f869e4de499",
   "outputs": [],
   "execution_count": null
  },
  {
   "metadata": {},
   "cell_type": "code",
   "source": "",
   "id": "998d5d330b95d13a",
   "outputs": [],
   "execution_count": null
  },
  {
   "metadata": {},
   "cell_type": "code",
   "source": "f = Fuzznum('qrofn', 4).create()",
   "id": "a417f1d933adac2d",
   "outputs": [],
   "execution_count": null
  },
  {
   "metadata": {},
   "cell_type": "code",
   "source": "f",
   "id": "f64f63616ab7a459",
   "outputs": [],
   "execution_count": null
  },
  {
   "metadata": {},
   "cell_type": "code",
   "source": "",
   "id": "1f15e5a6e54a7f28",
   "outputs": [],
   "execution_count": null
  },
  {
   "metadata": {},
   "cell_type": "code",
   "source": "x ** 2",
   "id": "b35c28065d087dc2",
   "outputs": [],
   "execution_count": null
  },
  {
   "metadata": {},
   "cell_type": "code",
   "source": "t ^ x",
   "id": "cfb0a742fdf78487",
   "outputs": [],
   "execution_count": null
  },
  {
   "metadata": {},
   "cell_type": "code",
   "source": "x ^ t",
   "id": "fbaf5d7ae3c0d82d",
   "outputs": [],
   "execution_count": null
  },
  {
   "metadata": {},
   "cell_type": "code",
   "source": "t ** 2",
   "id": "8824e8ec20c02ddb",
   "outputs": [],
   "execution_count": null
  },
  {
   "metadata": {},
   "cell_type": "code",
   "source": "t.equivalent(y * x)",
   "id": "977d7e0cb3fe2fd2",
   "outputs": [],
   "execution_count": null
  },
  {
   "metadata": {},
   "cell_type": "code",
   "source": "",
   "id": "ae7f7c334f742cf1",
   "outputs": [],
   "execution_count": null
  },
  {
   "metadata": {},
   "cell_type": "code",
   "source": "x & y",
   "id": "4fcb20bbfe180716",
   "outputs": [],
   "execution_count": null
  },
  {
   "metadata": {},
   "cell_type": "code",
   "source": "x | y",
   "id": "718b4b40f575a93d",
   "outputs": [],
   "execution_count": null
  },
  {
   "metadata": {},
   "cell_type": "code",
   "source": "~x",
   "id": "ffcebb0c0366048d",
   "outputs": [],
   "execution_count": null
  },
  {
   "metadata": {},
   "cell_type": "code",
   "source": "x >> y",
   "id": "c171234c90b92f72",
   "outputs": [],
   "execution_count": null
  },
  {
   "metadata": {},
   "cell_type": "code",
   "source": "x << y",
   "id": "bfac00e6fe03c13e",
   "outputs": [],
   "execution_count": null
  },
  {
   "metadata": {},
   "cell_type": "code",
   "source": "x ^ y",
   "id": "12bb08074c24f1e3",
   "outputs": [],
   "execution_count": null
  },
  {
   "metadata": {},
   "cell_type": "code",
   "source": "y^x",
   "id": "f59411eb907368aa",
   "outputs": [],
   "execution_count": null
  },
  {
   "metadata": {},
   "cell_type": "code",
   "source": "x.equivalent(y)",
   "id": "34690ad573e4c843",
   "outputs": [],
   "execution_count": null
  },
  {
   "metadata": {},
   "cell_type": "code",
   "source": "y.equivalent(x)",
   "id": "c386cc4abcd720e3",
   "outputs": [],
   "execution_count": null
  },
  {
   "metadata": {},
   "cell_type": "code",
   "source": "",
   "id": "a2a7968e482d5d99",
   "outputs": [],
   "execution_count": null
  },
  {
   "cell_type": "code",
   "id": "9db156827d58317b",
   "metadata": {},
   "source": "",
   "outputs": [],
   "execution_count": null
  },
  {
   "metadata": {},
   "cell_type": "code",
   "source": "operation_registry.get_performance_stats()",
   "id": "45073bc2a17ba76a",
   "outputs": [],
   "execution_count": null
  },
  {
   "metadata": {},
   "cell_type": "code",
   "source": "",
   "id": "d21ee0846d95a252",
   "outputs": [],
   "execution_count": null
  },
  {
   "metadata": {},
   "cell_type": "code",
   "source": "",
   "id": "147568e08fb9c357",
   "outputs": [],
   "execution_count": null
  },
  {
   "metadata": {},
   "cell_type": "code",
   "source": "",
   "id": "fbc80310ca266b9",
   "outputs": [],
   "execution_count": null
  },
  {
   "metadata": {},
   "cell_type": "code",
   "source": "",
   "id": "2aa9a4eb3fe6a0fc",
   "outputs": [],
   "execution_count": null
  }
 ],
 "metadata": {
  "kernelspec": {
   "display_name": "FuzzLab",
   "language": "python",
   "name": "python3"
  },
  "language_info": {
   "codemirror_mode": {
    "name": "ipython",
    "version": 3
   },
   "file_extension": ".py",
   "mimetype": "text/x-python",
   "name": "python",
   "nbconvert_exporter": "python",
   "pygments_lexer": "ipython3",
   "version": "3.10.9"
  }
 },
 "nbformat": 4,
 "nbformat_minor": 5
}
