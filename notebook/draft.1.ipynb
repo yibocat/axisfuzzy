{
 "cells": [
  {
   "cell_type": "code",
   "id": "initial_id",
   "metadata": {
    "collapsed": true
   },
   "source": [
    "from fuzzlab.core.fuzzarray import fuzzarray\n",
    "from fuzzlab.core.fuzznums import Fuzznum\n",
    "from fuzzlab.modules.qrofs.operations import register_qrofn_operations"
   ],
   "outputs": [],
   "execution_count": null
  },
  {
   "metadata": {},
   "cell_type": "code",
   "source": "register_qrofn_operations()",
   "id": "780ffb3026d12ffa",
   "outputs": [],
   "execution_count": null
  },
  {
   "cell_type": "code",
   "id": "8b021526396a1cd1",
   "metadata": {},
   "source": [
    "x11 = Fuzznum('qrofn', qrung=3).create(md=0.7, nmd=0.4)\n",
    "x12 = Fuzznum('qrofn', qrung=3).create(md=0.3, nmd=0.2)\n",
    "x13 = Fuzznum('qrofn', qrung=3).create(md=0.7, nmd=0.4)\n",
    "x21 = Fuzznum('qrofn', qrung=3).create(md=0.3, nmd=0.2)\n",
    "x22 = Fuzznum('qrofn', qrung=3).create(md=0.7, nmd=0.4)\n",
    "x23 = Fuzznum('qrofn', qrung=3).create(md=0.3, nmd=0.2)\n",
    "x31 = Fuzznum('qrofn', qrung=3).create(md=0.7, nmd=0.4)\n",
    "x32 = Fuzznum('qrofn', qrung=3).create(md=0.3, nmd=0.2)\n",
    "x33 = Fuzznum('qrofn', qrung=3).create(md=0.3, nmd=0.2)"
   ],
   "outputs": [],
   "execution_count": null
  },
  {
   "cell_type": "code",
   "id": "16d5848ab005d1c3",
   "metadata": {},
   "source": [
    "t = fuzzarray([[x11,x12,x13],\n",
    "               [x21,x22,x23],\n",
    "               [x31,x32,x33]])"
   ],
   "outputs": [],
   "execution_count": null
  },
  {
   "cell_type": "code",
   "id": "fa34a9fd54ff7388",
   "metadata": {},
   "source": "t.times(0.2)",
   "outputs": [],
   "execution_count": null
  },
  {
   "cell_type": "code",
   "id": "e3fb6d3767aa858f",
   "metadata": {},
   "source": "t.complement()",
   "outputs": [],
   "execution_count": null
  },
  {
   "cell_type": "code",
   "id": "97caf7e91a955768",
   "metadata": {},
   "source": "",
   "outputs": [],
   "execution_count": null
  },
  {
   "cell_type": "code",
   "id": "a3ee418e6404aadb",
   "metadata": {},
   "source": [],
   "outputs": [],
   "execution_count": null
  },
  {
   "cell_type": "code",
   "id": "5365ab82de29ef63",
   "metadata": {},
   "source": [],
   "outputs": [],
   "execution_count": null
  },
  {
   "cell_type": "code",
   "id": "cbf55691cd812702",
   "metadata": {},
   "source": [],
   "outputs": [],
   "execution_count": null
  },
  {
   "cell_type": "code",
   "id": "eb8a114863169438",
   "metadata": {},
   "source": [],
   "outputs": [],
   "execution_count": null
  },
  {
   "cell_type": "code",
   "id": "aca852eda5e0818e",
   "metadata": {},
   "source": [],
   "outputs": [],
   "execution_count": null
  },
  {
   "cell_type": "code",
   "id": "8a22424bdf6f2cdb",
   "metadata": {},
   "source": [],
   "outputs": [],
   "execution_count": null
  },
  {
   "cell_type": "code",
   "id": "9db156827d58317b",
   "metadata": {},
   "source": [],
   "outputs": [],
   "execution_count": null
  }
 ],
 "metadata": {
  "kernelspec": {
   "display_name": "FuzzLab",
   "language": "python",
   "name": "python3"
  },
  "language_info": {
   "codemirror_mode": {
    "name": "ipython",
    "version": 3
   },
   "file_extension": ".py",
   "mimetype": "text/x-python",
   "name": "python",
   "nbconvert_exporter": "python",
   "pygments_lexer": "ipython3",
   "version": "3.10.9"
  }
 },
 "nbformat": 4,
 "nbformat_minor": 5
}
