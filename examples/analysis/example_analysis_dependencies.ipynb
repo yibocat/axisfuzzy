{
 "cells": [
  {
   "cell_type": "code",
   "id": "initial_id",
   "metadata": {
    "collapsed": true,
    "ExecuteTime": {
     "end_time": "2025-08-31T14:21:17.235421Z",
     "start_time": "2025-08-31T14:21:17.232989Z"
    }
   },
   "source": [
    "import axisfuzzy\n",
    "from axisfuzzy import analysis as afa"
   ],
   "outputs": [],
   "execution_count": 3
  },
  {
   "metadata": {
    "ExecuteTime": {
     "end_time": "2025-08-31T14:21:36.722322Z",
     "start_time": "2025-08-31T14:21:36.719097Z"
    }
   },
   "cell_type": "code",
   "source": "",
   "id": "61e69ca8f278f2d8",
   "outputs": [],
   "execution_count": null
  },
  {
   "metadata": {},
   "cell_type": "code",
   "source": "",
   "id": "4c3f73ce075763d",
   "outputs": [],
   "execution_count": null
  }
 ],
 "metadata": {
  "kernelspec": {
   "display_name": "Python 3",
   "language": "python",
   "name": "python3"
  },
  "language_info": {
   "codemirror_mode": {
    "name": "ipython",
    "version": 2
   },
   "file_extension": ".py",
   "mimetype": "text/x-python",
   "name": "python",
   "nbconvert_exporter": "python",
   "pygments_lexer": "ipython2",
   "version": "2.7.6"
  }
 },
 "nbformat": 4,
 "nbformat_minor": 5
}
