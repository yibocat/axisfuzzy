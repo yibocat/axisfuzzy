{
 "cells": [
  {
   "cell_type": "code",
   "id": "initial_id",
   "metadata": {
    "collapsed": true,
    "ExecuteTime": {
     "end_time": "2025-08-26T17:33:46.484509Z",
     "start_time": "2025-08-26T17:33:45.892828Z"
    }
   },
   "source": [
    "# test_phase3_features.py\n",
    "\n",
    "import pandas as pd\n",
    "import numpy as np\n",
    "\n",
    "from axisfuzzy.analysis.app import Sequential, layers"
   ],
   "outputs": [],
   "execution_count": 1
  },
  {
   "metadata": {
    "ExecuteTime": {
     "end_time": "2025-08-26T17:33:47.757466Z",
     "start_time": "2025-08-26T17:33:47.753635Z"
    }
   },
   "cell_type": "code",
   "source": [
    "# 准备测试数据\n",
    "df = pd.DataFrame(np.random.rand(5, 3), columns=['A', 'B', 'C'])"
   ],
   "id": "beb1ff58d75660c2",
   "outputs": [],
   "execution_count": 2
  },
  {
   "metadata": {
    "ExecuteTime": {
     "end_time": "2025-08-26T17:33:47.993713Z",
     "start_time": "2025-08-26T17:33:47.989991Z"
    }
   },
   "cell_type": "code",
   "source": [
    "# 构建模型\n",
    "model = Sequential([\n",
    "    layers.normalization(method='min_max'),\n",
    "    layers.statistics()\n",
    "], name=\"Phase3TestModel\")"
   ],
   "id": "9cf609153e2c6244",
   "outputs": [],
   "execution_count": 3
  },
  {
   "metadata": {
    "ExecuteTime": {
     "end_time": "2025-08-26T17:33:48.461287Z",
     "start_time": "2025-08-26T17:33:48.459281Z"
    }
   },
   "cell_type": "code",
   "source": [
    "print(\"=== 功能测试 1: 模型摘要 ===\")\n",
    "model.summary()"
   ],
   "id": "5357808e8a441212",
   "outputs": [
    {
     "name": "stdout",
     "output_type": "stream",
     "text": [
      "=== 功能测试 1: 模型摘要 ===\n",
      "======================================================================\n",
      "Model: \"Phase3TestModel\"\n",
      "======================================================================\n",
      "Layer (type)         Input Contract       Output Contract     \n",
      "----------------------------------------------------------------------\n",
      "ToolNormalization    CrispTable           CrispTable          \n",
      "ToolStatistics       CrispTable           StatisticsDict      \n",
      "======================================================================\n",
      "Total layers: 2\n",
      "======================================================================\n"
     ]
    }
   ],
   "execution_count": 4
  },
  {
   "metadata": {
    "ExecuteTime": {
     "end_time": "2025-08-26T17:33:49.005763Z",
     "start_time": "2025-08-26T17:33:48.997021Z"
    }
   },
   "cell_type": "code",
   "source": [
    "result = model.run(initial_data=df)\n",
    "result"
   ],
   "id": "be6849bd32999b48",
   "outputs": [
    {
     "data": {
      "text/plain": [
       "{'mean': 0.4298204883010412,\n",
       " 'std': 0.42921138652946006,\n",
       " 'min': 0.0,\n",
       " 'max': 1.0,\n",
       " 'median': 0.30930608457965447,\n",
       " 'count': 15}"
      ]
     },
     "execution_count": 5,
     "metadata": {},
     "output_type": "execute_result"
    }
   ],
   "execution_count": 5
  },
  {
   "metadata": {
    "ExecuteTime": {
     "end_time": "2025-08-26T17:33:49.480011Z",
     "start_time": "2025-08-26T17:33:49.475498Z"
    }
   },
   "cell_type": "code",
   "source": [
    "print(\"\\n=== 功能测试 3: 模型保存 ===\")\n",
    "model.save(\"test_model.json\")"
   ],
   "id": "bf8172a99b4d4f1d",
   "outputs": [
    {
     "name": "stdout",
     "output_type": "stream",
     "text": [
      "\n",
      "=== 功能测试 3: 模型保存 ===\n"
     ]
    }
   ],
   "execution_count": 6
  },
  {
   "metadata": {
    "ExecuteTime": {
     "end_time": "2025-08-26T17:33:50.006918Z",
     "start_time": "2025-08-26T17:33:50.002118Z"
    }
   },
   "cell_type": "code",
   "source": [
    "print(\"\\n=== 功能测试 4: 模型加载 ===\")\n",
    "loaded_model = Sequential.load(\"test_model.json\")\n",
    "loaded_model.summary()"
   ],
   "id": "2009784f43237067",
   "outputs": [
    {
     "name": "stdout",
     "output_type": "stream",
     "text": [
      "\n",
      "=== 功能测试 4: 模型加载 ===\n",
      "======================================================================\n",
      "Model: \"Phase3TestModel\"\n",
      "======================================================================\n",
      "Layer (type)         Input Contract       Output Contract     \n",
      "----------------------------------------------------------------------\n",
      "ToolNormalization    CrispTable           CrispTable          \n",
      "ToolStatistics       CrispTable           StatisticsDict      \n",
      "======================================================================\n",
      "Total layers: 2\n",
      "======================================================================\n"
     ]
    }
   ],
   "execution_count": 7
  },
  {
   "metadata": {
    "ExecuteTime": {
     "end_time": "2025-08-26T17:33:50.570524Z",
     "start_time": "2025-08-26T17:33:50.564686Z"
    }
   },
   "cell_type": "code",
   "source": [
    "print(\"\\n=== 功能测试 5: 加载的模型运行 ===\")\n",
    "loaded_result = loaded_model.run(initial_data=df)\n",
    "print(f\"加载模型成功\")\n",
    "loaded_result"
   ],
   "id": "2913ddf60072c1d1",
   "outputs": [
    {
     "name": "stdout",
     "output_type": "stream",
     "text": [
      "\n",
      "=== 功能测试 5: 加载的模型运行 ===\n",
      "加载模型成功\n"
     ]
    },
    {
     "data": {
      "text/plain": [
       "{'mean': 0.4298204883010412,\n",
       " 'std': 0.42921138652946006,\n",
       " 'min': 0.0,\n",
       " 'max': 1.0,\n",
       " 'median': 0.30930608457965447,\n",
       " 'count': 15}"
      ]
     },
     "execution_count": 8,
     "metadata": {},
     "output_type": "execute_result"
    }
   ],
   "execution_count": 8
  },
  {
   "metadata": {
    "ExecuteTime": {
     "end_time": "2025-08-26T17:33:51.521944Z",
     "start_time": "2025-08-26T17:33:51.518536Z"
    }
   },
   "cell_type": "code",
   "source": "print(\"\\n🎉 Phase 3 所有功能测试完成！\")",
   "id": "fc59229e1e15e9e5",
   "outputs": [
    {
     "name": "stdout",
     "output_type": "stream",
     "text": [
      "\n",
      "🎉 Phase 3 所有功能测试完成！\n"
     ]
    }
   ],
   "execution_count": 9
  },
  {
   "metadata": {},
   "cell_type": "code",
   "source": "",
   "id": "44be6fc2ade6043f",
   "outputs": [],
   "execution_count": null
  },
  {
   "metadata": {},
   "cell_type": "code",
   "source": "",
   "id": "6fbf8f4a103d58a5",
   "outputs": [],
   "execution_count": null
  },
  {
   "metadata": {},
   "cell_type": "code",
   "source": "",
   "id": "287819e396c878b8",
   "outputs": [],
   "execution_count": null
  },
  {
   "metadata": {},
   "cell_type": "code",
   "source": "",
   "id": "1ed9ad417e5e7fbb",
   "outputs": [],
   "execution_count": null
  }
 ],
 "metadata": {
  "kernelspec": {
   "display_name": "Python 3",
   "language": "python",
   "name": "python3"
  },
  "language_info": {
   "codemirror_mode": {
    "name": "ipython",
    "version": 2
   },
   "file_extension": ".py",
   "mimetype": "text/x-python",
   "name": "python",
   "nbconvert_exporter": "python",
   "pygments_lexer": "ipython2",
   "version": "2.7.6"
  }
 },
 "nbformat": 4,
 "nbformat_minor": 5
}
