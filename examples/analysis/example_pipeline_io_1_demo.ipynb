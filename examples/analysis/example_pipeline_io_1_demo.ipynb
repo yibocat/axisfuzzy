{
 "cells": [
  {
   "cell_type": "code",
   "execution_count": 1,
   "id": "initial_id",
   "metadata": {
    "ExecuteTime": {
     "end_time": "2025-08-26T11:58:42.002339Z",
     "start_time": "2025-08-26T11:58:41.494300Z"
    },
    "collapsed": true
   },
   "outputs": [],
   "source": [
    "\"\"\"\n",
    "Demonstration of FuzzyPipeline's support for various I/O scenarios.\n",
    "This script showcases:\n",
    "1. Single Input -> Single Output\n",
    "2. Single Input -> Multiple Outputs\n",
    "3. Multiple Inputs -> Single Output\n",
    "4. Multiple Inputs -> Multiple Outputs\n",
    "\"\"\"\n",
    "import numpy as np\n",
    "import pandas as pd\n",
    "from typing import Dict\n",
    "\n",
    "# Assuming the provided library structure\n",
    "from axisfuzzy.analysis.pipeline import FuzzyPipeline\n",
    "from axisfuzzy.analysis.component.base import AnalysisComponent\n",
    "from axisfuzzy.analysis.component.basic import ToolNormalization\n",
    "from axisfuzzy.analysis.contracts import contract\n",
    "from axisfuzzy.analysis.build_in import (\n",
    "    ContractCrispTable,\n",
    "    ContractWeightVector,\n",
    "    ContractScoreVector\n",
    ")"
   ]
  },
  {
   "cell_type": "code",
   "execution_count": 2,
   "id": "d9ab3e00f23dc194",
   "metadata": {
    "ExecuteTime": {
     "end_time": "2025-08-26T11:58:42.385229Z",
     "start_time": "2025-08-26T11:58:42.382326Z"
    }
   },
   "outputs": [],
   "source": [
    "class ToolSplitter(AnalysisComponent):\n",
    "    \"\"\"\n",
    "    A test component that takes one table and splits it into two vectors.\n",
    "    Demonstrates: Single Input -> Multiple Outputs.\n",
    "    \"\"\"\n",
    "    def get_config(self) -> dict:\n",
    "        return {}\n",
    "\n",
    "    @contract\n",
    "    def run(self, data: ContractCrispTable) -> Dict[str, ContractWeightVector]:\n",
    "        \"\"\"\n",
    "        Splits a DataFrame into the first row and the first column.\n",
    "\n",
    "        Parameters\n",
    "        ----------\n",
    "        data : ContractCrispTable\n",
    "            Input DataFrame.\n",
    "\n",
    "        Returns\n",
    "        -------\n",
    "        Dict[str, ContractWeightVector]\n",
    "            A dictionary containing two outputs: 'first_row' and 'first_col'.\n",
    "        \"\"\"\n",
    "        return {\n",
    "            'first_row': data.iloc[0, :],\n",
    "            'first_col': data.iloc[:, 0]\n",
    "        }\n",
    "\n",
    "\n",
    "class ToolCombiner(AnalysisComponent):\n",
    "    \"\"\"\n",
    "    A test component that combines two vectors into a single score vector.\n",
    "    Demonstrates: Multiple Inputs -> Single Output.\n",
    "    \"\"\"\n",
    "    def get_config(self) -> dict:\n",
    "        return {}\n",
    "\n",
    "    @contract\n",
    "    def run(self, vector_a: ContractWeightVector, vector_b: ContractWeightVector) -> ContractScoreVector:\n",
    "        \"\"\"\n",
    "        Combines two vectors by element-wise addition.\n",
    "\n",
    "        Parameters\n",
    "        ----------\n",
    "        vector_a : ContractWeightVector\n",
    "            The first input vector.\n",
    "        vector_b : ContractWeightVector\n",
    "            The second input vector.\n",
    "\n",
    "        Returns\n",
    "        -------\n",
    "        ContractScoreVector\n",
    "            The resulting combined vector.\n",
    "        \"\"\"\n",
    "        # Ensure they are numpy arrays for robust addition\n",
    "        vec_a = pd.Series(vector_a).values\n",
    "        vec_b = pd.Series(vector_b).values\n",
    "        return vec_a + vec_b"
   ]
  },
  {
   "cell_type": "code",
   "execution_count": 3,
   "id": "63d3d2401e7be73f",
   "metadata": {
    "ExecuteTime": {
     "end_time": "2025-08-26T11:58:42.742888Z",
     "start_time": "2025-08-26T11:58:42.740224Z"
    }
   },
   "outputs": [],
   "source": [
    "# --- Test Data ---\n",
    "sample_df1 = pd.DataFrame(\n",
    "    np.arange(9).reshape(3, 3),\n",
    "    columns=['A', 'B', 'C'],\n",
    "    index=['X', 'Y', 'Z']\n",
    ")\n",
    "sample_df2 = pd.DataFrame(\n",
    "    np.random.rand(3, 3) * 10,\n",
    "    columns=['A', 'B', 'C'],\n",
    "    index=['X', 'Y', 'Z']\n",
    ")\n",
    "sample_weights = pd.Series([0.1, 0.5, 0.4], index=['A', 'B', 'C'])"
   ]
  },
  {
   "cell_type": "code",
   "execution_count": 4,
   "id": "ce5720bf2739d947",
   "metadata": {
    "ExecuteTime": {
     "end_time": "2025-08-26T11:58:43.383782Z",
     "start_time": "2025-08-26T11:58:43.374147Z"
    }
   },
   "outputs": [
    {
     "data": {
      "text/html": [
       "<div>\n",
       "<style scoped>\n",
       "    .dataframe tbody tr th:only-of-type {\n",
       "        vertical-align: middle;\n",
       "    }\n",
       "\n",
       "    .dataframe tbody tr th {\n",
       "        vertical-align: top;\n",
       "    }\n",
       "\n",
       "    .dataframe thead th {\n",
       "        text-align: right;\n",
       "    }\n",
       "</style>\n",
       "<table border=\"1\" class=\"dataframe\">\n",
       "  <thead>\n",
       "    <tr style=\"text-align: right;\">\n",
       "      <th></th>\n",
       "      <th>A</th>\n",
       "      <th>B</th>\n",
       "      <th>C</th>\n",
       "    </tr>\n",
       "  </thead>\n",
       "  <tbody>\n",
       "    <tr>\n",
       "      <th>X</th>\n",
       "      <td>0</td>\n",
       "      <td>1</td>\n",
       "      <td>2</td>\n",
       "    </tr>\n",
       "    <tr>\n",
       "      <th>Y</th>\n",
       "      <td>3</td>\n",
       "      <td>4</td>\n",
       "      <td>5</td>\n",
       "    </tr>\n",
       "    <tr>\n",
       "      <th>Z</th>\n",
       "      <td>6</td>\n",
       "      <td>7</td>\n",
       "      <td>8</td>\n",
       "    </tr>\n",
       "  </tbody>\n",
       "</table>\n",
       "</div>"
      ],
      "text/plain": [
       "   A  B  C\n",
       "X  0  1  2\n",
       "Y  3  4  5\n",
       "Z  6  7  8"
      ]
     },
     "execution_count": 4,
     "metadata": {},
     "output_type": "execute_result"
    }
   ],
   "source": [
    "sample_df1"
   ]
  },
  {
   "cell_type": "code",
   "execution_count": 5,
   "id": "766d261e85e5f26e",
   "metadata": {
    "ExecuteTime": {
     "end_time": "2025-08-26T11:58:43.784849Z",
     "start_time": "2025-08-26T11:58:43.780519Z"
    }
   },
   "outputs": [
    {
     "data": {
      "text/html": [
       "<div>\n",
       "<style scoped>\n",
       "    .dataframe tbody tr th:only-of-type {\n",
       "        vertical-align: middle;\n",
       "    }\n",
       "\n",
       "    .dataframe tbody tr th {\n",
       "        vertical-align: top;\n",
       "    }\n",
       "\n",
       "    .dataframe thead th {\n",
       "        text-align: right;\n",
       "    }\n",
       "</style>\n",
       "<table border=\"1\" class=\"dataframe\">\n",
       "  <thead>\n",
       "    <tr style=\"text-align: right;\">\n",
       "      <th></th>\n",
       "      <th>A</th>\n",
       "      <th>B</th>\n",
       "      <th>C</th>\n",
       "    </tr>\n",
       "  </thead>\n",
       "  <tbody>\n",
       "    <tr>\n",
       "      <th>X</th>\n",
       "      <td>1.746767</td>\n",
       "      <td>2.453265</td>\n",
       "      <td>9.064737</td>\n",
       "    </tr>\n",
       "    <tr>\n",
       "      <th>Y</th>\n",
       "      <td>1.814153</td>\n",
       "      <td>9.756218</td>\n",
       "      <td>4.681941</td>\n",
       "    </tr>\n",
       "    <tr>\n",
       "      <th>Z</th>\n",
       "      <td>5.488679</td>\n",
       "      <td>7.586387</td>\n",
       "      <td>8.910269</td>\n",
       "    </tr>\n",
       "  </tbody>\n",
       "</table>\n",
       "</div>"
      ],
      "text/plain": [
       "          A         B         C\n",
       "X  1.746767  2.453265  9.064737\n",
       "Y  1.814153  9.756218  4.681941\n",
       "Z  5.488679  7.586387  8.910269"
      ]
     },
     "execution_count": 5,
     "metadata": {},
     "output_type": "execute_result"
    }
   ],
   "source": [
    "sample_df2"
   ]
  },
  {
   "cell_type": "code",
   "execution_count": 6,
   "id": "3a70806078795c22",
   "metadata": {
    "ExecuteTime": {
     "end_time": "2025-08-26T11:58:44.244824Z",
     "start_time": "2025-08-26T11:58:44.242213Z"
    }
   },
   "outputs": [
    {
     "data": {
      "text/plain": [
       "A    0.1\n",
       "B    0.5\n",
       "C    0.4\n",
       "dtype: float64"
      ]
     },
     "execution_count": 6,
     "metadata": {},
     "output_type": "execute_result"
    }
   ],
   "source": [
    "sample_weights"
   ]
  },
  {
   "cell_type": "code",
   "execution_count": 7,
   "id": "94d286fcd4a33b41",
   "metadata": {
    "ExecuteTime": {
     "end_time": "2025-08-26T11:58:44.912854Z",
     "start_time": "2025-08-26T11:58:44.776544Z"
    }
   },
   "outputs": [
    {
     "name": "stdout",
     "output_type": "stream",
     "text": [
      "\n",
      "--- Scenario A: Single Input -> Single Output ---\n",
      "Input DataFrame:\n",
      "    A  B  C\n",
      "X  0  1  2\n",
      "Y  3  4  5\n",
      "Z  6  7  8\n",
      "\n",
      "Output (Normalized DataFrame):\n",
      "           A         B         C\n",
      "X  0.000000  0.333333  0.666667\n",
      "Y  0.250000  0.333333  0.416667\n",
      "Z  0.285714  0.333333  0.380952\n"
     ]
    },
    {
     "data": {
      "image/png": "[encoded data removed]",
      "text/plain": [
       "<IPython.core.display.Image object>"
      ]
     },
     "execution_count": 7,
     "metadata": {},
     "output_type": "execute_result"
    }
   ],
   "source": [
    "# --- 1. Scenario A: Single Input -> Single Output ---\n",
    "print(\"\\n--- Scenario A: Single Input -> Single Output ---\")\n",
    "p_a = FuzzyPipeline(name=\"SingleIn_SingleOut\")\n",
    "norm_tool = ToolNormalization(method='sum', axis=1)\n",
    "\n",
    "input_a = p_a.input(name=\"data_in\", contract=ContractCrispTable)\n",
    "output_a = p_a.add(norm_tool.run, data=input_a)\n",
    "\n",
    "result_a = p_a.run(initial_data=sample_df1)\n",
    "print(\"Input DataFrame:\\n\", sample_df1)\n",
    "print(\"\\nOutput (Normalized DataFrame):\\n\", result_a)\n",
    "p_a.visualize()"
   ]
  },
  {
   "cell_type": "code",
   "execution_count": 8,
   "id": "157fec02c3d23ded",
   "metadata": {
    "ExecuteTime": {
     "end_time": "2025-08-26T11:58:45.522591Z",
     "start_time": "2025-08-26T11:58:45.379552Z"
    }
   },
   "outputs": [
    {
     "name": "stdout",
     "output_type": "stream",
     "text": [
      "\n",
      "--- Scenario B: Single Input -> Multiple Outputs ---\n",
      "Input DataFrame:\n",
      "    A  B  C\n",
      "X  0  1  2\n",
      "Y  3  4  5\n",
      "Z  6  7  8\n",
      "\n",
      "Output (Dictionary of results):\n",
      " {'first_row': A    0\n",
      "B    1\n",
      "C    2\n",
      "Name: X, dtype: int64, 'first_col': X    0\n",
      "Y    3\n",
      "Z    6\n",
      "Name: A, dtype: int64}\n"
     ]
    },
    {
     "data": {
      "image/png": "[encoded data removed]",
      "text/plain": [
       "<IPython.core.display.Image object>"
      ]
     },
     "execution_count": 8,
     "metadata": {},
     "output_type": "execute_result"
    }
   ],
   "source": [
    "# --- 2. Scenario B: Single Input -> Multiple Outputs ---\n",
    "print(\"\\n--- Scenario B: Single Input -> Multiple Outputs ---\")\n",
    "p_b = FuzzyPipeline(name=\"SingleIn_MultiOut\")\n",
    "splitter_tool = ToolSplitter()\n",
    "\n",
    "input_b = p_b.input(name=\"data_in\", contract=ContractCrispTable)\n",
    "# The `add` method returns a dictionary of StepOutput objects\n",
    "outputs_b = p_b.add(splitter_tool.run, data=input_b)\n",
    "\n",
    "result_b = p_b.run(initial_data=sample_df1)\n",
    "print(\"Input DataFrame:\\n\", sample_df1)\n",
    "print(\"\\nOutput (Dictionary of results):\\n\", result_b)\n",
    "# Note: The pipeline automatically handles multiple terminal nodes.\n",
    "# The result is a dictionary mapping step display names to their outputs.\n",
    "p_b.visualize()"
   ]
  },
  {
   "cell_type": "code",
   "execution_count": 9,
   "id": "8c0785e54205831c",
   "metadata": {
    "ExecuteTime": {
     "end_time": "2025-08-26T11:58:46.098604Z",
     "start_time": "2025-08-26T11:58:45.958767Z"
    }
   },
   "outputs": [
    {
     "name": "stdout",
     "output_type": "stream",
     "text": [
      "\n",
      "--- Scenario C: Multiple Inputs -> Single Output ---\n",
      "Input Vector 1:\n",
      " A    0\n",
      "B    1\n",
      "C    2\n",
      "Name: X, dtype: int64\n",
      "\n",
      "Input Vector 2:\n",
      " A    0.1\n",
      "B    0.5\n",
      "C    0.4\n",
      "dtype: float64\n",
      "\n",
      "Output (Combined Vector):\n",
      " [0.1 1.5 2.4]\n"
     ]
    },
    {
     "data": {
      "image/png": "[encoded data removed]",
      "text/plain": [
       "<IPython.core.display.Image object>"
      ]
     },
     "execution_count": 9,
     "metadata": {},
     "output_type": "execute_result"
    }
   ],
   "source": [
    "# --- 3. Scenario C: Multiple Inputs -> Single Output ---\n",
    "print(\"\\n--- Scenario C: Multiple Inputs -> Single Output ---\")\n",
    "p_c = FuzzyPipeline(name=\"MultiIn_SingleOut\")\n",
    "combiner_tool = ToolCombiner()\n",
    "\n",
    "input_c1 = p_c.input(name=\"vec1\", contract=ContractWeightVector)\n",
    "input_c2 = p_c.input(name=\"vec2\", contract=ContractWeightVector)\n",
    "output_c = p_c.add(combiner_tool.run, vector_a=input_c1, vector_b=input_c2)\n",
    "\n",
    "result_c = p_c.run(initial_data={\n",
    "    \"vec1\": sample_df1.iloc[0, :],\n",
    "    \"vec2\": sample_weights\n",
    "})\n",
    "print(\"Input Vector 1:\\n\", sample_df1.iloc[0, :])\n",
    "print(\"\\nInput Vector 2:\\n\", sample_weights)\n",
    "print(\"\\nOutput (Combined Vector):\\n\", result_c)\n",
    "p_c.visualize()"
   ]
  },
  {
   "cell_type": "code",
   "execution_count": 10,
   "id": "716514bc29d14b9e",
   "metadata": {
    "ExecuteTime": {
     "end_time": "2025-08-26T11:58:46.616599Z",
     "start_time": "2025-08-26T11:58:46.466767Z"
    }
   },
   "outputs": [
    {
     "name": "stdout",
     "output_type": "stream",
     "text": [
      "\n",
      "--- Scenario D: Multiple Inputs -> Multiple Outputs ---\n",
      "Input 'main_data':\n",
      "    A  B  C\n",
      "X  0  1  2\n",
      "Y  3  4  5\n",
      "Z  6  7  8\n",
      "\n",
      "Input 'secondary_data':\n",
      "           A         B         C\n",
      "X  1.746767  2.453265  9.064737\n",
      "Y  1.814153  9.756218  4.681941\n",
      "Z  5.488679  7.586387  8.910269\n",
      "\n",
      "Output (Dictionary from multiple terminal nodes):\n",
      " {'ToolNormalization.run':      A         B      C\n",
      "X  0.0  0.142857  0.250\n",
      "Y  0.5  0.571429  0.625\n",
      "Z  1.0  1.000000  1.000, 'ToolSplitter.run': {'first_row': A    1.746767\n",
      "B    2.453265\n",
      "C    9.064737\n",
      "Name: X, dtype: float64, 'first_col': X    1.746767\n",
      "Y    1.814153\n",
      "Z    5.488679\n",
      "Name: A, dtype: float64}}\n"
     ]
    },
    {
     "data": {
      "image/png": "[encoded data removed]",
      "text/plain": [
       "<IPython.core.display.Image object>"
      ]
     },
     "execution_count": 10,
     "metadata": {},
     "output_type": "execute_result"
    }
   ],
   "source": [
    "# --- 4. Scenario D: Multiple Inputs -> Multiple Outputs ---\n",
    "print(\"\\n--- Scenario D: Multiple Inputs -> Multiple Outputs ---\")\n",
    "p_d = FuzzyPipeline(name=\"MultiIn_MultiOut\")\n",
    "# Reusing tools from previous scenarios\n",
    "norm_tool_d = ToolNormalization(method='max', axis=0)\n",
    "splitter_tool_d = ToolSplitter()\n",
    "\n",
    "# Define two inputs\n",
    "input_d1 = p_d.input(name=\"main_data\", contract=ContractCrispTable)\n",
    "input_d2 = p_d.input(name=\"secondary_data\", contract=ContractCrispTable)\n",
    "\n",
    "# Create two separate, parallel branches from the inputs\n",
    "# Branch 1: Normalize the main data\n",
    "norm_output = p_d.add(norm_tool_d.run, data=input_d1)\n",
    "# Branch 2: Split the secondary data\n",
    "split_outputs = p_d.add(splitter_tool_d.run, data=input_d2)\n",
    "\n",
    "# The pipeline has two terminal nodes: norm_output and the splitter step.\n",
    "# The run method will collect results from both.\n",
    "result_d = p_d.run(initial_data={\n",
    "    \"main_data\": sample_df1,\n",
    "    \"secondary_data\": sample_df2\n",
    "})\n",
    "print(\"Input 'main_data':\\n\", sample_df1)\n",
    "print(\"\\nInput 'secondary_data':\\n\", sample_df2)\n",
    "print(\"\\nOutput (Dictionary from multiple terminal nodes):\\n\", result_d)\n",
    "p_d.visualize()"
   ]
  },
  {
   "cell_type": "code",
   "execution_count": null,
   "id": "8404ce854dbc0d46",
   "metadata": {},
   "outputs": [],
   "source": []
  },
  {
   "cell_type": "code",
   "execution_count": null,
   "id": "76d6065062bb5b47",
   "metadata": {},
   "outputs": [],
   "source": []
  },
  {
   "cell_type": "code",
   "execution_count": null,
   "id": "e036ea9f11288b2d",
   "metadata": {},
   "outputs": [],
   "source": []
  },
  {
   "cell_type": "code",
   "execution_count": null,
   "id": "b27fb77402bdfb33",
   "metadata": {},
   "outputs": [],
   "source": []
  },
  {
   "cell_type": "code",
   "execution_count": null,
   "id": "7d07e6aba799a891",
   "metadata": {},
   "outputs": [],
   "source": []
  },
  {
   "cell_type": "code",
   "execution_count": null,
   "id": "6b4fd25ee26f05ed",
   "metadata": {},
   "outputs": [],
   "source": []
  },
  {
   "cell_type": "code",
   "execution_count": null,
   "id": "7f6983e9ccacd59c",
   "metadata": {},
   "outputs": [],
   "source": []
  },
  {
   "cell_type": "code",
   "execution_count": null,
   "id": "7524f129082bab07",
   "metadata": {},
   "outputs": [],
   "source": []
  },
  {
   "cell_type": "code",
   "execution_count": null,
   "id": "eca5ef24eee9972b",
   "metadata": {},
   "outputs": [],
   "source": []
  },
  {
   "cell_type": "code",
   "execution_count": null,
   "id": "3c7684691723a015",
   "metadata": {},
   "outputs": [],
   "source": []
  }
 ],
 "metadata": {
  "kernelspec": {
   "display_name": ".venv",
   "language": "python",
   "name": "python3"
  },
  "language_info": {
   "codemirror_mode": {
    "name": "ipython",
    "version": 3
   },
   "file_extension": ".py",
   "mimetype": "text/x-python",
   "name": "python",
   "nbconvert_exporter": "python",
   "pygments_lexer": "ipython3",
   "version": "3.12.7"
  }
 },
 "nbformat": 4,
 "nbformat_minor": 5
}
