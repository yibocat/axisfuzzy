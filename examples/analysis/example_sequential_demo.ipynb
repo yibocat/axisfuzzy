{
 "cells": [
  {
   "cell_type": "code",
   "id": "initial_id",
   "metadata": {
    "collapsed": true,
    "ExecuteTime": {
     "end_time": "2025-08-26T17:33:21.791738Z",
     "start_time": "2025-08-26T17:33:21.159873Z"
    }
   },
   "source": [
    "import pandas as pd\n",
    "import numpy as np\n",
    "\n",
    "from axisfuzzy.analysis import app\n",
    "from axisfuzzy.analysis.component.basic import ToolNormalization, ToolStatistics"
   ],
   "outputs": [],
   "execution_count": 1
  },
  {
   "metadata": {
    "ExecuteTime": {
     "end_time": "2025-08-26T17:33:22.212908Z",
     "start_time": "2025-08-26T17:33:22.206624Z"
    }
   },
   "cell_type": "code",
   "source": [
    "sample_df = pd.DataFrame(\n",
    "    np.random.randint(0, 100, size=(4, 3)),\n",
    "    columns=['Metric A', 'Metric B', 'Metric C']\n",
    ")"
   ],
   "id": "6be903aaa097376d",
   "outputs": [],
   "execution_count": 2
  },
  {
   "metadata": {
    "ExecuteTime": {
     "end_time": "2025-08-26T17:33:22.447382Z",
     "start_time": "2025-08-26T17:33:22.443511Z"
    }
   },
   "cell_type": "code",
   "source": [
    "normalizer = ToolNormalization(method='min_max', axis=1) # Normalize rows\n",
    "statistics_generator = ToolStatistics()"
   ],
   "id": "a6d477f8f2abcc37",
   "outputs": [],
   "execution_count": 3
  },
  {
   "metadata": {
    "ExecuteTime": {
     "end_time": "2025-08-26T17:33:22.765076Z",
     "start_time": "2025-08-26T17:33:22.762128Z"
    }
   },
   "cell_type": "code",
   "source": [
    "model = app.Sequential(\n",
    "    steps=[\n",
    "        normalizer,\n",
    "        statistics_generator\n",
    "    ],\n",
    "    name='NormalizationAndStatsFlow'\n",
    ")"
   ],
   "id": "4328558dacf3b23f",
   "outputs": [],
   "execution_count": 4
  },
  {
   "metadata": {
    "ExecuteTime": {
     "end_time": "2025-08-26T17:33:23.143322Z",
     "start_time": "2025-08-26T17:33:23.135968Z"
    }
   },
   "cell_type": "code",
   "source": "final_result = model.run(initial_data=sample_df)",
   "id": "c427273c3f706d54",
   "outputs": [],
   "execution_count": 5
  },
  {
   "metadata": {
    "ExecuteTime": {
     "end_time": "2025-08-26T17:33:23.402427Z",
     "start_time": "2025-08-26T17:33:23.395945Z"
    }
   },
   "cell_type": "code",
   "source": "final_result",
   "id": "17ed4192dbcd0d5b",
   "outputs": [
    {
     "data": {
      "text/plain": [
       "{'mean': 0.545105628124496,\n",
       " 'std': 0.44329593529866723,\n",
       " 'min': 0.0,\n",
       " 'max': 1.0,\n",
       " 'median': 0.6333333333333333,\n",
       " 'count': 12}"
      ]
     },
     "execution_count": 6,
     "metadata": {},
     "output_type": "execute_result"
    }
   ],
   "execution_count": 6
  },
  {
   "metadata": {},
   "cell_type": "code",
   "outputs": [],
   "execution_count": null,
   "source": "",
   "id": "d98789b0c70901d1"
  }
 ],
 "metadata": {
  "kernelspec": {
   "display_name": "Python 3",
   "language": "python",
   "name": "python3"
  },
  "language_info": {
   "codemirror_mode": {
    "name": "ipython",
    "version": 2
   },
   "file_extension": ".py",
   "mimetype": "text/x-python",
   "name": "python",
   "nbconvert_exporter": "python",
   "pygments_lexer": "ipython2",
   "version": "2.7.6"
  }
 },
 "nbformat": 4,
 "nbformat_minor": 5
}
