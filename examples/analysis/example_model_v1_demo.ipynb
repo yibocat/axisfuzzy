{
 "cells": [
  {
   "cell_type": "code",
   "id": "initial_id",
   "metadata": {
    "collapsed": true
   },
   "source": [
    "import pandas as pd\n",
    "import numpy as np\n",
    "\n",
    "from axisfuzzy.analysis.accessor import FuzzyAccessor\n",
    "from axisfuzzy.analysis.app.model import Model\n",
    "from axisfuzzy.analysis.component.basic import (\n",
    "    ToolNormalization,\n",
    "    ToolWeightNormalization,\n",
    "    ToolFuzzification,\n",
    "    ToolSimpleAggregation\n",
    ")\n",
    "from axisfuzzy.analysis.build_in import ContractCrispTable, ContractWeightVector\n",
    "from axisfuzzy.fuzzifier import Fuzzifier # 假设 Fuzzifier 在这里"
   ],
   "outputs": [],
   "execution_count": null
  },
  {
   "cell_type": "code",
   "id": "87706d974e2e34be",
   "metadata": {},
   "source": [
    "# --- 1. 准备一个模糊化引擎 ---\n",
    "# (假设 Fuzzifier 和 TriangularMF 已经可以正常工作)\n",
    "my_fuzzifier = Fuzzifier(\n",
    "    mf='gaussmf',\n",
    "    mtype='qrofn',  # 假设目标是 q-rung orthopair fuzzy number\n",
    "    pi = 0.2,\n",
    "    mf_params=[{'sigma': 0.15, 'c': 0.5}]\n",
    ")"
   ],
   "outputs": [],
   "execution_count": null
  },
  {
   "cell_type": "code",
   "id": "eb70bed391f13a87",
   "metadata": {},
   "source": [
    "# --- 2. 定义一个复杂模型 ---\n",
    "class ComplexAnalysisModel(Model):\n",
    "    \"\"\"\n",
    "    一个多输入、多输出的演示模型。\n",
    "    - 输入: raw_data (DataFrame), raw_weights (vector)\n",
    "    - 流程:\n",
    "      1. 数据和权重分别进行归一化。\n",
    "      2. 归一化后的数据进行模糊化。\n",
    "      3. 对模糊化后的数据按行进行聚合（例如求均值）。\n",
    "    - 输出: 聚合后的分数 (scores), 模糊化后的数据 (fuzzy_table)\n",
    "    \"\"\"\n",
    "\n",
    "    def __init__(self):\n",
    "        super().__init__()\n",
    "        # 在 __init__ 中定义所有需要的“层”/组件\n",
    "        self.data_normalizer = ToolNormalization(method='min_max', axis=0)\n",
    "        self.weight_normalizer = ToolWeightNormalization()\n",
    "        # 注意：ToolFuzzification 需要一个 Fuzzifier 实例\n",
    "        # 这里我们假设一个简单的 Fuzzifier\n",
    "        self.fuzzifier = ToolFuzzification(fuzzifier=my_fuzzifier)\n",
    "        self.aggregator = ToolSimpleAggregation(operation='mean', axis=1)\n",
    "\n",
    "    def get_config(self) -> dict:\n",
    "        return {}\n",
    "\n",
    "    def forward(self, data: ContractCrispTable, weights: ContractWeightVector):\n",
    "        \"\"\"\n",
    "        用非常直观的方式定义数据流。\n",
    "        这里的所有调用都将被自动翻译成 pipeline.add()。\n",
    "        \"\"\"\n",
    "        # 分支 1: 处理数据\n",
    "        norm_data = self.data_normalizer(data)\n",
    "        fuzzy_table = self.fuzzifier(norm_data)\n",
    "\n",
    "        # 分支 2: 处理权重 (在这个例子中，我们没有在下游使用它，但展示了分支能力)\n",
    "        norm_weights = self.weight_normalizer(weights)\n",
    "\n",
    "        # 聚合操作\n",
    "        # scores = self.aggregator(fuzzy_table)\n",
    "\n",
    "        # 返回一个包含多个输出的字典\n",
    "        # return {'scores': scores, 'fuzzy_table': fuzzy_table}\n",
    "        return {'fuzzy_table': fuzzy_table}"
   ],
   "outputs": [],
   "execution_count": null
  },
  {
   "cell_type": "code",
   "id": "e59f7cabdbe5b30e",
   "metadata": {},
   "source": [
    "# --- 3. 准备输入数据 ---\n",
    "df = pd.DataFrame(np.random.rand(5, 3), columns=['Attr1', 'Attr2', 'Attr3'])\n",
    "w = np.array([0.5, 0.3, 0.2])"
   ],
   "outputs": [],
   "execution_count": null
  },
  {
   "cell_type": "code",
   "id": "578c9deddaf9f78b",
   "metadata": {},
   "source": [
    "print(\"--- Initial Data ---\")\n",
    "print(\"DataFrame:\\n\", df)\n",
    "print(\"Weights:\\n\", w)\n",
    "print(\"-\" * 20 + \"\\n\")"
   ],
   "outputs": [],
   "execution_count": null
  },
  {
   "cell_type": "code",
   "id": "cb164676ac232c19",
   "metadata": {},
   "source": [
    "model = ComplexAnalysisModel()\n",
    "model.build()"
   ],
   "outputs": [],
   "execution_count": null
  },
  {
   "metadata": {},
   "cell_type": "code",
   "source": "t = model.step_by_step(df, w)",
   "id": "2687f31bb5891e29",
   "outputs": [],
   "execution_count": null
  },
  {
   "metadata": {},
   "cell_type": "code",
   "source": "t.result",
   "id": "c207f016f65285ee",
   "outputs": [],
   "execution_count": null
  },
  {
   "metadata": {},
   "cell_type": "code",
   "source": "next(t)",
   "id": "312656583a5d8edb",
   "outputs": [],
   "execution_count": null
  },
  {
   "metadata": {},
   "cell_type": "code",
   "source": "t.result",
   "id": "699f48f04cd4188f",
   "outputs": [],
   "execution_count": null
  },
  {
   "metadata": {},
   "cell_type": "code",
   "source": "",
   "id": "9f946ac278e08842",
   "outputs": [],
   "execution_count": null
  },
  {
   "metadata": {},
   "cell_type": "code",
   "source": "",
   "id": "48c34fae3dfa8b49",
   "outputs": [],
   "execution_count": null
  },
  {
   "metadata": {},
   "cell_type": "code",
   "source": "",
   "id": "86ae628c8a2770e5",
   "outputs": [],
   "execution_count": null
  },
  {
   "metadata": {},
   "cell_type": "code",
   "source": "",
   "id": "e2af9b14ed0b62b4",
   "outputs": [],
   "execution_count": null
  },
  {
   "metadata": {},
   "cell_type": "code",
   "source": "",
   "id": "3f4675c56f535ab1",
   "outputs": [],
   "execution_count": null
  },
  {
   "metadata": {},
   "cell_type": "code",
   "source": "",
   "id": "509bbe024207e04",
   "outputs": [],
   "execution_count": null
  },
  {
   "metadata": {},
   "cell_type": "code",
   "source": "",
   "id": "f506dbf6f521d2a3",
   "outputs": [],
   "execution_count": null
  },
  {
   "metadata": {},
   "cell_type": "code",
   "source": "",
   "id": "40ceef72b16b12e7",
   "outputs": [],
   "execution_count": null
  },
  {
   "metadata": {},
   "cell_type": "code",
   "source": "",
   "id": "b993d0534913398",
   "outputs": [],
   "execution_count": null
  },
  {
   "metadata": {},
   "cell_type": "code",
   "source": "",
   "id": "76983917b448da60",
   "outputs": [],
   "execution_count": null
  },
  {
   "metadata": {},
   "cell_type": "code",
   "source": "",
   "id": "68a1aa859eadb4a0",
   "outputs": [],
   "execution_count": null
  },
  {
   "cell_type": "code",
   "id": "4d08ef1a8301fe6e",
   "metadata": {},
   "source": "df.fuzzy.run(model, weights=w, return_intermediate=True)",
   "outputs": [],
   "execution_count": null
  },
  {
   "cell_type": "code",
   "id": "a7522ccdc3bf1d1c",
   "metadata": {},
   "source": [
    "# --- 4. 实例化模型 ---\n",
    "model = ComplexAnalysisModel()\n",
    "model.build()\n",
    "model.run(data=df, weights=w)"
   ],
   "outputs": [],
   "execution_count": null
  },
  {
   "cell_type": "code",
   "id": "8e62e2e067959ae0",
   "metadata": {},
   "source": [
    "model.summary()"
   ],
   "outputs": [],
   "execution_count": null
  },
  {
   "cell_type": "code",
   "id": "844c32e45c32852b",
   "metadata": {},
   "source": [
    "model.visualize()"
   ],
   "outputs": [],
   "execution_count": null
  },
  {
   "cell_type": "code",
   "id": "f3c3b1bd69924b92",
   "metadata": {},
   "source": [],
   "outputs": [],
   "execution_count": null
  },
  {
   "cell_type": "code",
   "id": "8214fc8483f07454",
   "metadata": {},
   "source": [],
   "outputs": [],
   "execution_count": null
  },
  {
   "cell_type": "code",
   "id": "833a633ce3d1e112",
   "metadata": {},
   "source": [
    "model.save('complex_model_demo.json')"
   ],
   "outputs": [],
   "execution_count": null
  },
  {
   "cell_type": "code",
   "id": "774432a0d62fa0d5",
   "metadata": {},
   "source": [
    "x = Model.load('complex_model_demo.json')"
   ],
   "outputs": [],
   "execution_count": null
  },
  {
   "cell_type": "code",
   "id": "cbe7491791ea0cde",
   "metadata": {},
   "source": [
    "x.build()"
   ],
   "outputs": [],
   "execution_count": null
  },
  {
   "cell_type": "code",
   "id": "1f2231ca6083623",
   "metadata": {},
   "source": [
    "x.summary()"
   ],
   "outputs": [],
   "execution_count": null
  },
  {
   "cell_type": "code",
   "id": "2d3051cd67cb583",
   "metadata": {},
   "source": [
    "x.visualize()"
   ],
   "outputs": [],
   "execution_count": null
  },
  {
   "cell_type": "code",
   "id": "e8d43d27085e85f1",
   "metadata": {},
   "source": [],
   "outputs": [],
   "execution_count": null
  }
 ],
 "metadata": {
  "kernelspec": {
   "display_name": ".venv",
   "language": "python",
   "name": "python3"
  },
  "language_info": {
   "codemirror_mode": {
    "name": "ipython",
    "version": 3
   },
   "file_extension": ".py",
   "mimetype": "text/x-python",
   "name": "python",
   "nbconvert_exporter": "python",
   "pygments_lexer": "ipython3",
   "version": "3.12.7"
  }
 },
 "nbformat": 4,
 "nbformat_minor": 5
}
