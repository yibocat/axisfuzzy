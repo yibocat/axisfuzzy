{
 "cells": [
  {
   "cell_type": "code",
   "id": "initial_id",
   "metadata": {
    "collapsed": true
   },
   "source": [
    "import pandas as pd\n",
    "import numpy as np\n",
    "\n",
    "from axisfuzzy.analysis.app.model import Model\n",
    "from axisfuzzy.analysis.component.basic import (\n",
    "    ToolNormalization,\n",
    "    ToolWeightNormalization,\n",
    "    ToolFuzzification,\n",
    "    ToolSimpleAggregation\n",
    ")\n",
    "from axisfuzzy.analysis.build_in import ContractCrispTable, ContractWeightVector\n",
    "from axisfuzzy.fuzzifier import Fuzzifier # 假设 Fuzzifier 在这里"
   ],
   "outputs": [],
   "execution_count": null
  },
  {
   "metadata": {},
   "cell_type": "code",
   "source": [
    "# --- 1. 准备一个模糊化引擎 ---\n",
    "# (假设 Fuzzifier 和 TriangularMF 已经可以正常工作)\n",
    "my_fuzzifier = Fuzzifier(\n",
    "    mf='gaussmf',\n",
    "    mtype='qrofn',  # 假设目标是 q-rung orthopair fuzzy number\n",
    "    pi = 0.2,\n",
    "    mf_params=[{'sigma': 0.15, 'c': 0.5}]\n",
    ")"
   ],
   "id": "87706d974e2e34be",
   "outputs": [],
   "execution_count": null
  },
  {
   "metadata": {},
   "cell_type": "code",
   "source": [
    "# --- 2. 定义一个复杂模型 ---\n",
    "class ComplexAnalysisModel(Model):\n",
    "    \"\"\"\n",
    "    一个多输入、多输出的演示模型。\n",
    "    - 输入: raw_data (DataFrame), raw_weights (vector)\n",
    "    - 流程:\n",
    "      1. 数据和权重分别进行归一化。\n",
    "      2. 归一化后的数据进行模糊化。\n",
    "      3. 对模糊化后的数据按行进行聚合（例如求均值）。\n",
    "    - 输出: 聚合后的分数 (scores), 模糊化后的数据 (fuzzy_table)\n",
    "    \"\"\"\n",
    "\n",
    "    def get_config(self) -> dict:\n",
    "        pass\n",
    "\n",
    "    def __init__(self):\n",
    "        super().__init__()\n",
    "        # 在 __init__ 中定义所有需要的“层”/组件\n",
    "        self.data_normalizer = ToolNormalization(method='min_max', axis=0)\n",
    "        self.weight_normalizer = ToolWeightNormalization()\n",
    "        # 注意：ToolFuzzification 需要一个 Fuzzifier 实例\n",
    "        # 这里我们假设一个简单的 Fuzzifier\n",
    "        self.fuzzifier = ToolFuzzification(fuzzifier=my_fuzzifier)\n",
    "        self.aggregator = ToolSimpleAggregation(operation='mean', axis=1)\n",
    "\n",
    "    def forward(self, data: ContractCrispTable, weights: ContractWeightVector):\n",
    "        \"\"\"\n",
    "        用非常直观的方式定义数据流。\n",
    "        这里的所有调用都将被自动翻译成 pipeline.add()。\n",
    "        \"\"\"\n",
    "        # 分支 1: 处理数据\n",
    "        norm_data = self.data_normalizer(data)\n",
    "        fuzzy_table = self.fuzzifier(norm_data)\n",
    "\n",
    "        # 分支 2: 处理权重 (在这个例子中，我们没有在下游使用它，但展示了分支能力)\n",
    "        norm_weights = self.weight_normalizer(weights)\n",
    "\n",
    "        # 聚合操作\n",
    "        # scores = self.aggregator(fuzzy_table)\n",
    "\n",
    "        # 返回一个包含多个输出的字典\n",
    "        # return {'scores': scores, 'fuzzy_table': fuzzy_table}\n",
    "        return {'fuzzy_table': fuzzy_table}"
   ],
   "id": "eb70bed391f13a87",
   "outputs": [],
   "execution_count": null
  },
  {
   "metadata": {},
   "cell_type": "code",
   "source": [
    "# --- 3. 准备输入数据 ---\n",
    "df = pd.DataFrame(np.random.rand(5, 3), columns=['Attr1', 'Attr2', 'Attr3'])\n",
    "w = np.array([0.5, 0.3, 0.2])"
   ],
   "id": "e59f7cabdbe5b30e",
   "outputs": [],
   "execution_count": null
  },
  {
   "metadata": {},
   "cell_type": "code",
   "source": [
    "print(\"--- Initial Data ---\")\n",
    "print(\"DataFrame:\\n\", df)\n",
    "print(\"Weights:\\n\", w)\n",
    "print(\"-\" * 20 + \"\\n\")"
   ],
   "id": "578c9deddaf9f78b",
   "outputs": [],
   "execution_count": null
  },
  {
   "metadata": {},
   "cell_type": "code",
   "source": [
    "# --- 4. 实例化模型 ---\n",
    "model = ComplexAnalysisModel()\n",
    "model.build()\n",
    "model.run(data=df, weights=w)"
   ],
   "id": "a7522ccdc3bf1d1c",
   "outputs": [],
   "execution_count": null
  },
  {
   "metadata": {},
   "cell_type": "code",
   "source": "",
   "id": "4b9df5a6135fc68c",
   "outputs": [],
   "execution_count": null
  },
  {
   "metadata": {},
   "cell_type": "code",
   "source": "model.summary()",
   "id": "8e62e2e067959ae0",
   "outputs": [],
   "execution_count": null
  },
  {
   "metadata": {},
   "cell_type": "code",
   "source": "model.visualize()",
   "id": "844c32e45c32852b",
   "outputs": [],
   "execution_count": null
  },
  {
   "metadata": {},
   "cell_type": "code",
   "source": "",
   "id": "53c1242e4c712672",
   "outputs": [],
   "execution_count": null
  },
  {
   "metadata": {},
   "cell_type": "code",
   "source": "",
   "id": "ce82d4ede87ea5cb",
   "outputs": [],
   "execution_count": null
  },
  {
   "metadata": {},
   "cell_type": "code",
   "source": "",
   "id": "71b902e1b1035b68",
   "outputs": [],
   "execution_count": null
  },
  {
   "metadata": {},
   "cell_type": "code",
   "source": "",
   "id": "85f95af5aa3d7dd9",
   "outputs": [],
   "execution_count": null
  },
  {
   "metadata": {},
   "cell_type": "code",
   "source": "",
   "id": "6565f02177a0c006",
   "outputs": [],
   "execution_count": null
  },
  {
   "metadata": {},
   "cell_type": "code",
   "source": "",
   "id": "47b509a3ef0a4fb5",
   "outputs": [],
   "execution_count": null
  }
 ],
 "metadata": {
  "kernelspec": {
   "display_name": "Python 3",
   "language": "python",
   "name": "python3"
  },
  "language_info": {
   "codemirror_mode": {
    "name": "ipython",
    "version": 2
   },
   "file_extension": ".py",
   "mimetype": "text/x-python",
   "name": "python",
   "nbconvert_exporter": "python",
   "pygments_lexer": "ipython2",
   "version": "2.7.6"
  }
 },
 "nbformat": 4,
 "nbformat_minor": 5
}
