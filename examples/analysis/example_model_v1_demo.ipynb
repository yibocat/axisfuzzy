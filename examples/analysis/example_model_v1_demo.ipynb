{
 "cells": [
  {
   "cell_type": "code",
   "execution_count": null,
   "id": "initial_id",
   "metadata": {
    "collapsed": true
   },
   "outputs": [],
   "source": [
    "import pandas as pd\n",
    "import numpy as np\n",
    "\n",
    "from axisfuzzy.analysis.accessor import FuzzyAccessor\n",
    "from axisfuzzy.analysis.app.model import Model\n",
    "from axisfuzzy.analysis.component.basic import (\n",
    "    ToolNormalization,\n",
    "    ToolWeightNormalization,\n",
    "    ToolFuzzification,\n",
    "    ToolSimpleAggregation\n",
    ")\n",
    "from axisfuzzy.analysis.build_in import ContractCrispTable, ContractWeightVector\n",
    "from axisfuzzy.fuzzifier import Fuzzifier # 假设 Fuzzifier 在这里"
   ]
  },
  {
   "cell_type": "code",
   "execution_count": null,
   "id": "87706d974e2e34be",
   "metadata": {},
   "outputs": [],
   "source": [
    "# --- 1. 准备一个模糊化引擎 ---\n",
    "# (假设 Fuzzifier 和 TriangularMF 已经可以正常工作)\n",
    "my_fuzzifier = Fuzzifier(\n",
    "    mf='gaussmf',\n",
    "    mtype='qrohfn',  # 假设目标是 q-rung orthopair fuzzy number\n",
    "    pi = 0.2,\n",
    "    mf_params=[{'sigma': 0.15, 'c': 0.5}]\n",
    ")"
   ]
  },
  {
   "cell_type": "code",
   "execution_count": null,
   "id": "eb70bed391f13a87",
   "metadata": {},
   "outputs": [],
   "source": [
    "# --- 2. 定义一个复杂模型 ---\n",
    "class ComplexAnalysisModel(Model):\n",
    "    \"\"\"\n",
    "    一个多输入、多输出的演示模型。\n",
    "    - 输入: raw_data (DataFrame), raw_weights (vector)\n",
    "    - 流程:\n",
    "      1. 数据和权重分别进行归一化。\n",
    "      2. 归一化后的数据进行模糊化。\n",
    "      3. 对模糊化后的数据按行进行聚合（例如求均值）。\n",
    "    - 输出: 聚合后的分数 (scores), 模糊化后的数据 (fuzzy_table)\n",
    "    \"\"\"\n",
    "\n",
    "    def __init__(self):\n",
    "        super().__init__()\n",
    "        # 在 __init__ 中定义所有需要的“层”/组件\n",
    "        self.data_normalizer = ToolNormalization(method='min_max', axis=0)\n",
    "        self.weight_normalizer = ToolWeightNormalization()\n",
    "        # 注意：ToolFuzzification 需要一个 Fuzzifier 实例\n",
    "        # 这里我们假设一个简单的 Fuzzifier\n",
    "        self.fuzzifier = ToolFuzzification(fuzzifier=my_fuzzifier)\n",
    "        self.aggregator = ToolSimpleAggregation(operation='mean', axis=1)\n",
    "\n",
    "    def get_config(self) -> dict:\n",
    "        return {}\n",
    "\n",
    "    def forward(self, data: ContractCrispTable, weights: ContractWeightVector):\n",
    "        \"\"\"\n",
    "        用非常直观的方式定义数据流。\n",
    "        这里的所有调用都将被自动翻译成 pipeline.add()。\n",
    "        \"\"\"\n",
    "        # 分支 1: 处理数据\n",
    "        norm_data = self.data_normalizer(data)\n",
    "        fuzzy_table = self.fuzzifier(norm_data)\n",
    "\n",
    "        # 分支 2: 处理权重 (在这个例子中，我们没有在下游使用它，但展示了分支能力)\n",
    "        norm_weights = self.weight_normalizer(weights)\n",
    "\n",
    "        # 聚合操作\n",
    "        # scores = self.aggregator(fuzzy_table)\n",
    "\n",
    "        # 返回一个包含多个输出的字典\n",
    "        # return {'scores': scores, 'fuzzy_table': fuzzy_table}\n",
    "        return {'fuzzy_table': fuzzy_table}"
   ]
  },
  {
   "cell_type": "code",
   "execution_count": null,
   "id": "e59f7cabdbe5b30e",
   "metadata": {},
   "outputs": [],
   "source": [
    "# --- 3. 准备输入数据 ---\n",
    "df = pd.DataFrame(np.random.rand(5, 3), columns=['Attr1', 'Attr2', 'Attr3'])\n",
    "w = np.array([0.5, 0.3, 0.2])"
   ]
  },
  {
   "cell_type": "code",
   "execution_count": null,
   "id": "578c9deddaf9f78b",
   "metadata": {},
   "outputs": [],
   "source": [
    "print(\"--- Initial Data ---\")\n",
    "print(\"DataFrame:\\n\", df)\n",
    "print(\"Weights:\\n\", w)\n",
    "print(\"-\" * 20 + \"\\n\")"
   ]
  },
  {
   "cell_type": "code",
   "execution_count": null,
   "id": "cb164676ac232c19",
   "metadata": {},
   "outputs": [],
   "source": [
    "model = ComplexAnalysisModel()"
   ]
  },
  {
   "cell_type": "code",
   "execution_count": null,
   "id": "4d08ef1a8301fe6e",
   "metadata": {},
   "outputs": [],
   "source": [
    "df.fuzzy.run(model, weights=w, return_intermediate=False)"
   ]
  },
  {
   "cell_type": "code",
   "execution_count": null,
   "id": "8c2b1c36f7e99ecd",
   "metadata": {},
   "outputs": [],
   "source": []
  },
  {
   "cell_type": "code",
   "execution_count": null,
   "id": "e1949276e5f86590",
   "metadata": {},
   "outputs": [],
   "source": []
  },
  {
   "cell_type": "code",
   "execution_count": null,
   "id": "a7522ccdc3bf1d1c",
   "metadata": {},
   "outputs": [],
   "source": [
    "# --- 4. 实例化模型 ---\n",
    "model = ComplexAnalysisModel()\n",
    "model.build()\n",
    "model.run(data=df, weights=w)"
   ]
  },
  {
   "cell_type": "code",
   "execution_count": null,
   "id": "8e62e2e067959ae0",
   "metadata": {},
   "outputs": [],
   "source": [
    "model.summary()"
   ]
  },
  {
   "cell_type": "code",
   "execution_count": null,
   "id": "844c32e45c32852b",
   "metadata": {},
   "outputs": [],
   "source": [
    "model.visualize()"
   ]
  },
  {
   "cell_type": "code",
   "execution_count": null,
   "id": "f3c3b1bd69924b92",
   "metadata": {},
   "outputs": [],
   "source": []
  },
  {
   "cell_type": "code",
   "execution_count": null,
   "id": "8214fc8483f07454",
   "metadata": {},
   "outputs": [],
   "source": []
  },
  {
   "cell_type": "code",
   "execution_count": null,
   "id": "833a633ce3d1e112",
   "metadata": {},
   "outputs": [],
   "source": [
    "model.save('complex_model_demo.json')"
   ]
  },
  {
   "cell_type": "code",
   "execution_count": null,
   "id": "774432a0d62fa0d5",
   "metadata": {},
   "outputs": [],
   "source": [
    "x = Model.load('complex_model_demo.json')"
   ]
  },
  {
   "cell_type": "code",
   "execution_count": null,
   "id": "cbe7491791ea0cde",
   "metadata": {},
   "outputs": [],
   "source": [
    "x.build()"
   ]
  },
  {
   "cell_type": "code",
   "execution_count": null,
   "id": "1f2231ca6083623",
   "metadata": {},
   "outputs": [],
   "source": [
    "x.summary()"
   ]
  },
  {
   "cell_type": "code",
   "execution_count": null,
   "id": "2d3051cd67cb583",
   "metadata": {},
   "outputs": [],
   "source": [
    "x.visualize()"
   ]
  },
  {
   "cell_type": "code",
   "execution_count": null,
   "id": "e8d43d27085e85f1",
   "metadata": {},
   "outputs": [],
   "source": []
  }
 ],
 "metadata": {
  "kernelspec": {
   "display_name": ".venv",
   "language": "python",
   "name": "python3"
  },
  "language_info": {
   "codemirror_mode": {
    "name": "ipython",
    "version": 3
   },
   "file_extension": ".py",
   "mimetype": "text/x-python",
   "name": "python",
   "nbconvert_exporter": "python",
   "pygments_lexer": "ipython3",
   "version": "3.12.7"
  }
 },
 "nbformat": 4,
 "nbformat_minor": 5
}
