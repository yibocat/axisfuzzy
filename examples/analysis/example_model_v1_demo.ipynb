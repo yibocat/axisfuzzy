{
 "cells": [
  {
   "cell_type": "code",
   "id": "initial_id",
   "metadata": {
    "collapsed": true,
    "ExecuteTime": {
     "end_time": "2025-09-04T07:45:12.516033Z",
     "start_time": "2025-09-04T07:45:11.807923Z"
    }
   },
   "source": [
    "import pandas as pd\n",
    "import numpy as np\n",
    "\n",
    "from axisfuzzy.analysis.accessor import FuzzyAccessor\n",
    "from axisfuzzy.analysis.app.model import Model\n",
    "from axisfuzzy.analysis.component.basic import (\n",
    "    ToolNormalization,\n",
    "    ToolWeightNormalization,\n",
    "    ToolFuzzification,\n",
    "    ToolSimpleAggregation\n",
    ")\n",
    "from axisfuzzy.analysis.build_in import ContractCrispTable, ContractWeightVector\n",
    "from axisfuzzy.fuzzifier import Fuzzifier # 假设 Fuzzifier 在这里"
   ],
   "outputs": [],
   "execution_count": 1
  },
  {
   "cell_type": "code",
   "id": "87706d974e2e34be",
   "metadata": {
    "ExecuteTime": {
     "end_time": "2025-09-04T07:45:12.876768Z",
     "start_time": "2025-09-04T07:45:12.874701Z"
    }
   },
   "source": [
    "# --- 1. 准备一个模糊化引擎 ---\n",
    "# (假设 Fuzzifier 和 TriangularMF 已经可以正常工作)\n",
    "my_fuzzifier = Fuzzifier(\n",
    "    mf='gaussmf',\n",
    "    mtype='qrofn',  # 假设目标是 q-rung orthopair fuzzy number\n",
    "    pi = 0.2,\n",
    "    mf_params=[{'sigma': 0.15, 'c': 0.5}]\n",
    ")"
   ],
   "outputs": [],
   "execution_count": 2
  },
  {
   "cell_type": "code",
   "id": "eb70bed391f13a87",
   "metadata": {
    "ExecuteTime": {
     "end_time": "2025-09-04T07:45:13.099841Z",
     "start_time": "2025-09-04T07:45:13.095508Z"
    }
   },
   "source": [
    "# --- 2. 定义一个复杂模型 ---\n",
    "class ComplexAnalysisModel(Model):\n",
    "    \"\"\"\n",
    "    一个多输入、多输出的演示模型。\n",
    "    - 输入: raw_data (DataFrame), raw_weights (vector)\n",
    "    - 流程:\n",
    "      1. 数据和权重分别进行归一化。\n",
    "      2. 归一化后的数据进行模糊化。\n",
    "      3. 对模糊化后的数据按行进行聚合（例如求均值）。\n",
    "    - 输出: 聚合后的分数 (scores), 模糊化后的数据 (fuzzy_table)\n",
    "    \"\"\"\n",
    "\n",
    "    def __init__(self):\n",
    "        super().__init__()\n",
    "        # 在 __init__ 中定义所有需要的“层”/组件\n",
    "        self.data_normalizer = ToolNormalization(method='min_max', axis=0)\n",
    "        self.weight_normalizer = ToolWeightNormalization()\n",
    "        # 注意：ToolFuzzification 需要一个 Fuzzifier 实例\n",
    "        # 这里我们假设一个简单的 Fuzzifier\n",
    "        self.fuzzifier = ToolFuzzification(fuzzifier=my_fuzzifier)\n",
    "        self.aggregator = ToolSimpleAggregation(operation='mean', axis=1)\n",
    "\n",
    "    def get_config(self) -> dict:\n",
    "        return {}\n",
    "\n",
    "    def forward(self, data: ContractCrispTable, weights: ContractWeightVector):\n",
    "        \"\"\"\n",
    "        用非常直观的方式定义数据流。\n",
    "        这里的所有调用都将被自动翻译成 pipeline.add()。\n",
    "        \"\"\"\n",
    "        # 分支 1: 处理数据\n",
    "        norm_data = self.data_normalizer(data)\n",
    "        fuzzy_table = self.fuzzifier(norm_data)\n",
    "\n",
    "        # 分支 2: 处理权重 (在这个例子中，我们没有在下游使用它，但展示了分支能力)\n",
    "        norm_weights = self.weight_normalizer(weights)\n",
    "\n",
    "        # 聚合操作\n",
    "        # scores = self.aggregator(fuzzy_table)\n",
    "\n",
    "        # 返回一个包含多个输出的字典\n",
    "        # return {'scores': scores, 'fuzzy_table': fuzzy_table}\n",
    "        return {'fuzzy_table': fuzzy_table}"
   ],
   "outputs": [],
   "execution_count": 3
  },
  {
   "cell_type": "code",
   "id": "e59f7cabdbe5b30e",
   "metadata": {
    "ExecuteTime": {
     "end_time": "2025-09-04T07:45:13.314649Z",
     "start_time": "2025-09-04T07:45:13.311590Z"
    }
   },
   "source": [
    "# --- 3. 准备输入数据 ---\n",
    "df = pd.DataFrame(np.random.rand(5, 3), columns=['Attr1', 'Attr2', 'Attr3'])\n",
    "w = np.array([0.5, 0.3, 0.2])"
   ],
   "outputs": [],
   "execution_count": 4
  },
  {
   "cell_type": "code",
   "id": "578c9deddaf9f78b",
   "metadata": {
    "ExecuteTime": {
     "end_time": "2025-09-04T07:45:13.648155Z",
     "start_time": "2025-09-04T07:45:13.642463Z"
    }
   },
   "source": [
    "print(\"--- Initial Data ---\")\n",
    "print(\"DataFrame:\\n\", df)\n",
    "print(\"Weights:\\n\", w)\n",
    "print(\"-\" * 20 + \"\\n\")"
   ],
   "outputs": [
    {
     "name": "stdout",
     "output_type": "stream",
     "text": [
      "--- Initial Data ---\n",
      "DataFrame:\n",
      "       Attr1     Attr2     Attr3\n",
      "0  0.404620  0.451911  0.475134\n",
      "1  0.607949  0.674997  0.380447\n",
      "2  0.076894  0.202944  0.590770\n",
      "3  0.986766  0.325584  0.291906\n",
      "4  0.468394  0.140246  0.620863\n",
      "Weights:\n",
      " [0.5 0.3 0.2]\n",
      "--------------------\n",
      "\n"
     ]
    }
   ],
   "execution_count": 5
  },
  {
   "cell_type": "code",
   "id": "cb164676ac232c19",
   "metadata": {
    "ExecuteTime": {
     "end_time": "2025-09-04T07:45:14.127257Z",
     "start_time": "2025-09-04T07:45:14.122906Z"
    }
   },
   "source": [
    "model = ComplexAnalysisModel()\n",
    "model.build()"
   ],
   "outputs": [
    {
     "name": "stdout",
     "output_type": "stream",
     "text": [
      "--- Building FuzzyPipeline for 'ComplexAnalysisModel'... ---\n",
      "--- Starting symbolic trace of 'forward' method... ---\n",
      "  > Tracing call to 'ToolNormalization'...\n",
      "  > Tracing call to 'ToolFuzzification'...\n",
      "  > Tracing call to 'ToolWeightNormalization'...\n",
      "--- Symbolic trace complete. ---\n",
      "--- FuzzyPipeline for 'ComplexAnalysisModel' built successfully. ---\n",
      "\n"
     ]
    }
   ],
   "execution_count": 6
  },
  {
   "cell_type": "code",
   "id": "2687f31bb5891e29",
   "metadata": {
    "ExecuteTime": {
     "end_time": "2025-09-04T07:45:14.590331Z",
     "start_time": "2025-09-04T07:45:14.587136Z"
    }
   },
   "source": [
    "t = model.step_by_step(df, w)"
   ],
   "outputs": [],
   "execution_count": 7
  },
  {
   "cell_type": "code",
   "id": "c207f016f65285ee",
   "metadata": {
    "ExecuteTime": {
     "end_time": "2025-09-04T07:45:15.219621Z",
     "start_time": "2025-09-04T07:45:15.216374Z"
    }
   },
   "source": [
    "t.result"
   ],
   "outputs": [],
   "execution_count": 8
  },
  {
   "cell_type": "code",
   "id": "312656583a5d8edb",
   "metadata": {
    "ExecuteTime": {
     "end_time": "2025-09-04T07:45:15.901010Z",
     "start_time": "2025-09-04T07:45:15.891149Z"
    }
   },
   "source": [
    "next(t)"
   ],
   "outputs": [
    {
     "data": {
      "text/plain": [
       "{'step_id': 'ToolNormalization_run_161f266d',\n",
       " 'step_name': 'ToolNormalization.run',\n",
       " 'step_index': 1,\n",
       " 'total_steps': 3,\n",
       " 'result':       Attr1     Attr2     Attr3\n",
       " 0  0.360190  0.582824  0.556998\n",
       " 1  0.583660  1.000000  0.269156\n",
       " 2  0.000000  0.117248  0.908521\n",
       " 3  1.000000  0.346588  0.000000\n",
       " 4  0.430281  0.000000  1.000000,\n",
       " 'execution_time(ms)': 3.12196}"
      ]
     },
     "execution_count": 9,
     "metadata": {},
     "output_type": "execute_result"
    }
   ],
   "execution_count": 9
  },
  {
   "cell_type": "code",
   "id": "699f48f04cd4188f",
   "metadata": {
    "ExecuteTime": {
     "end_time": "2025-09-04T07:45:17.315090Z",
     "start_time": "2025-09-04T07:45:17.302954Z"
    }
   },
   "source": [
    "t.result"
   ],
   "outputs": [
    {
     "data": {
      "text/plain": [
       "      Attr1     Attr2     Attr3\n",
       "0  0.360190  0.582824  0.556998\n",
       "1  0.583660  1.000000  0.269156\n",
       "2  0.000000  0.117248  0.908521\n",
       "3  1.000000  0.346588  0.000000\n",
       "4  0.430281  0.000000  1.000000"
      ],
      "text/html": [
       "<div>\n",
       "<style scoped>\n",
       "    .dataframe tbody tr th:only-of-type {\n",
       "        vertical-align: middle;\n",
       "    }\n",
       "\n",
       "    .dataframe tbody tr th {\n",
       "        vertical-align: top;\n",
       "    }\n",
       "\n",
       "    .dataframe thead th {\n",
       "        text-align: right;\n",
       "    }\n",
       "</style>\n",
       "<table border=\"1\" class=\"dataframe\">\n",
       "  <thead>\n",
       "    <tr style=\"text-align: right;\">\n",
       "      <th></th>\n",
       "      <th>Attr1</th>\n",
       "      <th>Attr2</th>\n",
       "      <th>Attr3</th>\n",
       "    </tr>\n",
       "  </thead>\n",
       "  <tbody>\n",
       "    <tr>\n",
       "      <th>0</th>\n",
       "      <td>0.360190</td>\n",
       "      <td>0.582824</td>\n",
       "      <td>0.556998</td>\n",
       "    </tr>\n",
       "    <tr>\n",
       "      <th>1</th>\n",
       "      <td>0.583660</td>\n",
       "      <td>1.000000</td>\n",
       "      <td>0.269156</td>\n",
       "    </tr>\n",
       "    <tr>\n",
       "      <th>2</th>\n",
       "      <td>0.000000</td>\n",
       "      <td>0.117248</td>\n",
       "      <td>0.908521</td>\n",
       "    </tr>\n",
       "    <tr>\n",
       "      <th>3</th>\n",
       "      <td>1.000000</td>\n",
       "      <td>0.346588</td>\n",
       "      <td>0.000000</td>\n",
       "    </tr>\n",
       "    <tr>\n",
       "      <th>4</th>\n",
       "      <td>0.430281</td>\n",
       "      <td>0.000000</td>\n",
       "      <td>1.000000</td>\n",
       "    </tr>\n",
       "  </tbody>\n",
       "</table>\n",
       "</div>"
      ]
     },
     "execution_count": 10,
     "metadata": {},
     "output_type": "execute_result"
    }
   ],
   "execution_count": 10
  },
  {
   "metadata": {
    "ExecuteTime": {
     "end_time": "2025-09-04T07:45:27.066181Z",
     "start_time": "2025-09-04T07:45:27.063502Z"
    }
   },
   "cell_type": "code",
   "source": "next(t)",
   "id": "ea4f85f9fab1fc1a",
   "outputs": [
    {
     "data": {
      "text/plain": [
       "{'step_id': 'ToolWeightNormalization_run_6d6ae507',\n",
       " 'step_name': 'ToolWeightNormalization.run',\n",
       " 'step_index': 2,\n",
       " 'total_steps': 3,\n",
       " 'result': array([0.5, 0.3, 0.2]),\n",
       " 'execution_time(ms)': 0.09621}"
      ]
     },
     "execution_count": 11,
     "metadata": {},
     "output_type": "execute_result"
    }
   ],
   "execution_count": 11
  },
  {
   "metadata": {
    "ExecuteTime": {
     "end_time": "2025-09-04T07:45:31.463301Z",
     "start_time": "2025-09-04T07:45:31.460629Z"
    }
   },
   "cell_type": "code",
   "source": "t.result",
   "id": "69c9c7522a4737e5",
   "outputs": [
    {
     "data": {
      "text/plain": [
       "array([0.5, 0.3, 0.2])"
      ]
     },
     "execution_count": 13,
     "metadata": {},
     "output_type": "execute_result"
    }
   ],
   "execution_count": 13
  },
  {
   "metadata": {
    "ExecuteTime": {
     "end_time": "2025-09-04T07:45:36.657877Z",
     "start_time": "2025-09-04T07:45:36.652141Z"
    }
   },
   "cell_type": "code",
   "source": "next(t)",
   "id": "51a2d5e2a1c5cd2c",
   "outputs": [
    {
     "data": {
      "text/plain": [
       "{'step_id': 'ToolFuzzification_run_9b2454b1',\n",
       " 'step_name': 'ToolFuzzification.run',\n",
       " 'step_index': 3,\n",
       " 'total_steps': 3,\n",
       " 'result':              Attr1            Attr2            Attr3\n",
       " 0  <0.6477,0.1523>       <0.8586,0>       <0.9303,0>\n",
       " 1        <0.856,0>  <0.0039,0.7961>    <0.306,0.494>\n",
       " 2  <0.0039,0.7961>  <0.0386,0.7614>  <0.0245,0.7755>\n",
       " 3  <0.0039,0.7961>  <0.5927,0.2073>  <0.0039,0.7961>\n",
       " 4       <0.8976,0>  <0.0039,0.7961>  <0.0039,0.7961>,\n",
       " 'execution_time(ms)': 0.49717}"
      ]
     },
     "execution_count": 14,
     "metadata": {},
     "output_type": "execute_result"
    }
   ],
   "execution_count": 14
  },
  {
   "metadata": {
    "ExecuteTime": {
     "end_time": "2025-09-04T07:45:39.924587Z",
     "start_time": "2025-09-04T07:45:39.919429Z"
    }
   },
   "cell_type": "code",
   "source": "t.result",
   "id": "67722846cc8f1f1a",
   "outputs": [
    {
     "data": {
      "text/plain": [
       "             Attr1            Attr2            Attr3\n",
       "0  <0.6477,0.1523>       <0.8586,0>       <0.9303,0>\n",
       "1        <0.856,0>  <0.0039,0.7961>    <0.306,0.494>\n",
       "2  <0.0039,0.7961>  <0.0386,0.7614>  <0.0245,0.7755>\n",
       "3  <0.0039,0.7961>  <0.5927,0.2073>  <0.0039,0.7961>\n",
       "4       <0.8976,0>  <0.0039,0.7961>  <0.0039,0.7961>"
      ]
     },
     "execution_count": 15,
     "metadata": {},
     "output_type": "execute_result"
    }
   ],
   "execution_count": 15
  },
  {
   "metadata": {},
   "cell_type": "code",
   "outputs": [],
   "execution_count": null,
   "source": "",
   "id": "a89d190140db0ba3"
  },
  {
   "metadata": {},
   "cell_type": "code",
   "outputs": [],
   "execution_count": null,
   "source": "",
   "id": "aecb2f2973fadbfa"
  },
  {
   "cell_type": "code",
   "id": "4d08ef1a8301fe6e",
   "metadata": {
    "ExecuteTime": {
     "end_time": "2025-09-04T07:45:43.972955Z",
     "start_time": "2025-09-04T07:45:43.960882Z"
    }
   },
   "source": [
    "df.fuzzy.run(model, weights=w, return_intermediate=True)"
   ],
   "outputs": [
    {
     "data": {
      "text/plain": [
       "({'ToolWeightNormalization.run': array([0.5, 0.3, 0.2]),\n",
       "  'ToolFuzzification.run':              Attr1            Attr2            Attr3\n",
       "  0  <0.6477,0.1523>       <0.8586,0>       <0.9303,0>\n",
       "  1        <0.856,0>  <0.0039,0.7961>    <0.306,0.494>\n",
       "  2  <0.0039,0.7961>  <0.0386,0.7614>  <0.0245,0.7755>\n",
       "  3  <0.0039,0.7961>  <0.5927,0.2073>  <0.0039,0.7961>\n",
       "  4       <0.8976,0>  <0.0039,0.7961>  <0.0039,0.7961>},\n",
       " {'input_weights_c53bf417': array([0.5, 0.3, 0.2]),\n",
       "  'input_data_47c79542':       Attr1     Attr2     Attr3\n",
       "  0  0.404620  0.451911  0.475134\n",
       "  1  0.607949  0.674997  0.380447\n",
       "  2  0.076894  0.202944  0.590770\n",
       "  3  0.986766  0.325584  0.291906\n",
       "  4  0.468394  0.140246  0.620863,\n",
       "  'ToolNormalization_run_161f266d':       Attr1     Attr2     Attr3\n",
       "  0  0.360190  0.582824  0.556998\n",
       "  1  0.583660  1.000000  0.269156\n",
       "  2  0.000000  0.117248  0.908521\n",
       "  3  1.000000  0.346588  0.000000\n",
       "  4  0.430281  0.000000  1.000000,\n",
       "  'ToolWeightNormalization_run_6d6ae507': array([0.5, 0.3, 0.2]),\n",
       "  'ToolFuzzification_run_9b2454b1':              Attr1            Attr2            Attr3\n",
       "  0  <0.6477,0.1523>       <0.8586,0>       <0.9303,0>\n",
       "  1        <0.856,0>  <0.0039,0.7961>    <0.306,0.494>\n",
       "  2  <0.0039,0.7961>  <0.0386,0.7614>  <0.0245,0.7755>\n",
       "  3  <0.0039,0.7961>  <0.5927,0.2073>  <0.0039,0.7961>\n",
       "  4       <0.8976,0>  <0.0039,0.7961>  <0.0039,0.7961>})"
      ]
     },
     "execution_count": 16,
     "metadata": {},
     "output_type": "execute_result"
    }
   ],
   "execution_count": 16
  },
  {
   "cell_type": "code",
   "id": "a7522ccdc3bf1d1c",
   "metadata": {
    "ExecuteTime": {
     "end_time": "2025-09-04T07:45:44.744725Z",
     "start_time": "2025-09-04T07:45:44.734549Z"
    }
   },
   "source": [
    "# --- 4. 实例化模型 ---\n",
    "model = ComplexAnalysisModel()\n",
    "model.build()\n",
    "model.run(data=df, weights=w)"
   ],
   "outputs": [
    {
     "name": "stdout",
     "output_type": "stream",
     "text": [
      "--- Building FuzzyPipeline for 'ComplexAnalysisModel'... ---\n",
      "--- Starting symbolic trace of 'forward' method... ---\n",
      "  > Tracing call to 'ToolNormalization'...\n",
      "  > Tracing call to 'ToolFuzzification'...\n",
      "  > Tracing call to 'ToolWeightNormalization'...\n",
      "--- Symbolic trace complete. ---\n",
      "--- FuzzyPipeline for 'ComplexAnalysisModel' built successfully. ---\n",
      "\n"
     ]
    },
    {
     "data": {
      "text/plain": [
       "{'ToolFuzzification.run':              Attr1            Attr2            Attr3\n",
       " 0  <0.6477,0.1523>       <0.8586,0>       <0.9303,0>\n",
       " 1        <0.856,0>  <0.0039,0.7961>    <0.306,0.494>\n",
       " 2  <0.0039,0.7961>  <0.0386,0.7614>  <0.0245,0.7755>\n",
       " 3  <0.0039,0.7961>  <0.5927,0.2073>  <0.0039,0.7961>\n",
       " 4       <0.8976,0>  <0.0039,0.7961>  <0.0039,0.7961>,\n",
       " 'ToolWeightNormalization.run': array([0.5, 0.3, 0.2])}"
      ]
     },
     "execution_count": 17,
     "metadata": {},
     "output_type": "execute_result"
    }
   ],
   "execution_count": 17
  },
  {
   "cell_type": "code",
   "id": "8e62e2e067959ae0",
   "metadata": {
    "ExecuteTime": {
     "end_time": "2025-09-04T07:45:46.567614Z",
     "start_time": "2025-09-04T07:45:46.562628Z"
    }
   },
   "source": [
    "model.summary()"
   ],
   "outputs": [
    {
     "name": "stdout",
     "output_type": "stream",
     "text": [
      "Model: \"ComplexAnalysisModel\"\n",
      "========================================================================================\n",
      "Layer (type)                     Input Contracts               Output Contracts         \n",
      "----------------------------------------------------------------------------------------\n",
      "Input: data                      -                             ContractCrispTable       \n",
      "Input: weights                   -                             ContractWeightVector     \n",
      "ToolNormalization                ContractCrispTable            ContractCrispTable       \n",
      "ToolWeightNormalization          ContractWeightVector          ContractNormalizedWeights\n",
      "ToolFuzzification                ContractCrispTable            ContractFuzzyTable       \n",
      "----------------------------------------------------------------------------------------\n",
      "Total layers: 3\n",
      "========================================================================================\n"
     ]
    }
   ],
   "execution_count": 18
  },
  {
   "cell_type": "code",
   "id": "844c32e45c32852b",
   "metadata": {
    "ExecuteTime": {
     "end_time": "2025-09-04T07:45:47.466476Z",
     "start_time": "2025-09-04T07:45:47.241046Z"
    }
   },
   "source": [
    "model.visualize()"
   ],
   "outputs": [
    {
     "data": {
      "image/png": "[encoded data removed]",
      "text/plain": [
       "<IPython.core.display.Image object>"
      ]
     },
     "execution_count": 19,
     "metadata": {},
     "output_type": "execute_result"
    }
   ],
   "execution_count": 19
  },
  {
   "cell_type": "code",
   "id": "f3c3b1bd69924b92",
   "metadata": {},
   "source": [],
   "outputs": [],
   "execution_count": null
  },
  {
   "cell_type": "code",
   "id": "8214fc8483f07454",
   "metadata": {},
   "source": [],
   "outputs": [],
   "execution_count": null
  },
  {
   "cell_type": "code",
   "id": "833a633ce3d1e112",
   "metadata": {
    "ExecuteTime": {
     "end_time": "2025-09-04T07:45:50.430092Z",
     "start_time": "2025-09-04T07:45:50.424971Z"
    }
   },
   "source": [
    "model.save('complex_model_demo.json')"
   ],
   "outputs": [
    {
     "name": "stdout",
     "output_type": "stream",
     "text": [
      "Model 'ComplexAnalysisModel' configuration saved to: complex_model_demo.json\n"
     ]
    }
   ],
   "execution_count": 20
  },
  {
   "cell_type": "code",
   "id": "774432a0d62fa0d5",
   "metadata": {
    "ExecuteTime": {
     "end_time": "2025-09-04T07:45:50.843966Z",
     "start_time": "2025-09-04T07:45:50.839647Z"
    }
   },
   "source": [
    "x = Model.load('complex_model_demo.json')"
   ],
   "outputs": [
    {
     "name": "stdout",
     "output_type": "stream",
     "text": [
      "Model loaded from: complex_model_demo.json. Please call .build() before use.\n"
     ]
    }
   ],
   "execution_count": 21
  },
  {
   "cell_type": "code",
   "id": "cbe7491791ea0cde",
   "metadata": {
    "ExecuteTime": {
     "end_time": "2025-09-04T07:45:52.267865Z",
     "start_time": "2025-09-04T07:45:52.263007Z"
    }
   },
   "source": [
    "x.build()"
   ],
   "outputs": [
    {
     "name": "stdout",
     "output_type": "stream",
     "text": [
      "--- Building FuzzyPipeline for 'ComplexAnalysisModel'... ---\n",
      "--- Starting symbolic trace of 'forward' method... ---\n",
      "  > Tracing call to 'ToolNormalization'...\n",
      "  > Tracing call to 'ToolFuzzification'...\n",
      "  > Tracing call to 'ToolWeightNormalization'...\n",
      "--- Symbolic trace complete. ---\n",
      "--- FuzzyPipeline for 'ComplexAnalysisModel' built successfully. ---\n",
      "\n"
     ]
    }
   ],
   "execution_count": 22
  },
  {
   "cell_type": "code",
   "id": "1f2231ca6083623",
   "metadata": {
    "ExecuteTime": {
     "end_time": "2025-09-04T07:45:52.492690Z",
     "start_time": "2025-09-04T07:45:52.490179Z"
    }
   },
   "source": [
    "x.summary()"
   ],
   "outputs": [
    {
     "name": "stdout",
     "output_type": "stream",
     "text": [
      "Model: \"ComplexAnalysisModel\"\n",
      "========================================================================================\n",
      "Layer (type)                     Input Contracts               Output Contracts         \n",
      "----------------------------------------------------------------------------------------\n",
      "Input: data                      -                             ContractCrispTable       \n",
      "Input: weights                   -                             ContractWeightVector     \n",
      "ToolNormalization                ContractCrispTable            ContractCrispTable       \n",
      "ToolWeightNormalization          ContractWeightVector          ContractNormalizedWeights\n",
      "ToolFuzzification                ContractCrispTable            ContractFuzzyTable       \n",
      "----------------------------------------------------------------------------------------\n",
      "Total layers: 3\n",
      "========================================================================================\n"
     ]
    }
   ],
   "execution_count": 23
  },
  {
   "cell_type": "code",
   "id": "2d3051cd67cb583",
   "metadata": {
    "ExecuteTime": {
     "end_time": "2025-09-04T07:45:53.623492Z",
     "start_time": "2025-09-04T07:45:53.469042Z"
    }
   },
   "source": [
    "x.visualize()"
   ],
   "outputs": [
    {
     "data": {
      "image/png": "[encoded data removed]",
      "text/plain": [
       "<IPython.core.display.Image object>"
      ]
     },
     "execution_count": 24,
     "metadata": {},
     "output_type": "execute_result"
    }
   ],
   "execution_count": 24
  },
  {
   "cell_type": "code",
   "id": "e8d43d27085e85f1",
   "metadata": {},
   "source": [],
   "outputs": [],
   "execution_count": null
  }
 ],
 "metadata": {
  "kernelspec": {
   "display_name": ".venv",
   "language": "python",
   "name": "python3"
  },
  "language_info": {
   "codemirror_mode": {
    "name": "ipython",
    "version": 3
   },
   "file_extension": ".py",
   "mimetype": "text/x-python",
   "name": "python",
   "nbconvert_exporter": "python",
   "pygments_lexer": "ipython3",
   "version": "3.13.0"
  }
 },
 "nbformat": 4,
 "nbformat_minor": 5
}
