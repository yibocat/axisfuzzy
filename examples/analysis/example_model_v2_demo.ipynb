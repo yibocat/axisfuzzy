{
 "cells": [
  {
   "cell_type": "code",
   "id": "initial_id",
   "metadata": {
    "collapsed": true,
    "ExecuteTime": {
     "end_time": "2025-08-28T06:07:12.683362Z",
     "start_time": "2025-08-28T06:07:10.309343Z"
    }
   },
   "source": [
    "\n",
    "import pandas as pd\n",
    "import numpy as np\n",
    "\n",
    "from axisfuzzy.analysis.app.model import Model\n",
    "from axisfuzzy.analysis.accessor import FuzzyAccessor\n",
    "from axisfuzzy.analysis.component.basic import (\n",
    "    ToolNormalization,\n",
    "    ToolFuzzification,\n",
    "    ToolSimpleAggregation\n",
    ")\n",
    "from axisfuzzy.analysis.build_in import ContractCrispTable, ContractFuzzyTable\n",
    "from axisfuzzy.fuzzifier import Fuzzifier"
   ],
   "outputs": [],
   "execution_count": 1
  },
  {
   "cell_type": "code",
   "id": "348352cf145bcf8e",
   "metadata": {
    "ExecuteTime": {
     "end_time": "2025-08-28T06:07:13.457401Z",
     "start_time": "2025-08-28T06:07:13.451706Z"
    }
   },
   "source": [
    "my_fuzzifier = Fuzzifier(\n",
    "    mf='gaussmf',\n",
    "    mtype='qrofn',  # 假设目标是 q-rung orthopair fuzzy number\n",
    "    pi = 0.2,\n",
    "    mf_params=[{'sigma': 0.15, 'c': 0.5}]\n",
    ")"
   ],
   "outputs": [],
   "execution_count": 2
  },
  {
   "cell_type": "code",
   "id": "4ae9f643073dad9a",
   "metadata": {
    "ExecuteTime": {
     "end_time": "2025-08-28T06:07:13.852146Z",
     "start_time": "2025-08-28T06:07:13.849362Z"
    }
   },
   "source": [
    "# --- 子模型：数据预处理流程 ---\n",
    "class DataPreprocessingModel(Model):\n",
    "    def get_config(self) -> dict:\n",
    "        pass\n",
    "\n",
    "    def __init__(self, norm_method: str = 'min_max'):\n",
    "        super().__init__() # __init__ 现在只做初始化\n",
    "        self.normalizer = ToolNormalization(method=norm_method, axis=0)\n",
    "        self.fuzzifier = ToolFuzzification(fuzzifier=my_fuzzifier)\n",
    "\n",
    "    def forward(self, data: ContractCrispTable) -> ContractFuzzyTable:\n",
    "        norm_data = self.normalizer(data)\n",
    "        # fuzzy_data = self.fuzzifier(norm_data)\n",
    "        return norm_data"
   ],
   "outputs": [],
   "execution_count": 3
  },
  {
   "cell_type": "code",
   "id": "98e2f19541b698ea",
   "metadata": {
    "ExecuteTime": {
     "end_time": "2025-08-28T06:07:14.980978Z",
     "start_time": "2025-08-28T06:07:14.977256Z"
    }
   },
   "source": [
    "class MainAnalysisModel(Model):\n",
    "    def get_config(self) -> dict:\n",
    "        pass\n",
    "\n",
    "    def __init__(self):\n",
    "        super().__init__() # __init__ 现在只做初始化\n",
    "        self.preprocessing_pipeline = DataPreprocessingModel(norm_method='z_score')\n",
    "        self.aggregator = ToolSimpleAggregation(operation='mean', axis=1)\n",
    "\n",
    "    def forward(self, raw_input_data: ContractCrispTable):\n",
    "        processed_data = self.preprocessing_pipeline(raw_input_data)\n",
    "        final_scores = self.aggregator(processed_data)\n",
    "        return final_scores"
   ],
   "outputs": [],
   "execution_count": 4
  },
  {
   "cell_type": "code",
   "id": "5462cc5b5dcb95f5",
   "metadata": {
    "ExecuteTime": {
     "end_time": "2025-08-28T06:07:17.800159Z",
     "start_time": "2025-08-28T06:07:17.796106Z"
    }
   },
   "source": [
    "df = pd.DataFrame(np.random.rand(5, 4), columns=[f'Feature_{i}' for i in range(4)])"
   ],
   "outputs": [],
   "execution_count": 5
  },
  {
   "metadata": {
    "ExecuteTime": {
     "end_time": "2025-08-28T06:07:24.759877Z",
     "start_time": "2025-08-28T06:07:24.757816Z"
    }
   },
   "cell_type": "code",
   "source": "main_model = MainAnalysisModel()",
   "id": "248705dab04c5118",
   "outputs": [],
   "execution_count": 6
  },
  {
   "metadata": {
    "ExecuteTime": {
     "end_time": "2025-08-28T06:08:26.648599Z",
     "start_time": "2025-08-28T06:08:26.639633Z"
    }
   },
   "cell_type": "code",
   "source": "df.fuzzy.run(main_model, return_intermediate=True)",
   "id": "3e5925b6c1d707f6",
   "outputs": [
    {
     "data": {
      "text/plain": [
       "(0    0.049980\n",
       " 1   -0.532458\n",
       " 2    0.715137\n",
       " 3   -0.115993\n",
       " 4   -0.116666\n",
       " dtype: float64,\n",
       " {'input_raw_input_data_a6250ad1':    Feature_0  Feature_1  Feature_2  Feature_3\n",
       "  0   0.761334   0.406876   0.100124   0.778195\n",
       "  1   0.078278   0.926545   0.113000   0.033100\n",
       "  2   0.582740   0.718376   0.562442   0.840895\n",
       "  3   0.246043   0.776010   0.382364   0.206172\n",
       "  4   0.708315   0.210631   0.556662   0.057736,\n",
       "  'DataPreprocessingModel_38d67372':    Feature_0  Feature_1  Feature_2  Feature_3\n",
       "  0   0.956179  -0.688542  -1.066663   0.998945\n",
       "  1  -1.327535   1.093296  -1.010095  -0.885498\n",
       "  2   0.359073   0.379528   0.964426   1.157521\n",
       "  3  -0.766634   0.577144   0.173294  -0.447777\n",
       "  4   0.778917  -1.361425   0.939037  -0.823191,\n",
       "  'ToolSimpleAggregation_run_782a3d25': 0    0.049980\n",
       "  1   -0.532458\n",
       "  2    0.715137\n",
       "  3   -0.115993\n",
       "  4   -0.116666\n",
       "  dtype: float64})"
      ]
     },
     "execution_count": 10,
     "metadata": {},
     "output_type": "execute_result"
    }
   ],
   "execution_count": 10
  },
  {
   "metadata": {},
   "cell_type": "code",
   "outputs": [],
   "execution_count": null,
   "source": "",
   "id": "38f5749baed5b135"
  },
  {
   "metadata": {},
   "cell_type": "code",
   "outputs": [],
   "execution_count": null,
   "source": "",
   "id": "9bd24f4cc4b7fb13"
  },
  {
   "metadata": {},
   "cell_type": "code",
   "outputs": [],
   "execution_count": null,
   "source": "",
   "id": "96d93494cd8962df"
  },
  {
   "cell_type": "code",
   "id": "c9e1c8f1f950b7fa",
   "metadata": {},
   "source": [
    "main_model = MainAnalysisModel()\n",
    "main_model.build()"
   ],
   "outputs": [],
   "execution_count": null
  },
  {
   "cell_type": "code",
   "id": "382f4564d55a0935",
   "metadata": {},
   "source": "main_model.summary()",
   "outputs": [],
   "execution_count": null
  },
  {
   "cell_type": "code",
   "id": "30c4ad1962f5980b",
   "metadata": {},
   "source": [
    "main_model.visualize()"
   ],
   "outputs": [],
   "execution_count": null
  },
  {
   "cell_type": "code",
   "id": "4c2d69c4f6337524",
   "metadata": {},
   "source": "main_model.run(df)",
   "outputs": [],
   "execution_count": null
  },
  {
   "cell_type": "code",
   "id": "406e24af3589273d",
   "metadata": {},
   "source": [],
   "outputs": [],
   "execution_count": null
  }
 ],
 "metadata": {
  "kernelspec": {
   "display_name": ".venv",
   "language": "python",
   "name": "python3"
  },
  "language_info": {
   "codemirror_mode": {
    "name": "ipython",
    "version": 3
   },
   "file_extension": ".py",
   "mimetype": "text/x-python",
   "name": "python",
   "nbconvert_exporter": "python",
   "pygments_lexer": "ipython3",
   "version": "3.12.7"
  }
 },
 "nbformat": 4,
 "nbformat_minor": 5
}
