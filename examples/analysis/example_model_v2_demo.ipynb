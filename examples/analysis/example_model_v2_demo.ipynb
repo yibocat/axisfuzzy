{
 "cells": [
  {
   "cell_type": "code",
   "id": "initial_id",
   "metadata": {
    "collapsed": true,
    "ExecuteTime": {
     "end_time": "2025-08-31T13:22:43.748998Z",
     "start_time": "2025-08-31T13:22:43.105543Z"
    }
   },
   "source": [
    "import pandas as pd\n",
    "import numpy as np\n",
    "\n",
    "from axisfuzzy.analysis.app.model import Model\n",
    "from axisfuzzy.analysis.accessor import FuzzyAccessor\n",
    "from axisfuzzy.analysis.component.basic import (\n",
    "    ToolNormalization,\n",
    "    ToolFuzzification,\n",
    "    ToolSimpleAggregation\n",
    ")\n",
    "from axisfuzzy.analysis.build_in import ContractCrispTable, ContractFuzzyTable\n",
    "from axisfuzzy.fuzzifier import Fuzzifier"
   ],
   "outputs": [],
   "execution_count": 1
  },
  {
   "cell_type": "code",
   "id": "348352cf145bcf8e",
   "metadata": {
    "ExecuteTime": {
     "end_time": "2025-08-31T13:22:44.274805Z",
     "start_time": "2025-08-31T13:22:44.272258Z"
    }
   },
   "source": [
    "my_fuzzifier = Fuzzifier(\n",
    "    mf='gaussmf',\n",
    "    mtype='qrofn',  # 假设目标是 q-rung orthopair fuzzy number\n",
    "    pi = 0.2,\n",
    "    mf_params=[{'sigma': 0.15, 'c': 0.5}]\n",
    ")"
   ],
   "outputs": [],
   "execution_count": 2
  },
  {
   "cell_type": "code",
   "id": "4ae9f643073dad9a",
   "metadata": {
    "ExecuteTime": {
     "end_time": "2025-08-31T13:22:44.684385Z",
     "start_time": "2025-08-31T13:22:44.681536Z"
    }
   },
   "source": [
    "# --- 子模型：数据预处理流程 ---\n",
    "class DataPreprocessingModel(Model):\n",
    "    def get_config(self) -> dict:\n",
    "        pass\n",
    "\n",
    "    def __init__(self, norm_method: str = 'min_max'):\n",
    "        super().__init__() # __init__ 现在只做初始化\n",
    "        self.normalizer = ToolNormalization(method=norm_method, axis=0)\n",
    "        self.fuzzifier = ToolFuzzification(fuzzifier=my_fuzzifier)\n",
    "\n",
    "    def forward(self, data: ContractCrispTable) -> ContractFuzzyTable:\n",
    "        norm_data = self.normalizer(data)\n",
    "        # fuzzy_data = self.fuzzifier(norm_data)\n",
    "        return norm_data"
   ],
   "outputs": [],
   "execution_count": 3
  },
  {
   "cell_type": "code",
   "id": "98e2f19541b698ea",
   "metadata": {
    "ExecuteTime": {
     "end_time": "2025-08-31T13:22:45.015511Z",
     "start_time": "2025-08-31T13:22:45.011300Z"
    }
   },
   "source": [
    "class MainAnalysisModel(Model):\n",
    "    def get_config(self) -> dict:\n",
    "        pass\n",
    "\n",
    "    def __init__(self):\n",
    "        super().__init__() # __init__ 现在只做初始化\n",
    "        self.preprocessing_pipeline = DataPreprocessingModel(norm_method='z_score')\n",
    "        self.aggregator = ToolSimpleAggregation(operation='mean', axis=1)\n",
    "\n",
    "    def forward(self, raw_input_data: ContractCrispTable):\n",
    "        processed_data = self.preprocessing_pipeline(raw_input_data)\n",
    "        final_scores = self.aggregator(processed_data)\n",
    "        return final_scores"
   ],
   "outputs": [],
   "execution_count": 4
  },
  {
   "cell_type": "code",
   "id": "5462cc5b5dcb95f5",
   "metadata": {
    "ExecuteTime": {
     "end_time": "2025-08-31T13:22:45.385199Z",
     "start_time": "2025-08-31T13:22:45.380831Z"
    }
   },
   "source": [
    "df = pd.DataFrame(np.random.rand(5, 4), columns=[f'Feature_{i}' for i in range(4)])"
   ],
   "outputs": [],
   "execution_count": 5
  },
  {
   "metadata": {
    "ExecuteTime": {
     "end_time": "2025-08-31T13:22:45.882489Z",
     "start_time": "2025-08-31T13:22:45.880018Z"
    }
   },
   "cell_type": "code",
   "source": "main_model = MainAnalysisModel()",
   "id": "248705dab04c5118",
   "outputs": [],
   "execution_count": 6
  },
  {
   "metadata": {
    "ExecuteTime": {
     "end_time": "2025-08-31T13:22:46.248767Z",
     "start_time": "2025-08-31T13:22:46.240746Z"
    }
   },
   "cell_type": "code",
   "source": "df.fuzzy.run(main_model, return_intermediate=True)",
   "id": "3e5925b6c1d707f6",
   "outputs": [
    {
     "name": "stdout",
     "output_type": "stream",
     "text": [
      "--- Building FuzzyPipeline for 'MainAnalysisModel'... ---\n",
      "--- Building FuzzyPipeline for 'DataPreprocessingModel'... ---\n",
      "--- Starting symbolic trace of 'forward' method... ---\n",
      "  > Tracing call to 'ToolNormalization'...\n",
      "--- Symbolic trace complete. ---\n",
      "--- FuzzyPipeline for 'DataPreprocessingModel' built successfully. ---\n",
      "\n",
      "--- Starting symbolic trace of 'forward' method... ---\n",
      "  > Tracing call to 'DataPreprocessingModel'...\n",
      "  > Tracing call to 'ToolSimpleAggregation'...\n",
      "--- Symbolic trace complete. ---\n",
      "--- FuzzyPipeline for 'MainAnalysisModel' built successfully. ---\n",
      "\n"
     ]
    },
    {
     "data": {
      "text/plain": [
       "(0    0.392218\n",
       " 1   -0.398448\n",
       " 2    0.555072\n",
       " 3   -0.365986\n",
       " 4   -0.182856\n",
       " dtype: float64,\n",
       " {'input_raw_input_data_1123be31':    Feature_0  Feature_1  Feature_2  Feature_3\n",
       "  0   0.293259   0.952607   0.450071   0.758233\n",
       "  1   0.332026   0.507057   0.196645   0.681198\n",
       "  2   0.996003   0.639095   0.839255   0.355470\n",
       "  3   0.668303   0.488200   0.511366   0.162439\n",
       "  4   0.422584   0.443325   0.928453   0.265380,\n",
       "  'DataPreprocessingModel_dd78a640':    Feature_0  Feature_1  Feature_2  Feature_3\n",
       "  0  -0.851801   1.674325  -0.452145   1.198494\n",
       "  1  -0.719277  -0.478308  -1.300378   0.904170\n",
       "  2   1.550510   0.159620   0.850479  -0.340320\n",
       "  3   0.430275  -0.569414  -0.246984  -1.077822\n",
       "  4  -0.409707  -0.786222   1.149028  -0.684522,\n",
       "  'ToolSimpleAggregation_run_9407254a': 0    0.392218\n",
       "  1   -0.398448\n",
       "  2    0.555072\n",
       "  3   -0.365986\n",
       "  4   -0.182856\n",
       "  dtype: float64})"
      ]
     },
     "execution_count": 7,
     "metadata": {},
     "output_type": "execute_result"
    }
   ],
   "execution_count": 7
  },
  {
   "metadata": {
    "ExecuteTime": {
     "end_time": "2025-08-31T13:23:28.598577Z",
     "start_time": "2025-08-31T13:23:28.596629Z"
    }
   },
   "cell_type": "code",
   "source": "",
   "id": "38f5749baed5b135",
   "outputs": [],
   "execution_count": null
  },
  {
   "metadata": {
    "ExecuteTime": {
     "end_time": "2025-08-31T13:23:28.798545Z",
     "start_time": "2025-08-31T13:23:28.797005Z"
    }
   },
   "cell_type": "code",
   "source": "",
   "id": "9bd24f4cc4b7fb13",
   "outputs": [],
   "execution_count": null
  },
  {
   "metadata": {
    "ExecuteTime": {
     "end_time": "2025-08-31T13:23:28.981012Z",
     "start_time": "2025-08-31T13:23:28.979428Z"
    }
   },
   "cell_type": "code",
   "source": "",
   "id": "96d93494cd8962df",
   "outputs": [],
   "execution_count": null
  },
  {
   "cell_type": "code",
   "id": "c9e1c8f1f950b7fa",
   "metadata": {
    "ExecuteTime": {
     "end_time": "2025-08-31T13:23:29.379423Z",
     "start_time": "2025-08-31T13:23:29.375745Z"
    }
   },
   "source": [
    "main_model = MainAnalysisModel()\n",
    "main_model.build()"
   ],
   "outputs": [
    {
     "name": "stdout",
     "output_type": "stream",
     "text": [
      "--- Building FuzzyPipeline for 'MainAnalysisModel'... ---\n",
      "--- Building FuzzyPipeline for 'DataPreprocessingModel'... ---\n",
      "--- Starting symbolic trace of 'forward' method... ---\n",
      "  > Tracing call to 'ToolNormalization'...\n",
      "--- Symbolic trace complete. ---\n",
      "--- FuzzyPipeline for 'DataPreprocessingModel' built successfully. ---\n",
      "\n",
      "--- Starting symbolic trace of 'forward' method... ---\n",
      "  > Tracing call to 'DataPreprocessingModel'...\n",
      "  > Tracing call to 'ToolSimpleAggregation'...\n",
      "--- Symbolic trace complete. ---\n",
      "--- FuzzyPipeline for 'MainAnalysisModel' built successfully. ---\n",
      "\n"
     ]
    }
   ],
   "execution_count": 8
  },
  {
   "cell_type": "code",
   "id": "382f4564d55a0935",
   "metadata": {
    "ExecuteTime": {
     "end_time": "2025-08-31T13:23:29.955322Z",
     "start_time": "2025-08-31T13:23:29.951453Z"
    }
   },
   "source": "main_model.summary()",
   "outputs": [
    {
     "name": "stdout",
     "output_type": "stream",
     "text": [
      "Model: \"MainAnalysisModel\"\n",
      "================================================================================\n",
      "Layer (type)                    Input Contracts             Output Contracts    \n",
      "--------------------------------------------------------------------------------\n",
      "Input: raw_input_data           -                           ContractCrispTable  \n",
      "DataPreprocessingModel          ContractCrispTable          ContractCrispTable  \n",
      "  └─ ToolNormalization          ContractCrispTable          ContractCrispTable  \n",
      "ToolSimpleAggregation           ContractCrispTable          ContractWeightVector\n",
      "--------------------------------------------------------------------------------\n",
      "Total layers: 2 (including 1 nested model(s) with 1 sub-layers)\n",
      "================================================================================\n"
     ]
    }
   ],
   "execution_count": 9
  },
  {
   "cell_type": "code",
   "id": "30c4ad1962f5980b",
   "metadata": {
    "ExecuteTime": {
     "end_time": "2025-08-31T13:23:31.322337Z",
     "start_time": "2025-08-31T13:23:31.013437Z"
    }
   },
   "source": [
    "main_model.visualize()"
   ],
   "outputs": [
    {
     "data": {
      "image/png": "[encoded data removed]",
      "text/plain": [
       "<IPython.core.display.Image object>"
      ]
     },
     "execution_count": 10,
     "metadata": {},
     "output_type": "execute_result"
    }
   ],
   "execution_count": 10
  },
  {
   "cell_type": "code",
   "id": "4c2d69c4f6337524",
   "metadata": {
    "ExecuteTime": {
     "end_time": "2025-08-31T13:23:31.530919Z",
     "start_time": "2025-08-31T13:23:31.526362Z"
    }
   },
   "source": "main_model.run(df)",
   "outputs": [
    {
     "data": {
      "text/plain": [
       "0    0.392218\n",
       "1   -0.398448\n",
       "2    0.555072\n",
       "3   -0.365986\n",
       "4   -0.182856\n",
       "dtype: float64"
      ]
     },
     "execution_count": 11,
     "metadata": {},
     "output_type": "execute_result"
    }
   ],
   "execution_count": 11
  },
  {
   "cell_type": "code",
   "id": "406e24af3589273d",
   "metadata": {},
   "source": [],
   "outputs": [],
   "execution_count": null
  }
 ],
 "metadata": {
  "kernelspec": {
   "display_name": ".venv",
   "language": "python",
   "name": "python3"
  },
  "language_info": {
   "codemirror_mode": {
    "name": "ipython",
    "version": 3
   },
   "file_extension": ".py",
   "mimetype": "text/x-python",
   "name": "python",
   "nbconvert_exporter": "python",
   "pygments_lexer": "ipython3",
   "version": "3.12.7"
  }
 },
 "nbformat": 4,
 "nbformat_minor": 5
}
