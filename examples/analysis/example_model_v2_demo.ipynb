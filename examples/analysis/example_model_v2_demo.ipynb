{
 "cells": [
  {
   "cell_type": "code",
   "id": "initial_id",
   "metadata": {
    "collapsed": true
   },
   "source": [
    "\n",
    "import pandas as pd\n",
    "import numpy as np\n",
    "\n",
    "from axisfuzzy.analysis.app.model import Model\n",
    "from axisfuzzy.analysis.component.basic import (\n",
    "    ToolNormalization,\n",
    "    ToolFuzzification,\n",
    "    ToolSimpleAggregation\n",
    ")\n",
    "from axisfuzzy.analysis.build_in import ContractCrispTable, ContractFuzzyTable\n",
    "from axisfuzzy.fuzzifier import Fuzzifier"
   ],
   "outputs": [],
   "execution_count": null
  },
  {
   "cell_type": "code",
   "id": "348352cf145bcf8e",
   "metadata": {},
   "source": [
    "my_fuzzifier = Fuzzifier(\n",
    "    mf='gaussmf',\n",
    "    mtype='qrofn',  # 假设目标是 q-rung orthopair fuzzy number\n",
    "    pi = 0.2,\n",
    "    mf_params=[{'sigma': 0.15, 'c': 0.5}]\n",
    ")"
   ],
   "outputs": [],
   "execution_count": null
  },
  {
   "cell_type": "code",
   "id": "4ae9f643073dad9a",
   "metadata": {},
   "source": [
    "# --- 子模型：数据预处理流程 ---\n",
    "class DataPreprocessingModel(Model):\n",
    "    def get_config(self) -> dict:\n",
    "        pass\n",
    "\n",
    "    def __init__(self, norm_method: str = 'min_max'):\n",
    "        super().__init__() # __init__ 现在只做初始化\n",
    "        self.normalizer = ToolNormalization(method=norm_method, axis=0)\n",
    "        self.fuzzifier = ToolFuzzification(fuzzifier=my_fuzzifier)\n",
    "\n",
    "    def forward(self, data: ContractCrispTable) -> ContractFuzzyTable:\n",
    "        norm_data = self.normalizer(data)\n",
    "        # fuzzy_data = self.fuzzifier(norm_data)\n",
    "        return norm_data"
   ],
   "outputs": [],
   "execution_count": null
  },
  {
   "cell_type": "code",
   "id": "98e2f19541b698ea",
   "metadata": {},
   "source": [
    "class MainAnalysisModel(Model):\n",
    "    def get_config(self) -> dict:\n",
    "        pass\n",
    "\n",
    "    def __init__(self):\n",
    "        super().__init__() # __init__ 现在只做初始化\n",
    "        self.preprocessing_pipeline = DataPreprocessingModel(norm_method='z_score')\n",
    "        self.aggregator = ToolSimpleAggregation(operation='mean', axis=1)\n",
    "\n",
    "    def forward(self, raw_input_data: ContractCrispTable):\n",
    "        processed_data = self.preprocessing_pipeline(raw_input_data)\n",
    "        final_scores = self.aggregator(processed_data)\n",
    "        return final_scores"
   ],
   "outputs": [],
   "execution_count": null
  },
  {
   "cell_type": "code",
   "id": "5462cc5b5dcb95f5",
   "metadata": {},
   "source": [
    "df = pd.DataFrame(np.random.rand(5, 4), columns=[f'Feature_{i}' for i in range(4)])"
   ],
   "outputs": [],
   "execution_count": null
  },
  {
   "cell_type": "code",
   "id": "c9e1c8f1f950b7fa",
   "metadata": {},
   "source": [
    "main_model = MainAnalysisModel()\n",
    "main_model.build()"
   ],
   "outputs": [],
   "execution_count": null
  },
  {
   "cell_type": "code",
   "id": "382f4564d55a0935",
   "metadata": {},
   "source": "main_model.summary()",
   "outputs": [],
   "execution_count": null
  },
  {
   "cell_type": "code",
   "id": "30c4ad1962f5980b",
   "metadata": {},
   "source": [
    "main_model.visualize()"
   ],
   "outputs": [],
   "execution_count": null
  },
  {
   "cell_type": "code",
   "id": "4c2d69c4f6337524",
   "metadata": {},
   "source": [
    "main_model(df)"
   ],
   "outputs": [],
   "execution_count": null
  },
  {
   "cell_type": "code",
   "id": "406e24af3589273d",
   "metadata": {},
   "source": [],
   "outputs": [],
   "execution_count": null
  }
 ],
 "metadata": {
  "kernelspec": {
   "display_name": ".venv",
   "language": "python",
   "name": "python3"
  },
  "language_info": {
   "codemirror_mode": {
    "name": "ipython",
    "version": 3
   },
   "file_extension": ".py",
   "mimetype": "text/x-python",
   "name": "python",
   "nbconvert_exporter": "python",
   "pygments_lexer": "ipython3",
   "version": "3.12.7"
  }
 },
 "nbformat": 4,
 "nbformat_minor": 5
}
