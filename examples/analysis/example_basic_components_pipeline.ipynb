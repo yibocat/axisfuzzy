{
 "cells": [
  {
   "cell_type": "code",
   "id": "initial_id",
   "metadata": {
    "collapsed": true
   },
   "source": [
    "import pandas as pd\n",
    "import numpy as np\n",
    "from axisfuzzy.analysis.pipeline import FuzzyPipeline\n",
    "from axisfuzzy.analysis.components.basic import (\n",
    "    NormalizationTool,\n",
    "    WeightNormalizationTool,\n",
    "    StatisticsTool,\n",
    "    SimpleAggregationTool\n",
    ")"
   ],
   "outputs": [],
   "execution_count": null
  },
  {
   "metadata": {},
   "cell_type": "code",
   "source": [
    "# 1. Prepare some sample crisp data (CrispTable)\n",
    "# 假设我们有三个备选方案（行）和三个评估标准（列）\n",
    "data = pd.DataFrame({\n",
    "    'Criteria_A': [10, 25, 15, 30],\n",
    "    'Criteria_B': [100, 80, 120, 90],\n",
    "    'Criteria_C': [5, 8, 6, 7]\n",
    "}, index=['Alt_1', 'Alt_2', 'Alt_3', 'Alt_4'])\n",
    "data"
   ],
   "id": "77b05f46c04082d1",
   "outputs": [],
   "execution_count": null
  },
  {
   "metadata": {},
   "cell_type": "code",
   "source": [
    "# 2. Build the FuzzyPipeline\n",
    "pipeline = FuzzyPipeline(name=\"BasicDataProcessingPipeline\")\n",
    "\n",
    "# Define the input for the pipeline\n",
    "# 管道的输入是一个名为 'raw_data' 的 CrispTable\n",
    "raw_data_input = pipeline.input(\"raw_data\", contract='CrispTable')"
   ],
   "id": "7da3e95712b0e3a2",
   "outputs": [],
   "execution_count": null
  },
  {
   "metadata": {},
   "cell_type": "code",
   "source": [
    "# Step 2.1: Normalize the data using Min-Max scaling (column-wise)\n",
    "# 使用 NormalizationTool 对原始数据进行列向的 Min-Max 归一化\n",
    "normalizer = NormalizationTool(method='min_max', axis=0)\n",
    "normalized_data_output = pipeline.add(normalizer.run, data=raw_data_input)"
   ],
   "id": "6f629960da38b157",
   "outputs": [],
   "execution_count": null
  },
  {
   "metadata": {},
   "cell_type": "code",
   "source": [
    "# Step 2.2: Calculate statistics on the normalized data\n",
    "# 使用 StatisticsTool 计算归一化后数据的整体统计信息\n",
    "stats_calculator = StatisticsTool(axis=0) # axis=0 for column-wise stats\n",
    "statistics_output = pipeline.add(stats_calculator.run, data=normalized_data_output)"
   ],
   "id": "c672550c90aa7306",
   "outputs": [],
   "execution_count": null
  },
  {
   "metadata": {},
   "cell_type": "code",
   "source": [
    "# Step 2.3: Aggregate the normalized data (e.g., calculate mean for each row)\n",
    "# 使用 SimpleAggregationTool 计算每行的平均值\n",
    "aggregator = SimpleAggregationTool(operation='mean', axis=1)\n",
    "aggregated_values_output = pipeline.add(aggregator.run, data=normalized_data_output)"
   ],
   "id": "80b66261949768ec",
   "outputs": [],
   "execution_count": null
  },
  {
   "metadata": {},
   "cell_type": "code",
   "source": [
    "# Step 2.4: Demonstrate WeightNormalizationTool separately (as it takes a WeightVector, not CrispTable)\n",
    "# 创建一个独立的权重归一化步骤，它不直接依赖于前面的 CrispTable 流程\n",
    "# 假设我们有一个初始权重向量\n",
    "initial_weights = np.array([0.2, 0.5, 0.3, 0.1]) # 这是一个 WeightVector\n",
    "weights_input = pipeline.input(\"initial_weights\", contract='WeightVector')\n",
    "\n",
    "weight_normalizer = WeightNormalizationTool()\n",
    "normalized_weights_output = pipeline.add(weight_normalizer.run, weights=weights_input)"
   ],
   "id": "1125b53e0d01667e",
   "outputs": [],
   "execution_count": null
  },
  {
   "metadata": {},
   "cell_type": "code",
   "source": [
    "# 3. Run the pipeline\n",
    "# 运行管道，传入原始数据和初始权重\n",
    "# 注意：如果管道有多个输入，initial_data 必须是一个字典\n",
    "results = pipeline.run(\n",
    "    initial_data={\n",
    "        \"raw_data\": data,\n",
    "        \"initial_weights\": initial_weights\n",
    "    },\n",
    "    return_intermediate=True # 返回所有中间结果，便于查看\n",
    ")\n",
    "final_outputs, intermediate_results = results\n",
    "print(\"\\n--- Pipeline Execution Results ---\")"
   ],
   "id": "31a65405b64309d1",
   "outputs": [],
   "execution_count": null
  },
  {
   "metadata": {},
   "cell_type": "code",
   "source": [
    "print(\"\\nFinal Outputs (from terminal nodes):\")\n",
    "# 根据 pipeline.py 中 _format_final_output 的逻辑，如果只有一个输出，直接返回；\n",
    "# 如果有多个，返回一个字典，键是步骤的 display_name。\n",
    "# 这里我们有三个末端节点：statistics_output, aggregated_values_output, normalized_weights_output\n",
    "# 所以 final_outputs 会是一个字典\n",
    "for key, value in final_outputs.items():\n",
    "    print(f\"\\nOutput '{key}':\")\n",
    "    print(value)"
   ],
   "id": "86ab303d9e5abe3f",
   "outputs": [],
   "execution_count": null
  },
  {
   "metadata": {},
   "cell_type": "code",
   "source": [
    "# Print intermediate results (for all steps)\n",
    "print(\"\\nIntermediate Results (all steps):\")\n",
    "for step_id, result_data in intermediate_results.items():\n",
    "    step_info = pipeline.get_step_info(step_id)\n",
    "    print(f\"\\nStep '{step_info['display_name']}' (ID: {step_id[:8]}...):\")\n",
    "    print(result_data)"
   ],
   "id": "9aca258d470438f3",
   "outputs": [],
   "execution_count": null
  },
  {
   "metadata": {},
   "cell_type": "code",
   "source": "",
   "id": "d8011762343036f",
   "outputs": [],
   "execution_count": null
  }
 ],
 "metadata": {
  "kernelspec": {
   "display_name": "Python 3",
   "language": "python",
   "name": "python3"
  },
  "language_info": {
   "codemirror_mode": {
    "name": "ipython",
    "version": 2
   },
   "file_extension": ".py",
   "mimetype": "text/x-python",
   "name": "python",
   "nbconvert_exporter": "python",
   "pygments_lexer": "ipython2",
   "version": "2.7.6"
  }
 },
 "nbformat": 4,
 "nbformat_minor": 5
}
