{
 "cells": [
  {
   "metadata": {
    "ExecuteTime": {
     "end_time": "2025-08-24T07:29:48.754153Z",
     "start_time": "2025-08-24T07:29:48.144871Z"
    }
   },
   "cell_type": "code",
   "source": [
    "import pandas as pd\n",
    "from axisfuzzy.analysis._pipeline import FuzzyPipeline\n",
    "from axisfuzzy.analysis._components.basic import (\n",
    "    NormalizationTool,\n",
    "    StatisticsTool,\n",
    "    SimpleAggregationTool\n",
    ")\n",
    "# Create sample data\n",
    "data = pd.DataFrame({\n",
    "    'Cost': [100, 200, 150, 180],\n",
    "    'Quality': [8, 9, 7, 8.5],\n",
    "    'Speed': [50, 60, 55, 58]\n",
    "}, index=['Product_A', 'Product_B', 'Product_C', 'Product_D'])\n",
    "\n",
    "print(\"✅ Setup complete. All _components are defined and data is ready.\")"
   ],
   "id": "a208ca7a27207490",
   "outputs": [
    {
     "name": "stdout",
     "output_type": "stream",
     "text": [
      "✅ Setup complete. All components are defined and data is ready.\n"
     ]
    }
   ],
   "execution_count": 1
  },
  {
   "metadata": {},
   "cell_type": "markdown",
   "source": "### Pipeline iterator based on `FuzzyPipelineIterator` performs a single-step iteration",
   "id": "c70875b0a49f91da"
  },
  {
   "metadata": {
    "ExecuteTime": {
     "end_time": "2025-08-24T07:29:49.369392Z",
     "start_time": "2025-08-24T07:29:49.365010Z"
    }
   },
   "cell_type": "code",
   "source": [
    "p = FuzzyPipeline()\n",
    "data_input = p.input('data')\n",
    "\n",
    "normalized = p.add(NormalizationTool(method='min_max').run, data=data_input)\n",
    "stats = p.add(StatisticsTool().run, data=normalized)\n",
    "aggregated = p.add(SimpleAggregationTool(operation='mean').run, data=normalized)"
   ],
   "id": "7e7fbe48d72c7331",
   "outputs": [],
   "execution_count": 2
  },
  {
   "metadata": {
    "ExecuteTime": {
     "end_time": "2025-08-24T07:29:49.729762Z",
     "start_time": "2025-08-24T07:29:49.720058Z"
    }
   },
   "cell_type": "code",
   "source": [
    "for step_result in p.step_by_step({'data': data}):\n",
    "    print(f\"Step {step_result['step_index'] + 1}/{step_result['total_steps']}: {step_result['step_name']}\")\n",
    "    print(f\"Execution time: {step_result['execution_time']:.4f} seconds\")\n",
    "\n",
    "    if isinstance(step_result['result'], dict):\n",
    "        for key, value in step_result['result'].items():\n",
    "            if isinstance(value, pd.DataFrame):\n",
    "                print(f\"Result '{key}' shape: {value.shape}\")\n",
    "            elif isinstance(value, dict):\n",
    "                print(f\"Result '{key}': {value}\")\n",
    "            else:\n",
    "                print(f\"Result '{key}' type: {type(value)}\")\n",
    "    else:\n",
    "        print(f\"Result type: {type(step_result['result'])}\")\n",
    "\n",
    "    print(\"-\" * 30)\n",
    "\n",
    "print(\"Pipeline execution completed!\")"
   ],
   "id": "b1d87e319f0e77dd",
   "outputs": [
    {
     "name": "stdout",
     "output_type": "stream",
     "text": [
      "Step 1/3: NormalizationTool.run\n",
      "Execution time: 0.0035 seconds\n",
      "Result 'normalized_data' shape: (4, 3)\n",
      "------------------------------\n",
      "Step 2/3: StatisticsTool.run\n",
      "Execution time: 0.0005 seconds\n",
      "Result 'statistics': {'mean': 0.4456526266008652, 'std': 0.41757354586690704, 'min': 0.0, 'max': 1.0, 'median': 0.3121470366368326, 'count': 12}\n",
      "------------------------------\n",
      "Step 3/3: SimpleAggregationTool.run\n",
      "Execution time: 0.0005 seconds\n",
      "Result 'aggregated_values' type: <class 'pandas.core.series.Series'>\n",
      "------------------------------\n",
      "Pipeline execution completed!\n"
     ]
    }
   ],
   "execution_count": 3
  },
  {
   "metadata": {
    "ExecuteTime": {
     "end_time": "2025-08-24T07:29:50.059849Z",
     "start_time": "2025-08-24T07:29:50.057055Z"
    }
   },
   "cell_type": "code",
   "source": [
    "# You can also inspect the pipeline structure\n",
    "# p.steps"
   ],
   "id": "e0f4a2275c821719",
   "outputs": [],
   "execution_count": 4
  },
  {
   "metadata": {},
   "cell_type": "markdown",
   "source": "### Step-by-step execution using interactive `.next()` and `.run_all()` methods of `ExecutionState`",
   "id": "8132fbd033e6683d"
  },
  {
   "metadata": {
    "ExecuteTime": {
     "end_time": "2025-08-24T07:29:50.825515Z",
     "start_time": "2025-08-24T07:29:50.821678Z"
    }
   },
   "cell_type": "code",
   "source": [
    "# Build pipeline\n",
    "p = FuzzyPipeline()\n",
    "data_input = p.input(\"data\")\n",
    "normalized = p.add(NormalizationTool(method='min_max').run, data=data_input)\n",
    "stats = p.add(StatisticsTool().run, data=normalized)\n",
    "aggregated = p.add(SimpleAggregationTool(operation='mean').run, data=normalized)"
   ],
   "id": "cbb2b199f73c98b0",
   "outputs": [],
   "execution_count": 5
  },
  {
   "metadata": {
    "ExecuteTime": {
     "end_time": "2025-08-24T07:29:51.248763Z",
     "start_time": "2025-08-24T07:29:51.239160Z"
    }
   },
   "cell_type": "code",
   "source": [
    "print(f\"Pipeline created with {len(p.steps) - len(p._input_nodes)} executable steps.\")\n",
    "print(\"Starting chainable step-by-step execution...\\n\")\n",
    "\n",
    "try:\n",
    "    # 1. Get the initial execution state\n",
    "    state0 = p.start_execution({\"data\": data})\n",
    "    print(f\"Initial State: {state0}\")\n",
    "    print(\"Ready to execute first step.\\n\")\n",
    "\n",
    "    # 2. Execute the first step\n",
    "    print(\"--- Running Step 1 ---\")\n",
    "    state1 = state0.run_next()\n",
    "    print(f\"New State: {state1}\")\n",
    "    print(f\"Result of Step 1 ('{state1.pipeline.get_step_info(state1.latest_step_id)['display_name']}'):\")\n",
    "    # The result is a dict, e.g., {'normalized_data': DataFrame}\n",
    "    print(state1.latest_result['normalized_data'].head())\n",
    "    print(\"-\" * 30 + \"\\n\")\n",
    "\n",
    "    # 3. Execute the second step\n",
    "    print(\"--- Running Step 2 ---\")\n",
    "    state2 = state1.run_next()\n",
    "    print(f\"New State: {state2}\")\n",
    "    print(f\"Result of Step 2 ('{state2.pipeline.get_step_info(state2.latest_step_id)['display_name']}'):\")\n",
    "    print(state2.latest_result)\n",
    "    print(\"-\" * 30 + \"\\n\")\n",
    "\n",
    "    # 4. Run all remaining steps\n",
    "    print(\"--- Running all remaining steps ---\")\n",
    "    final_state = state2.run_all()\n",
    "    print(f\"Final State: {final_state}\")\n",
    "\n",
    "    # Inspect final results\n",
    "    print(\"\\n--- Final Results ---\")\n",
    "    all_results = final_state.step_results\n",
    "    for step_id, result in all_results.items():\n",
    "        step_name = final_state.pipeline.get_step_info(step_id)['display_name']\n",
    "        print(f\"Result of '{step_name}': {type(result)}\")\n",
    "\n",
    "except StopIteration:\n",
    "    print(\"Execution finished earlier than expected.\")\n",
    "except Exception as e:\n",
    "    print(f\"An error occurred: {e}\")\n",
    "\n",
    "print(\"\\nPipeline execution finished.\")"
   ],
   "id": "86be3a2aa49adcae",
   "outputs": [
    {
     "name": "stdout",
     "output_type": "stream",
     "text": [
      "Pipeline created with 3 executable steps.\n",
      "Starting chainable step-by-step execution...\n",
      "\n",
      "Initial State: <ExecutionState (Next step 1/3), latest_step_completed='Initial'>\n",
      "Ready to execute first step.\n",
      "\n",
      "--- Running Step 1 ---\n",
      "New State: <ExecutionState (Next step 2/3), latest_step_completed='NormalizationTool.run'>\n",
      "An error occurred: 'StepMetadata' object is not subscriptable\n",
      "\n",
      "Pipeline execution finished.\n"
     ]
    }
   ],
   "execution_count": 6
  },
  {
   "metadata": {
    "ExecuteTime": {
     "end_time": "2025-08-24T07:29:51.779754Z",
     "start_time": "2025-08-24T07:29:51.777576Z"
    }
   },
   "cell_type": "code",
   "source": "",
   "id": "8bce8244f328aed9",
   "outputs": [],
   "execution_count": null
  },
  {
   "metadata": {},
   "cell_type": "code",
   "source": "",
   "id": "9a65e3dd75783f5",
   "outputs": [],
   "execution_count": null
  }
 ],
 "metadata": {
  "kernelspec": {
   "display_name": "Python 3",
   "language": "python",
   "name": "python3"
  },
  "language_info": {
   "codemirror_mode": {
    "name": "ipython",
    "version": 2
   },
   "file_extension": ".py",
   "mimetype": "text/x-python",
   "name": "python",
   "nbconvert_exporter": "python",
   "pygments_lexer": "ipython2",
   "version": "2.7.6"
  }
 },
 "nbformat": 4,
 "nbformat_minor": 5
}
