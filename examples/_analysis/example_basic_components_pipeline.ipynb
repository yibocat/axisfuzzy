{
 "cells": [
  {
   "cell_type": "code",
   "id": "initial_id",
   "metadata": {
    "collapsed": true,
    "ExecuteTime": {
     "end_time": "2025-08-24T07:28:31.846026Z",
     "start_time": "2025-08-24T07:28:31.233924Z"
    }
   },
   "source": [
    "import pandas as pd\n",
    "import numpy as np\n",
    "from axisfuzzy.analysis._pipeline import FuzzyPipeline\n",
    "from axisfuzzy.analysis._components.basic import (\n",
    "    NormalizationTool,\n",
    "    WeightNormalizationTool,\n",
    "    StatisticsTool,\n",
    "    SimpleAggregationTool\n",
    ")"
   ],
   "outputs": [],
   "execution_count": 1
  },
  {
   "metadata": {
    "ExecuteTime": {
     "end_time": "2025-08-24T07:28:32.219943Z",
     "start_time": "2025-08-24T07:28:32.209891Z"
    }
   },
   "cell_type": "code",
   "source": [
    "# 1. Prepare some sample crisp data (CrispTable)\n",
    "# 假设我们有三个备选方案（行）和三个评估标准（列）\n",
    "data = pd.DataFrame({\n",
    "    'Criteria_A': [10, 25, 15, 30],\n",
    "    'Criteria_B': [100, 80, 120, 90],\n",
    "    'Criteria_C': [5, 8, 6, 7]\n",
    "}, index=['Alt_1', 'Alt_2', 'Alt_3', 'Alt_4'])\n",
    "data"
   ],
   "id": "77b05f46c04082d1",
   "outputs": [
    {
     "data": {
      "text/plain": [
       "       Criteria_A  Criteria_B  Criteria_C\n",
       "Alt_1          10         100           5\n",
       "Alt_2          25          80           8\n",
       "Alt_3          15         120           6\n",
       "Alt_4          30          90           7"
      ],
      "text/html": [
       "<div>\n",
       "<style scoped>\n",
       "    .dataframe tbody tr th:only-of-type {\n",
       "        vertical-align: middle;\n",
       "    }\n",
       "\n",
       "    .dataframe tbody tr th {\n",
       "        vertical-align: top;\n",
       "    }\n",
       "\n",
       "    .dataframe thead th {\n",
       "        text-align: right;\n",
       "    }\n",
       "</style>\n",
       "<table border=\"1\" class=\"dataframe\">\n",
       "  <thead>\n",
       "    <tr style=\"text-align: right;\">\n",
       "      <th></th>\n",
       "      <th>Criteria_A</th>\n",
       "      <th>Criteria_B</th>\n",
       "      <th>Criteria_C</th>\n",
       "    </tr>\n",
       "  </thead>\n",
       "  <tbody>\n",
       "    <tr>\n",
       "      <th>Alt_1</th>\n",
       "      <td>10</td>\n",
       "      <td>100</td>\n",
       "      <td>5</td>\n",
       "    </tr>\n",
       "    <tr>\n",
       "      <th>Alt_2</th>\n",
       "      <td>25</td>\n",
       "      <td>80</td>\n",
       "      <td>8</td>\n",
       "    </tr>\n",
       "    <tr>\n",
       "      <th>Alt_3</th>\n",
       "      <td>15</td>\n",
       "      <td>120</td>\n",
       "      <td>6</td>\n",
       "    </tr>\n",
       "    <tr>\n",
       "      <th>Alt_4</th>\n",
       "      <td>30</td>\n",
       "      <td>90</td>\n",
       "      <td>7</td>\n",
       "    </tr>\n",
       "  </tbody>\n",
       "</table>\n",
       "</div>"
      ]
     },
     "execution_count": 2,
     "metadata": {},
     "output_type": "execute_result"
    }
   ],
   "execution_count": 2
  },
  {
   "metadata": {
    "ExecuteTime": {
     "end_time": "2025-08-24T07:28:32.471984Z",
     "start_time": "2025-08-24T07:28:32.469957Z"
    }
   },
   "cell_type": "code",
   "source": [
    "# 2. Build the FuzzyPipeline\n",
    "pipeline = FuzzyPipeline(name=\"BasicDataProcessingPipeline\")\n",
    "\n",
    "# Define the input for the pipeline\n",
    "# 管道的输入是一个名为 'raw_data' 的 CrispTable\n",
    "raw_data_input = pipeline.input(\"raw_data\", contract='CrispTable')"
   ],
   "id": "7da3e95712b0e3a2",
   "outputs": [],
   "execution_count": 3
  },
  {
   "metadata": {
    "ExecuteTime": {
     "end_time": "2025-08-24T07:28:32.822855Z",
     "start_time": "2025-08-24T07:28:32.819953Z"
    }
   },
   "cell_type": "code",
   "source": [
    "# Step 2.1: Normalize the data using Min-Max scaling (column-wise)\n",
    "# 使用 NormalizationTool 对原始数据进行列向的 Min-Max 归一化\n",
    "normalizer = NormalizationTool(method='min_max', axis=0)\n",
    "normalized_data_output = pipeline.add(normalizer.run, data=raw_data_input)"
   ],
   "id": "6f629960da38b157",
   "outputs": [],
   "execution_count": 4
  },
  {
   "metadata": {
    "ExecuteTime": {
     "end_time": "2025-08-24T07:28:33.078818Z",
     "start_time": "2025-08-24T07:28:33.076061Z"
    }
   },
   "cell_type": "code",
   "source": [
    "# Step 2.2: Calculate statistics on the normalized data\n",
    "# 使用 StatisticsTool 计算归一化后数据的整体统计信息\n",
    "stats_calculator = StatisticsTool(axis=0) # axis=0 for column-wise stats\n",
    "statistics_output = pipeline.add(stats_calculator.run, data=normalized_data_output)"
   ],
   "id": "c672550c90aa7306",
   "outputs": [],
   "execution_count": 5
  },
  {
   "metadata": {
    "ExecuteTime": {
     "end_time": "2025-08-24T07:28:33.274640Z",
     "start_time": "2025-08-24T07:28:33.271965Z"
    }
   },
   "cell_type": "code",
   "source": [
    "# Step 2.3: Aggregate the normalized data (e.g., calculate mean for each row)\n",
    "# 使用 SimpleAggregationTool 计算每行的平均值\n",
    "aggregator = SimpleAggregationTool(operation='mean', axis=1)\n",
    "aggregated_values_output = pipeline.add(aggregator.run, data=normalized_data_output)"
   ],
   "id": "80b66261949768ec",
   "outputs": [],
   "execution_count": 6
  },
  {
   "metadata": {
    "ExecuteTime": {
     "end_time": "2025-08-24T07:28:33.449347Z",
     "start_time": "2025-08-24T07:28:33.447021Z"
    }
   },
   "cell_type": "code",
   "source": [
    "# Step 2.4: Demonstrate WeightNormalizationTool separately (as it takes a WeightVector, not CrispTable)\n",
    "# 创建一个独立的权重归一化步骤，它不直接依赖于前面的 CrispTable 流程\n",
    "# 假设我们有一个初始权重向量\n",
    "initial_weights = np.array([0.2, 0.5, 0.3, 0.1]) # 这是一个 WeightVector\n",
    "weights_input = pipeline.input(\"initial_weights\", contract='WeightVector')\n",
    "\n",
    "weight_normalizer = WeightNormalizationTool()\n",
    "normalized_weights_output = pipeline.add(weight_normalizer.run, weights=weights_input)"
   ],
   "id": "1125b53e0d01667e",
   "outputs": [],
   "execution_count": 7
  },
  {
   "metadata": {
    "ExecuteTime": {
     "end_time": "2025-08-24T07:28:33.885699Z",
     "start_time": "2025-08-24T07:28:33.878937Z"
    }
   },
   "cell_type": "code",
   "source": [
    "# 3. Run the pipeline\n",
    "# 运行管道，传入原始数据和初始权重\n",
    "# 注意：如果管道有多个输入，initial_data 必须是一个字典\n",
    "results = pipeline.run(\n",
    "    initial_data={\n",
    "        \"raw_data\": data,\n",
    "        \"initial_weights\": initial_weights\n",
    "    },\n",
    "    return_intermediate=True # 返回所有中间结果，便于查看\n",
    ")\n",
    "final_outputs, intermediate_results = results\n",
    "print(\"\\n--- Pipeline Execution Results ---\")"
   ],
   "id": "31a65405b64309d1",
   "outputs": [
    {
     "name": "stdout",
     "output_type": "stream",
     "text": [
      "\n",
      "--- Pipeline Execution Results ---\n"
     ]
    }
   ],
   "execution_count": 8
  },
  {
   "metadata": {
    "ExecuteTime": {
     "end_time": "2025-08-24T07:28:34.471754Z",
     "start_time": "2025-08-24T07:28:34.466706Z"
    }
   },
   "cell_type": "code",
   "source": [
    "print(\"\\nFinal Outputs (from terminal nodes):\")\n",
    "# 根据 _pipeline.py 中 _format_final_output 的逻辑，如果只有一个输出，直接返回；\n",
    "# 如果有多个，返回一个字典，键是步骤的 display_name。\n",
    "# 这里我们有三个末端节点：statistics_output, aggregated_values_output, normalized_weights_output\n",
    "# 所以 final_outputs 会是一个字典\n",
    "for key, value in final_outputs.items():\n",
    "    print(f\"\\nOutput '{key}':\")\n",
    "    print(value)"
   ],
   "id": "86ab303d9e5abe3f",
   "outputs": [
    {
     "name": "stdout",
     "output_type": "stream",
     "text": [
      "\n",
      "Final Outputs (from terminal nodes):\n",
      "\n",
      "Output 'StatisticsTool.run':\n",
      "{'statistics': {'mean': 0.47916666666666674, 'std': 0.3805530210783405, 'min': 0.0, 'max': 1.0, 'median': 0.41666666666666663, 'count': 12}}\n",
      "\n",
      "Output 'WeightNormalizationTool.run':\n",
      "{'normalized_weights': array([0.18181818, 0.45454545, 0.27272727, 0.09090909])}\n",
      "\n",
      "Output 'SimpleAggregationTool.run':\n",
      "{'aggregated_values': Alt_1    0.166667\n",
      "Alt_2    0.583333\n",
      "Alt_3    0.527778\n",
      "Alt_4    0.638889\n",
      "dtype: float64}\n"
     ]
    }
   ],
   "execution_count": 9
  },
  {
   "metadata": {
    "ExecuteTime": {
     "end_time": "2025-08-24T07:28:55.197360Z",
     "start_time": "2025-08-24T07:28:55.193909Z"
    }
   },
   "cell_type": "code",
   "source": [
    "# Print intermediate results (for all steps)\n",
    "print(\"\\nIntermediate Results (all steps):\")\n",
    "for step_id, result_data in intermediate_results.items():\n",
    "    step_info = pipeline.get_step_info(step_id)\n",
    "    print(f\"\\nStep {step_info}:\")\n",
    "    print(result_data)"
   ],
   "id": "9aca258d470438f3",
   "outputs": [
    {
     "name": "stdout",
     "output_type": "stream",
     "text": [
      "\n",
      "Intermediate Results (all steps):\n",
      "\n",
      "Step <StepMetadata id='input_raw_data_86fbbab5', name='input.raw_data', inputs=[], input_contracts={}, outputs=['output'], output_contracts={'output': 'CrispTable'}>:\n",
      "       Criteria_A  Criteria_B  Criteria_C\n",
      "Alt_1          10         100           5\n",
      "Alt_2          25          80           8\n",
      "Alt_3          15         120           6\n",
      "Alt_4          30          90           7\n",
      "\n",
      "Step <StepMetadata id='input_initial_weights_8124e5e9', name='input.initial_weights', inputs=[], input_contracts={}, outputs=['output'], output_contracts={'output': 'WeightVector'}>:\n",
      "[0.2 0.5 0.3 0.1]\n",
      "\n",
      "Step <StepMetadata id='NormalizationTool_run_0babfeef', name='NormalizationTool.run', inputs=['data'], input_contracts={'data': 'CrispTable'}, outputs=['normalized_data'], output_contracts={'normalized_data': 'CrispTable'}>:\n",
      "{'normalized_data':        Criteria_A  Criteria_B  Criteria_C\n",
      "Alt_1        0.00        0.50    0.000000\n",
      "Alt_2        0.75        0.00    1.000000\n",
      "Alt_3        0.25        1.00    0.333333\n",
      "Alt_4        1.00        0.25    0.666667}\n",
      "\n",
      "Step <StepMetadata id='WeightNormalizationTool_run_774c8be1', name='WeightNormalizationTool.run', inputs=['weights'], input_contracts={'weights': 'WeightVector'}, outputs=['normalized_weights'], output_contracts={'normalized_weights': 'NormalizedWeights'}>:\n",
      "{'normalized_weights': array([0.18181818, 0.45454545, 0.27272727, 0.09090909])}\n",
      "\n",
      "Step <StepMetadata id='StatisticsTool_run_67318712', name='StatisticsTool.run', inputs=['data'], input_contracts={'data': 'CrispTable'}, outputs=['statistics'], output_contracts={'statistics': 'StatisticsDict'}>:\n",
      "{'statistics': {'mean': 0.47916666666666674, 'std': 0.3805530210783405, 'min': 0.0, 'max': 1.0, 'median': 0.41666666666666663, 'count': 12}}\n",
      "\n",
      "Step <StepMetadata id='SimpleAggregationTool_run_a2b279f4', name='SimpleAggregationTool.run', inputs=['data'], input_contracts={'data': 'CrispTable'}, outputs=['aggregated_values'], output_contracts={'aggregated_values': 'WeightVector'}>:\n",
      "{'aggregated_values': Alt_1    0.166667\n",
      "Alt_2    0.583333\n",
      "Alt_3    0.527778\n",
      "Alt_4    0.638889\n",
      "dtype: float64}\n"
     ]
    }
   ],
   "execution_count": 11
  },
  {
   "metadata": {},
   "cell_type": "code",
   "source": "",
   "id": "d8011762343036f",
   "outputs": [],
   "execution_count": null
  }
 ],
 "metadata": {
  "kernelspec": {
   "display_name": "Python 3",
   "language": "python",
   "name": "python3"
  },
  "language_info": {
   "codemirror_mode": {
    "name": "ipython",
    "version": 2
   },
   "file_extension": ".py",
   "mimetype": "text/x-python",
   "name": "python",
   "nbconvert_exporter": "python",
   "pygments_lexer": "ipython2",
   "version": "2.7.6"
  }
 },
 "nbformat": 4,
 "nbformat_minor": 5
}
