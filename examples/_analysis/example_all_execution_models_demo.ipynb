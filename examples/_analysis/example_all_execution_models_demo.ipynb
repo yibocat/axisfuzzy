{
 "cells": [
  {
   "cell_type": "code",
   "id": "initial_id",
   "metadata": {
    "collapsed": true,
    "ExecuteTime": {
     "end_time": "2025-08-24T17:10:41.741234Z",
     "start_time": "2025-08-24T17:10:41.050916Z"
    }
   },
   "source": [
    "\"\"\"\n",
    "A comprehensive demonstration of all three pipeline execution modes:\n",
    "1. `run()`: For direct, one-shot execution.\n",
    "2. `step_by_step()` with a `for` loop: For observing a full run.\n",
    "3. `step_by_step()` with manual `next()`: For interactive debugging.\n",
    "4. `start_execution()`: For advanced, stateful, chainable execution.\n",
    "\"\"\"\n",
    "\n",
    "import pandas as pd\n",
    "from axisfuzzy.analysis._pipeline import FuzzyPipeline\n",
    "from axisfuzzy.analysis._components.basic import (\n",
    "    NormalizationTool, StatisticsTool, SimpleAggregationTool)"
   ],
   "outputs": [],
   "execution_count": 1
  },
  {
   "metadata": {
    "ExecuteTime": {
     "end_time": "2025-08-24T17:10:42.243606Z",
     "start_time": "2025-08-24T17:10:42.237651Z"
    }
   },
   "cell_type": "code",
   "source": [
    "# --- 1. Setup: Create Data and Pipeline ---\n",
    "data = pd.DataFrame({\n",
    "    'Cost': [100, 200, 150, 180],\n",
    "    'Quality': [8, 9, 7, 8.5],\n",
    "    'Speed': [50, 60, 55, 58]\n",
    "}, index=['Product_A', 'Product_B', 'Product_C', 'Product_D'])\n",
    "\n",
    "p = FuzzyPipeline()\n",
    "data_input = p.input()\n",
    "normalized = p.add(NormalizationTool(method='min_max', axis=0).run, data=data_input)\n",
    "stats = p.add(StatisticsTool(axis=0).run, data=normalized)\n",
    "aggregated = p.add(SimpleAggregationTool(operation='mean', axis=1).run, data=normalized)\n",
    "\n",
    "print(\"=\" * 70)\n",
    "print(\"Pipeline and Data are ready for demonstration.\")\n",
    "print(\"=\" * 70)"
   ],
   "id": "6333aa65ca410fb4",
   "outputs": [
    {
     "name": "stdout",
     "output_type": "stream",
     "text": [
      "======================================================================\n",
      "Pipeline and Data are ready for demonstration.\n",
      "======================================================================\n"
     ]
    }
   ],
   "execution_count": 2
  },
  {
   "metadata": {
    "ExecuteTime": {
     "end_time": "2025-08-24T17:10:42.755683Z",
     "start_time": "2025-08-24T17:10:42.746049Z"
    }
   },
   "cell_type": "code",
   "source": [
    "# --- 2. Mode 1: `run()` - The Direct Approach ---\n",
    "print(\"\\n>>> MODE 1: Direct execution with `run()` <<<\")\n",
    "final_result, intermediate_results = p.run({\"default_input\": data}, return_intermediate=True)\n",
    "print(\"✅ `run()` execution complete.\")\n",
    "print(\"Final Result (output of terminal nodes):\")\n",
    "print(final_result)\n",
    "print(f\"Total intermediate steps captured: {len(intermediate_results)}\")\n",
    "print(\"-\" * 70)"
   ],
   "id": "7b162ec990bba521",
   "outputs": [
    {
     "name": "stdout",
     "output_type": "stream",
     "text": [
      "\n",
      ">>> MODE 1: Direct execution with `run()` <<<\n",
      "✅ `run()` execution complete.\n",
      "Final Result (output of terminal nodes):\n",
      "{'SimpleAggregationTool.run': {'aggregated_values': Product_A    0.166667\n",
      "Product_B    1.000000\n",
      "Product_C    0.333333\n",
      "Product_D    0.783333\n",
      "dtype: float64}, 'StatisticsTool.run': {'statistics': {'mean': 0.5708333333333333, 'std': 0.3744208490752381, 'min': 0.0, 'max': 1.0, 'median': 0.625, 'count': 12}}}\n",
      "Total intermediate steps captured: 4\n",
      "----------------------------------------------------------------------\n"
     ]
    }
   ],
   "execution_count": 3
  },
  {
   "metadata": {
    "ExecuteTime": {
     "end_time": "2025-08-24T17:10:43.565523Z",
     "start_time": "2025-08-24T17:10:43.559037Z"
    }
   },
   "cell_type": "code",
   "source": [
    "# --- 3. Mode 2: `step_by_step()` with `for` loop - The Observer's Approach ---\n",
    "print(\"\\n>>> MODE 2: Iterative execution with `step_by_step()` and `for` loop <<<\")\n",
    "for step_result in p.step_by_step({'default_input': data}):\n",
    "    print(f\"  - Executed: {step_result['step_name']} (Index: {step_result['step_index']})\")\n",
    "print(\"✅ `for` loop execution complete.\")\n",
    "print(\"-\" * 70)"
   ],
   "id": "98c94f69180b5828",
   "outputs": [
    {
     "name": "stdout",
     "output_type": "stream",
     "text": [
      "\n",
      ">>> MODE 2: Iterative execution with `step_by_step()` and `for` loop <<<\n",
      "  - Executed: NormalizationTool.run (Index: 0)\n",
      "  - Executed: StatisticsTool.run (Index: 1)\n",
      "  - Executed: SimpleAggregationTool.run (Index: 2)\n",
      "✅ `for` loop execution complete.\n",
      "----------------------------------------------------------------------\n"
     ]
    }
   ],
   "execution_count": 4
  },
  {
   "metadata": {
    "ExecuteTime": {
     "end_time": "2025-08-24T17:10:46.215974Z",
     "start_time": "2025-08-24T17:10:44.248782Z"
    }
   },
   "cell_type": "code",
   "source": [
    "# --- 4. Mode 3: `step_by_step()` with manual `next()` - The Debugger's Approach ---\n",
    "print(\"\\n>>> MODE 3: Manual step-by-step with `step_by_step()` and `next()` <<<\")\n",
    "iterator = p.step_by_step({'default_input': data})\n",
    "try:\n",
    "    print(\"Press Enter to execute each step manually.\")\n",
    "\n",
    "    input(\"  Press Enter for Step 1...\")\n",
    "    step1 = next(iterator)\n",
    "    print(f\"  ✅ Step 1 ('{step1['step_name']}') Done. Result keys: {list(step1['result'].keys())}\")\n",
    "\n",
    "    input(\"  Press Enter for Step 2...\")\n",
    "    step2 = next(iterator)\n",
    "    print(f\"  ✅ Step 2 ('{step2['step_name']}') Done. Stats: {step2['result']['statistics']['mean']:.2f} (mean)\")\n",
    "\n",
    "    input(\"  Press Enter for Step 3...\")\n",
    "    step3 = next(iterator)\n",
    "    print(f\"  ✅ Step 3 ('{step3['step_name']}') Done. Aggregated shape: {step3['result']['aggregated_values'].shape}\")\n",
    "\n",
    "except StopIteration:\n",
    "    pass\n",
    "finally:\n",
    "    print(\"✅ Manual `next()` execution demonstration complete.\")\n",
    "print(\"-\" * 70)"
   ],
   "id": "d85e04eda533ccb6",
   "outputs": [
    {
     "name": "stdout",
     "output_type": "stream",
     "text": [
      "\n",
      ">>> MODE 3: Manual step-by-step with `step_by_step()` and `next()` <<<\n",
      "Press Enter to execute each step manually.\n",
      "  ✅ Step 1 ('NormalizationTool.run') Done. Result keys: ['normalized_data']\n",
      "  ✅ Step 2 ('StatisticsTool.run') Done. Stats: 0.57 (mean)\n",
      "  ✅ Step 3 ('SimpleAggregationTool.run') Done. Aggregated shape: (4,)\n",
      "✅ Manual `next()` execution demonstration complete.\n",
      "----------------------------------------------------------------------\n"
     ]
    }
   ],
   "execution_count": 5
  },
  {
   "metadata": {
    "ExecuteTime": {
     "end_time": "2025-08-24T17:10:53.375459Z",
     "start_time": "2025-08-24T17:10:53.368963Z"
    }
   },
   "cell_type": "code",
   "source": [
    "# --- 5. Mode 4: `start_execution()` - The Advanced/Chainable Approach ---\n",
    "print(\"\\n>>> MODE 4: Chainable execution with `start_execution()` <<<\")\n",
    "try:\n",
    "    state0 = p.start_execution({\"default_input\": data})\n",
    "    print(f\"  Initial state created: {state0}\")\n",
    "\n",
    "    state1 = state0.run_next()\n",
    "    print(f\"  State after step 1: {state1}\")\n",
    "\n",
    "    state2 = state1.run_next()\n",
    "    print(f\"  State after step 2: {state2}\")\n",
    "\n",
    "    final_state = state2.run_all()\n",
    "    print(f\"  Final state after running all remaining: {final_state}\")\n",
    "\n",
    "    print(\"\\n  Final state contains results for all steps:\")\n",
    "    for step_id in final_state.step_results:\n",
    "        step_name = final_state.pipeline.get_step_info(step_id)['display_name']\n",
    "        print(f\"    - {step_name}\")\n",
    "\n",
    "except Exception as e:\n",
    "    print(f\"  An error occurred: {e}\")\n",
    "finally:\n",
    "    print(\"✅ Chainable execution demonstration complete.\")\n",
    "print(\"=\" * 70)"
   ],
   "id": "4d0fc076e867c9a3",
   "outputs": [
    {
     "name": "stdout",
     "output_type": "stream",
     "text": [
      "\n",
      ">>> MODE 4: Chainable execution with `start_execution()` <<<\n",
      "  Initial state created: <ExecutionState (Next step 1/3), latest_step_completed='Initial'>\n",
      "  State after step 1: <ExecutionState (Next step 2/3), latest_step_completed='NormalizationTool.run'>\n",
      "  State after step 2: <ExecutionState (Next step 3/3), latest_step_completed='StatisticsTool.run'>\n",
      "  Final state after running all remaining: <ExecutionState (Complete), latest_step_completed='SimpleAggregationTool.run'>\n",
      "\n",
      "  Final state contains results for all steps:\n",
      "  An error occurred: 'StepMetadata' object is not subscriptable\n",
      "✅ Chainable execution demonstration complete.\n",
      "======================================================================\n"
     ]
    }
   ],
   "execution_count": 6
  },
  {
   "metadata": {
    "ExecuteTime": {
     "end_time": "2025-08-24T17:10:54.087602Z",
     "start_time": "2025-08-24T17:10:54.085550Z"
    }
   },
   "cell_type": "code",
   "source": "",
   "id": "501f22b98a2efa05",
   "outputs": [],
   "execution_count": null
  },
  {
   "metadata": {},
   "cell_type": "code",
   "outputs": [],
   "execution_count": null,
   "source": "",
   "id": "83d881658bfbc67f"
  }
 ],
 "metadata": {
  "kernelspec": {
   "display_name": "Python 3",
   "language": "python",
   "name": "python3"
  },
  "language_info": {
   "codemirror_mode": {
    "name": "ipython",
    "version": 2
   },
   "file_extension": ".py",
   "mimetype": "text/x-python",
   "name": "python",
   "nbconvert_exporter": "python",
   "pygments_lexer": "ipython2",
   "version": "2.7.6"
  }
 },
 "nbformat": 4,
 "nbformat_minor": 5
}
