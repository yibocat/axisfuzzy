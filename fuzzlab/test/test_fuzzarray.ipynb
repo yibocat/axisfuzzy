{
 "cells": [
  {
   "cell_type": "code",
   "id": "initial_id",
   "metadata": {
    "collapsed": true
   },
   "source": [
    "import numpy as np\n",
    "from fuzzlab.core.t_fuzzarray import Fuzzarray, fuzzarray\n",
    "from fuzzlab.core.registry import get_fuzznum_registry\n",
    "from fuzzlab.fuzzy.qrofs.t_qrofn_backend import QROFNBackend\n",
    "from fuzzlab.core.fuzznums import Fuzznum\n",
    "\n",
    "def test_fuzzarray_basic_properties():\n",
    "    # 测试基本属性\n",
    "    backend = QROFNBackend(shape=(2, 3), q=2)\n",
    "    fa = Fuzzarray(backend=backend)\n",
    "\n",
    "    assert fa.shape == (2, 3)\n",
    "    assert fa.size == 6\n",
    "    assert fa.mtype == \"qrofn\"\n",
    "    assert fa.q == 2\n",
    "\n",
    "def test_fuzzarray_indexing():\n",
    "    # 测试索引和切片\n",
    "    backend = QROFNBackend(shape=(2, 2), q=2)\n",
    "    backend.mds[0, 0] = 0.5\n",
    "    backend.nmds[0, 0] = 0.3\n",
    "    fa = Fuzzarray(backend=backend)\n",
    "\n",
    "    # 单元素访问\n",
    "    elem = fa[0, 0]\n",
    "    assert elem.md == 0.5\n",
    "    assert elem.nmd == 0.3\n",
    "\n",
    "    # 切片访问\n",
    "    sliced = fa[0, :]\n",
    "    assert sliced.shape == (2,)\n",
    "    assert sliced.backend.mds[0] == 0.5\n",
    "\n",
    "def test_fuzzarray_construction():\n",
    "    # 测试通过 Fuzznum 构造\n",
    "    fuzznum = Fuzznum(mtype=\"qrofn\", q=2).create(md=0.6, nmd=0.4)\n",
    "    fa = fuzzarray(data=fuzznum, shape=(2, 2), mtype=\"qrofn\", q=2)\n",
    "\n",
    "    assert fa.shape == (2, 2)\n",
    "    assert np.all(fa.backend.mds == 0.6)\n",
    "    assert np.all(fa.backend.nmds == 0.4)\n",
    "\n",
    "def test_backend_registration():\n",
    "    # 测试 QROFNBackend 是否注册成功\n",
    "    registry = get_fuzznum_registry()\n",
    "    backend_cls = registry.backends.get(\"qrofn\")\n",
    "    assert backend_cls is QROFNBackend\n",
    "\n",
    "def test_fuzzarray_operator_overload():\n",
    "    # 测试运算符重载是否调用 dispatcher.operate\n",
    "    fuzznum1 = Fuzznum(mtype=\"qrofn\", q=2).create(md=0.6, nmd=0.4)\n",
    "    fuzznum2 = Fuzznum(mtype=\"qrofn\", q=2).create(md=0.3, nmd=0.7)\n",
    "    fa1 = fuzzarray(data=fuzznum1, shape=(2, 2), mtype=\"qrofn\", q=2)\n",
    "    fa2 = fuzzarray(data=fuzznum2, shape=(2, 2), mtype=\"qrofn\", q=2)\n",
    "\n",
    "    # result = fa1 + fa2  # 调用 __add__\n",
    "    # assert result.shape == (2, 2)\n",
    "\n",
    "if __name__ == \"__main__\":\n",
    "    test_fuzzarray_basic_properties()\n",
    "    test_fuzzarray_indexing()\n",
    "    test_fuzzarray_construction()\n",
    "    test_backend_registration()\n",
    "    test_fuzzarray_operator_overload()\n",
    "    print(\"All tests passed!\")"
   ],
   "outputs": [],
   "execution_count": null
  },
  {
   "metadata": {},
   "cell_type": "code",
   "source": "",
   "id": "701e7159e9e30e0d",
   "outputs": [],
   "execution_count": null
  }
 ],
 "metadata": {
  "kernelspec": {
   "display_name": "Python 3",
   "language": "python",
   "name": "python3"
  },
  "language_info": {
   "codemirror_mode": {
    "name": "ipython",
    "version": 2
   },
   "file_extension": ".py",
   "mimetype": "text/x-python",
   "name": "python",
   "nbconvert_exporter": "python",
   "pygments_lexer": "ipython2",
   "version": "2.7.6"
  }
 },
 "nbformat": 4,
 "nbformat_minor": 5
}
